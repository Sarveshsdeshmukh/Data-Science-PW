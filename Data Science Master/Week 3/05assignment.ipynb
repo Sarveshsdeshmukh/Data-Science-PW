{
 "cells": [
  {
   "cell_type": "code",
   "execution_count": 28,
   "id": "7d4c0ecd-2fb7-4e1c-9065-8a3bf2405a80",
   "metadata": {},
   "outputs": [
    {
     "data": {
      "text/plain": [
       "[('Sachin Tendulkar', 34357),\n",
       " ('Ricky Ponting', 27483),\n",
       " ('Jack Kallis', 25534),\n",
       " ('Virat Kohli', 24936)]"
      ]
     },
     "execution_count": 28,
     "metadata": {},
     "output_type": "execute_result"
    }
   ],
   "source": [
    "# Q1. Create a python program to sort the given\n",
    "# list of tuples based on integer value using a\n",
    "# lambda function.\n",
    "# [('Sachin Tendulkar', 34357), ('Ricky Ponting', 27483),\n",
    "# ('Jack Kallis', 25534), ('Virat Kohli', 24936)]\n",
    "\n",
    "li = [('Sachin Tendulkar', 34357), ('Ricky Ponting', 27483), ('Jack Kallis', 25534), ('Virat Kohli', 24936)]\n",
    "\n",
    "sorted_li = sorted(li, key=lambda x: x[1], reverse=True)\n",
    "sorted_li"
   ]
  },
  {
   "cell_type": "code",
   "execution_count": 29,
   "id": "78080918-8755-4396-8a95-6e6d971cef0f",
   "metadata": {},
   "outputs": [
    {
     "data": {
      "text/plain": [
       "[1, 4, 9, 16, 25, 36, 49, 64, 81, 100]"
      ]
     },
     "execution_count": 29,
     "metadata": {},
     "output_type": "execute_result"
    }
   ],
   "source": [
    "# Q2. Write a Python Program to find\n",
    "# the squares of all the numbers in the given list of integers using\n",
    "# lambda and map functions.\n",
    "# [1, 2, 3, 4, 5, 6, 7, 8, 9, 10]\n",
    "\n",
    "\n",
    "li = [1, 2, 3, 4, 5, 6, 7, 8, 9, 10]\n",
    "\n",
    "list(map(lambda x : x**2,li))"
   ]
  },
  {
   "cell_type": "code",
   "execution_count": 30,
   "id": "3bd53831-4c80-407b-b055-6a9d2b6eb335",
   "metadata": {},
   "outputs": [
    {
     "data": {
      "text/plain": [
       "('1', '2', '3', '4', '5', '6', '7', '8', '9', '10')"
      ]
     },
     "execution_count": 30,
     "metadata": {},
     "output_type": "execute_result"
    }
   ],
   "source": [
    "# Q3. Write a python program to convert the given\n",
    "# list of integers into a tuple of strings. Use map and\n",
    "# lambda functions\n",
    "# Given String: [1, 2, 3, 4, 5, 6, 7, 8, 9, 10]\n",
    "# Expected output: ('1', '2', '3', '4', '5', '6', '7', '8', '9', '10')\n",
    "\n",
    "String=[1, 2, 3, 4, 5, 6, 7, 8, 9, 10]\n",
    "tuple(map(lambda x : str(x),String))"
   ]
  },
  {
   "cell_type": "code",
   "execution_count": 38,
   "id": "05add895-d711-42be-838c-5718e94c7529",
   "metadata": {},
   "outputs": [
    {
     "data": {
      "text/plain": [
       "10888869450418352160768000000"
      ]
     },
     "execution_count": 38,
     "metadata": {},
     "output_type": "execute_result"
    }
   ],
   "source": [
    "# Write a python program using reduce function to compute the product of a list containing numbers\n",
    "# from 1 to 25.\n",
    "from functools import reduce\n",
    "\n",
    "reduce(lambda a,b:a*b,list(range(1,28)))\n"
   ]
  },
  {
   "cell_type": "code",
   "execution_count": 41,
   "id": "99fe6ddd-bc97-42a4-94d1-18674780e68a",
   "metadata": {},
   "outputs": [
    {
     "data": {
      "text/plain": [
       "[6, 60, 90, 120]"
      ]
     },
     "execution_count": 41,
     "metadata": {},
     "output_type": "execute_result"
    }
   ],
   "source": [
    "# Write a python program to filter the \n",
    "# numbers in a given list that are divisible by 2 and 3 using the\n",
    "# filter function.\n",
    "# \n",
    "\n",
    "li = [2, 3, 6, 9, 27, 60, 90, 120, 55, 46]\n",
    "\n",
    "list(filter(lambda x : x if x%2==0 and x%3==0 else False,li))"
   ]
  },
  {
   "cell_type": "code",
   "execution_count": 43,
   "id": "4e34d628-7335-4d9a-b840-7a54d9ff2b93",
   "metadata": {},
   "outputs": [
    {
     "data": {
      "text/plain": [
       "['php', 'aba', 'radar', 'level']"
      ]
     },
     "execution_count": 43,
     "metadata": {},
     "output_type": "execute_result"
    }
   ],
   "source": [
    "# Q6. Write a python program to find palindromes\n",
    "# in the given list of strings using lambda and filter\n",
    "# function.\n",
    "li =['python', 'php', 'aba', 'radar', 'level']\n",
    "\n",
    "def palindrome(a):\n",
    "    b = a[::-1]\n",
    "    if a == b:\n",
    "        return a\n",
    "\n",
    "list(filter(palindrome,li))"
   ]
  },
  {
   "cell_type": "code",
   "execution_count": 45,
   "id": "b705ba0b-005a-4b56-b030-80045e742f36",
   "metadata": {},
   "outputs": [
    {
     "data": {
      "text/plain": [
       "[1, 3, 5, 7, 9, 11, 13, 15, 17, 19, 21, 23]"
      ]
     },
     "execution_count": 45,
     "metadata": {},
     "output_type": "execute_result"
    }
   ],
   "source": [
    "# # Part 1\n",
    "# Which keyword is used to create a function? \n",
    "# Create a function to return a list of odd numbers in the\n",
    "# range of 1 to 25.\n",
    "\n",
    "l = list(range(25))\n",
    "def oddNumFromList(l):\n",
    "    li = []\n",
    "    for i in l:\n",
    "        if i%2 != 0:\n",
    "            li.append(i)\n",
    "    return li\n",
    "\n",
    "oddNumFromList(l)"
   ]
  },
  {
   "cell_type": "code",
   "execution_count": null,
   "id": "6f8bb245-220f-489c-a4a2-67cdc65c7e18",
   "metadata": {},
   "outputs": [],
   "source": [
    "# Why *args and **kwargs is used in some functions? Create a function each for *args and **kwargs\n",
    "# to demonstrate their use."
   ]
  },
  {
   "cell_type": "code",
   "execution_count": 2,
   "id": "801ba057-8e80-4a54-b4c4-414055b57aa4",
   "metadata": {},
   "outputs": [
    {
     "name": "stdout",
     "output_type": "stream",
     "text": [
      "0 1 1 2 3 5 8 13 21 34 "
     ]
    }
   ],
   "source": [
    "# Q6. Write a python program to print the first\n",
    "# 10 Fibonacci numbers using a while loop.\n",
    "\n",
    "\n",
    "# Initialize variables to store the first two Fibonacci numbers\n",
    "a, b = 0, 1\n",
    "\n",
    "# Counter to keep track of how many Fibonacci numbers have been printed\n",
    "count = 0\n",
    "\n",
    "# Iterate using a while loop until the count reaches 10\n",
    "while count < 10:\n",
    "    # Print the current Fibonacci number\n",
    "    print(a, end=\" \")\n",
    "\n",
    "    # Calculate the next Fibonacci number\n",
    "    a, b = b, a + b\n",
    "\n",
    "    # Increment the counter\n",
    "    count += 1\n"
   ]
  },
  {
   "cell_type": "code",
   "execution_count": 3,
   "id": "4d8fa9cb-60f5-48e9-9bab-cc55fa8847d8",
   "metadata": {},
   "outputs": [
    {
     "data": {
      "text/plain": [
       "['P', 'W', ' ', 'S', 'k', 'i', 'l', 'l', 's']"
      ]
     },
     "execution_count": 3,
     "metadata": {},
     "output_type": "execute_result"
    }
   ],
   "source": [
    "string = \"PW Skills\"\n",
    "\n",
    "list(string)"
   ]
  },
  {
   "cell_type": "code",
   "execution_count": null,
   "id": "40c67c91-d97e-4988-8bb0-1dc3e927d065",
   "metadata": {},
   "outputs": [],
   "source": []
  },
  {
   "cell_type": "code",
   "execution_count": null,
   "id": "cf00fcce-0713-4e4e-bbe3-c87ac1d09d2c",
   "metadata": {},
   "outputs": [],
   "source": []
  }
 ],
 "metadata": {
  "kernelspec": {
   "display_name": "Python 3 (ipykernel)",
   "language": "python",
   "name": "python3"
  },
  "language_info": {
   "codemirror_mode": {
    "name": "ipython",
    "version": 3
   },
   "file_extension": ".py",
   "mimetype": "text/x-python",
   "name": "python",
   "nbconvert_exporter": "python",
   "pygments_lexer": "ipython3",
   "version": "3.10.8"
  }
 },
 "nbformat": 4,
 "nbformat_minor": 5
}
