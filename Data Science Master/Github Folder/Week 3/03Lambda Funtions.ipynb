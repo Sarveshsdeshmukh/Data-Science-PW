{
 "cells": [
  {
   "cell_type": "code",
   "execution_count": 1,
   "id": "c04453f6-676a-4671-9599-cdc4323a1ac0",
   "metadata": {},
   "outputs": [],
   "source": [
    "# Lambda Funtions"
   ]
  },
  {
   "cell_type": "code",
   "execution_count": 2,
   "id": "34b6a2cb-fba7-4e4a-a91b-8c8eb92256fa",
   "metadata": {},
   "outputs": [],
   "source": [
    "# Lambda functions are used to create the functions in short lines"
   ]
  },
  {
   "cell_type": "code",
   "execution_count": 3,
   "id": "7b5fc80f-826f-483b-a4ee-b0f14e6259ed",
   "metadata": {},
   "outputs": [],
   "source": [
    "n = 3\n",
    "p = 2"
   ]
  },
  {
   "cell_type": "code",
   "execution_count": 6,
   "id": "6f30d0f5-e17a-4a41-a6ce-dfeee956c64d",
   "metadata": {},
   "outputs": [],
   "source": [
    "def pow(n,p):\n",
    "    res = n**p\n",
    "    return res"
   ]
  },
  {
   "cell_type": "code",
   "execution_count": 7,
   "id": "4b71faa3-8799-44c1-83de-c0832b7cb4ca",
   "metadata": {},
   "outputs": [
    {
     "data": {
      "text/plain": [
       "81"
      ]
     },
     "execution_count": 7,
     "metadata": {},
     "output_type": "execute_result"
    }
   ],
   "source": [
    "pow(3,4)"
   ]
  },
  {
   "cell_type": "code",
   "execution_count": 9,
   "id": "4e80f1b7-0a6a-4218-984f-7b579f545740",
   "metadata": {},
   "outputs": [],
   "source": [
    "a = lambda n,p:n**p"
   ]
  },
  {
   "cell_type": "code",
   "execution_count": 10,
   "id": "49c51ef7-dd84-4afe-b734-cca18c2bfc77",
   "metadata": {},
   "outputs": [
    {
     "data": {
      "text/plain": [
       "8"
      ]
     },
     "execution_count": 10,
     "metadata": {},
     "output_type": "execute_result"
    }
   ],
   "source": [
    "a(2,3)"
   ]
  },
  {
   "cell_type": "code",
   "execution_count": 11,
   "id": "7bb925f0-0c6e-49ce-aa7d-0fd3292ec466",
   "metadata": {},
   "outputs": [
    {
     "data": {
      "text/plain": [
       "387420489"
      ]
     },
     "execution_count": 11,
     "metadata": {},
     "output_type": "execute_result"
    }
   ],
   "source": [
    "a(9,9)"
   ]
  },
  {
   "cell_type": "code",
   "execution_count": 18,
   "id": "0963f35c-0caf-4846-a218-4ad9b0086f5a",
   "metadata": {},
   "outputs": [],
   "source": [
    "# Lambada functions are also known as oneliner and anoynimous function"
   ]
  },
  {
   "cell_type": "code",
   "execution_count": 19,
   "id": "1794fb07-c3e5-4e8d-899d-5e6c5cfe05d2",
   "metadata": {},
   "outputs": [],
   "source": [
    "d = lambda a,b:a+b"
   ]
  },
  {
   "cell_type": "code",
   "execution_count": 20,
   "id": "f1cf6654-fb7e-4e0b-b945-ce1a8ca700d1",
   "metadata": {},
   "outputs": [
    {
     "data": {
      "text/plain": [
       "3"
      ]
     },
     "execution_count": 20,
     "metadata": {},
     "output_type": "execute_result"
    }
   ],
   "source": [
    "d(1,2)"
   ]
  },
  {
   "cell_type": "code",
   "execution_count": 21,
   "id": "ffd5e811-e2cf-45b7-b02b-9937d8b5f88a",
   "metadata": {},
   "outputs": [],
   "source": [
    "celToFer = lambda cel : 1.8*cel + 32"
   ]
  },
  {
   "cell_type": "code",
   "execution_count": 23,
   "id": "d07cff6e-15e1-4618-bb06-d2c85b313b4d",
   "metadata": {},
   "outputs": [
    {
     "data": {
      "text/plain": [
       "98.60000000000001"
      ]
     },
     "execution_count": 23,
     "metadata": {},
     "output_type": "execute_result"
    }
   ],
   "source": [
    "celToFer(37)"
   ]
  },
  {
   "cell_type": "code",
   "execution_count": 24,
   "id": "cce66633-ec62-4a03-ae43-5b1825304752",
   "metadata": {},
   "outputs": [
    {
     "data": {
      "text/plain": [
       "function"
      ]
     },
     "execution_count": 24,
     "metadata": {},
     "output_type": "execute_result"
    }
   ],
   "source": [
    "type(celToFer)"
   ]
  },
  {
   "cell_type": "code",
   "execution_count": 27,
   "id": "17fd5485-ad12-4861-9130-56c5f1c26195",
   "metadata": {},
   "outputs": [],
   "source": [
    "findMax = lambda x,y:x if x > y else y"
   ]
  },
  {
   "cell_type": "code",
   "execution_count": 28,
   "id": "ed617980-9a6e-49a8-a790-8b2275568cc8",
   "metadata": {},
   "outputs": [
    {
     "data": {
      "text/plain": [
       "34"
      ]
     },
     "execution_count": 28,
     "metadata": {},
     "output_type": "execute_result"
    }
   ],
   "source": [
    "findMax(23,34)"
   ]
  },
  {
   "cell_type": "code",
   "execution_count": 29,
   "id": "3e8ae239-2526-44c2-98b3-e1c32ee37901",
   "metadata": {},
   "outputs": [],
   "source": [
    "s = \"PW Skilss\""
   ]
  },
  {
   "cell_type": "code",
   "execution_count": 30,
   "id": "e3d1d38a-e690-41d5-a573-34e840c90d9a",
   "metadata": {},
   "outputs": [],
   "source": [
    "le = lambda s : len(s)"
   ]
  },
  {
   "cell_type": "code",
   "execution_count": 31,
   "id": "4ef29f6e-c67f-4f2e-a11e-53bea3176017",
   "metadata": {},
   "outputs": [
    {
     "data": {
      "text/plain": [
       "9"
      ]
     },
     "execution_count": 31,
     "metadata": {},
     "output_type": "execute_result"
    }
   ],
   "source": [
    "le(s)"
   ]
  },
  {
   "cell_type": "code",
   "execution_count": null,
   "id": "1edbf63f-a052-43ba-91b8-42121b90250e",
   "metadata": {},
   "outputs": [],
   "source": []
  }
 ],
 "metadata": {
  "kernelspec": {
   "display_name": "Python 3 (ipykernel)",
   "language": "python",
   "name": "python3"
  },
  "language_info": {
   "codemirror_mode": {
    "name": "ipython",
    "version": 3
   },
   "file_extension": ".py",
   "mimetype": "text/x-python",
   "name": "python",
   "nbconvert_exporter": "python",
   "pygments_lexer": "ipython3",
   "version": "3.10.8"
  }
 },
 "nbformat": 4,
 "nbformat_minor": 5
}
