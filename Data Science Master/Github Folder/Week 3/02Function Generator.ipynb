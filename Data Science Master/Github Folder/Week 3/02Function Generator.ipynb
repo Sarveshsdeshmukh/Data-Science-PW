{
 "cells": [
  {
   "cell_type": "code",
   "execution_count": 1,
   "id": "03ea9c87-5566-488f-800c-9c0e279877d2",
   "metadata": {},
   "outputs": [],
   "source": [
    "# function Generator"
   ]
  },
  {
   "cell_type": "code",
   "execution_count": 2,
   "id": "b94ae005-3407-4113-b8b5-00d58032b0d2",
   "metadata": {},
   "outputs": [
    {
     "data": {
      "text/plain": [
       "range(0, 10)"
      ]
     },
     "execution_count": 2,
     "metadata": {},
     "output_type": "execute_result"
    }
   ],
   "source": [
    "range(10)"
   ]
  },
  {
   "cell_type": "code",
   "execution_count": 4,
   "id": "b892af0e-9414-45b1-9c64-f789ddaffe84",
   "metadata": {},
   "outputs": [
    {
     "name": "stdout",
     "output_type": "stream",
     "text": [
      "1\n",
      "2\n",
      "3\n",
      "4\n",
      "5\n",
      "6\n",
      "7\n",
      "8\n",
      "9\n",
      "10\n",
      "11\n"
     ]
    }
   ],
   "source": [
    "for i in range(11):\n",
    "    print(i+1)"
   ]
  },
  {
   "cell_type": "code",
   "execution_count": 13,
   "id": "f9689bb1-1392-4e2d-84a6-511adbb61426",
   "metadata": {},
   "outputs": [],
   "source": [
    "# 1 ,1,2,3,5,...Fibonanci number\n",
    "def fib(n):\n",
    "    a , b = 0,1\n",
    "    for i in range(n):\n",
    "        b , a= a,b+a\n",
    "        print(a,b)"
   ]
  },
  {
   "cell_type": "code",
   "execution_count": 14,
   "id": "94ccf9c3-0890-4b73-8588-157048cb9413",
   "metadata": {},
   "outputs": [
    {
     "name": "stdout",
     "output_type": "stream",
     "text": [
      "1 0\n",
      "1 1\n",
      "2 1\n",
      "3 2\n",
      "5 3\n",
      "8 5\n",
      "13 8\n",
      "21 13\n",
      "34 21\n",
      "55 34\n",
      "89 55\n",
      "144 89\n",
      "233 144\n",
      "377 233\n",
      "610 377\n",
      "987 610\n",
      "1597 987\n",
      "2584 1597\n",
      "4181 2584\n",
      "6765 4181\n",
      "10946 6765\n",
      "17711 10946\n",
      "28657 17711\n",
      "46368 28657\n",
      "75025 46368\n",
      "121393 75025\n",
      "196418 121393\n",
      "317811 196418\n",
      "514229 317811\n",
      "832040 514229\n",
      "1346269 832040\n",
      "2178309 1346269\n",
      "3524578 2178309\n",
      "5702887 3524578\n",
      "9227465 5702887\n",
      "14930352 9227465\n",
      "24157817 14930352\n",
      "39088169 24157817\n",
      "63245986 39088169\n",
      "102334155 63245986\n",
      "165580141 102334155\n",
      "267914296 165580141\n",
      "433494437 267914296\n",
      "701408733 433494437\n",
      "1134903170 701408733\n",
      "1836311903 1134903170\n",
      "2971215073 1836311903\n",
      "4807526976 2971215073\n",
      "7778742049 4807526976\n",
      "12586269025 7778742049\n",
      "20365011074 12586269025\n",
      "32951280099 20365011074\n",
      "53316291173 32951280099\n",
      "86267571272 53316291173\n",
      "139583862445 86267571272\n",
      "225851433717 139583862445\n",
      "365435296162 225851433717\n",
      "591286729879 365435296162\n",
      "956722026041 591286729879\n",
      "1548008755920 956722026041\n",
      "2504730781961 1548008755920\n",
      "4052739537881 2504730781961\n",
      "6557470319842 4052739537881\n",
      "10610209857723 6557470319842\n",
      "17167680177565 10610209857723\n",
      "27777890035288 17167680177565\n",
      "44945570212853 27777890035288\n",
      "72723460248141 44945570212853\n",
      "117669030460994 72723460248141\n",
      "190392490709135 117669030460994\n",
      "308061521170129 190392490709135\n",
      "498454011879264 308061521170129\n",
      "806515533049393 498454011879264\n",
      "1304969544928657 806515533049393\n",
      "2111485077978050 1304969544928657\n",
      "3416454622906707 2111485077978050\n",
      "5527939700884757 3416454622906707\n",
      "8944394323791464 5527939700884757\n",
      "14472334024676221 8944394323791464\n",
      "23416728348467685 14472334024676221\n",
      "37889062373143906 23416728348467685\n",
      "61305790721611591 37889062373143906\n",
      "99194853094755497 61305790721611591\n",
      "160500643816367088 99194853094755497\n",
      "259695496911122585 160500643816367088\n",
      "420196140727489673 259695496911122585\n",
      "679891637638612258 420196140727489673\n",
      "1100087778366101931 679891637638612258\n",
      "1779979416004714189 1100087778366101931\n",
      "2880067194370816120 1779979416004714189\n",
      "4660046610375530309 2880067194370816120\n",
      "7540113804746346429 4660046610375530309\n",
      "12200160415121876738 7540113804746346429\n",
      "19740274219868223167 12200160415121876738\n",
      "31940434634990099905 19740274219868223167\n",
      "51680708854858323072 31940434634990099905\n",
      "83621143489848422977 51680708854858323072\n",
      "135301852344706746049 83621143489848422977\n",
      "218922995834555169026 135301852344706746049\n",
      "354224848179261915075 218922995834555169026\n"
     ]
    }
   ],
   "source": [
    "fib(100)"
   ]
  },
  {
   "cell_type": "code",
   "execution_count": 18,
   "id": "628d9dc1-9671-4f76-83b2-52b0b44d7b32",
   "metadata": {},
   "outputs": [],
   "source": [
    "# 1 ,1,2,3,5,...Fibonanci number\n",
    "def fib(n):\n",
    "    a , b = 0,1\n",
    "    for i in range(n):\n",
    "        yield a\n",
    "        b , a= a,b+a\n",
    "# here yield function is used to throw the value so memory optimization is \n",
    "#increases\n"
   ]
  },
  {
   "cell_type": "code",
   "execution_count": 19,
   "id": "67fa44ec-5378-4058-ab75-d3d78c690719",
   "metadata": {},
   "outputs": [
    {
     "data": {
      "text/plain": [
       "<generator object fib at 0x7f70587402e0>"
      ]
     },
     "execution_count": 19,
     "metadata": {},
     "output_type": "execute_result"
    }
   ],
   "source": [
    "fib(100)"
   ]
  },
  {
   "cell_type": "code",
   "execution_count": 20,
   "id": "468b365c-77cd-47a4-bf7a-4ec84d9bc21b",
   "metadata": {},
   "outputs": [
    {
     "name": "stdout",
     "output_type": "stream",
     "text": [
      "0\n",
      "1\n",
      "1\n",
      "2\n",
      "3\n",
      "5\n",
      "8\n",
      "13\n",
      "21\n",
      "34\n"
     ]
    }
   ],
   "source": [
    "for i in fib(10):\n",
    "    print(i)"
   ]
  },
  {
   "cell_type": "code",
   "execution_count": 21,
   "id": "df310c10-7547-4f54-98ce-b481c408c8c5",
   "metadata": {},
   "outputs": [],
   "source": [
    "# Yield is generator function \n",
    "# range is also generator function"
   ]
  },
  {
   "cell_type": "code",
   "execution_count": 23,
   "id": "bc760c70-02fb-4cc4-aa93-cf981f6b0072",
   "metadata": {},
   "outputs": [],
   "source": [
    "def fib_test(n):\n",
    "    a,b = 0,1\n",
    "    while True:\n",
    "        yield a\n",
    "        a,b = b,a+b"
   ]
  },
  {
   "cell_type": "code",
   "execution_count": 41,
   "id": "aed0f913-5d76-49e5-98c4-4cd72f807052",
   "metadata": {},
   "outputs": [
    {
     "data": {
      "text/plain": [
       "generator"
      ]
     },
     "execution_count": 41,
     "metadata": {},
     "output_type": "execute_result"
    }
   ],
   "source": [
    "fib = fib_test(10)\n",
    "type(fib)"
   ]
  },
  {
   "cell_type": "code",
   "execution_count": 42,
   "id": "2b429fa8-806f-4902-b02a-3806ce2d3036",
   "metadata": {},
   "outputs": [
    {
     "name": "stdout",
     "output_type": "stream",
     "text": [
      "0\n",
      "1\n",
      "1\n",
      "2\n",
      "3\n",
      "5\n",
      "8\n",
      "13\n",
      "21\n",
      "34\n"
     ]
    }
   ],
   "source": [
    "for i in range(10):\n",
    "    print(next(fib))"
   ]
  },
  {
   "cell_type": "code",
   "execution_count": 27,
   "id": "dc7935e5-97af-4652-be41-6524b2a2faac",
   "metadata": {},
   "outputs": [],
   "source": [
    "# Working of the for loop internally"
   ]
  },
  {
   "cell_type": "code",
   "execution_count": 28,
   "id": "28930209-100e-4c2f-946e-beba4289c3d3",
   "metadata": {},
   "outputs": [],
   "source": [
    "s = \"Sudh\""
   ]
  },
  {
   "cell_type": "code",
   "execution_count": 30,
   "id": "44e5d351-9ee9-4faf-ba2b-8c59a4e1fc69",
   "metadata": {},
   "outputs": [],
   "source": [
    "s1 = iter(s)"
   ]
  },
  {
   "cell_type": "code",
   "execution_count": 31,
   "id": "e83d00f6-cb76-4031-8c79-2a72cba41145",
   "metadata": {},
   "outputs": [
    {
     "data": {
      "text/plain": [
       "'S'"
      ]
     },
     "execution_count": 31,
     "metadata": {},
     "output_type": "execute_result"
    }
   ],
   "source": [
    "next(s1)"
   ]
  },
  {
   "cell_type": "code",
   "execution_count": 32,
   "id": "ee5c27de-0817-4c1d-a287-c3c0a5d0f953",
   "metadata": {},
   "outputs": [
    {
     "data": {
      "text/plain": [
       "'u'"
      ]
     },
     "execution_count": 32,
     "metadata": {},
     "output_type": "execute_result"
    }
   ],
   "source": [
    "next(s1)"
   ]
  },
  {
   "cell_type": "code",
   "execution_count": 33,
   "id": "303db5cb-7e3c-49e7-bc96-23395fd57a59",
   "metadata": {},
   "outputs": [
    {
     "data": {
      "text/plain": [
       "'d'"
      ]
     },
     "execution_count": 33,
     "metadata": {},
     "output_type": "execute_result"
    }
   ],
   "source": [
    "next(s1)"
   ]
  },
  {
   "cell_type": "code",
   "execution_count": 34,
   "id": "d8adc28c-8228-49c9-9636-8cd42c0ceebe",
   "metadata": {},
   "outputs": [
    {
     "data": {
      "text/plain": [
       "'h'"
      ]
     },
     "execution_count": 34,
     "metadata": {},
     "output_type": "execute_result"
    }
   ],
   "source": [
    "next(s1)"
   ]
  },
  {
   "cell_type": "code",
   "execution_count": 35,
   "id": "808e6e45-0179-4a2c-b538-aec0b9a4098f",
   "metadata": {},
   "outputs": [
    {
     "ename": "StopIteration",
     "evalue": "",
     "output_type": "error",
     "traceback": [
      "\u001b[0;31m---------------------------------------------------------------------------\u001b[0m",
      "\u001b[0;31mStopIteration\u001b[0m                             Traceback (most recent call last)",
      "Cell \u001b[0;32mIn[35], line 1\u001b[0m\n\u001b[0;32m----> 1\u001b[0m \u001b[38;5;28;43mnext\u001b[39;49m\u001b[43m(\u001b[49m\u001b[43ms1\u001b[49m\u001b[43m)\u001b[49m\n",
      "\u001b[0;31mStopIteration\u001b[0m: "
     ]
    }
   ],
   "source": [
    "next(s1)"
   ]
  },
  {
   "cell_type": "code",
   "execution_count": 36,
   "id": "74257e63-0ce0-4345-b496-397719779c39",
   "metadata": {},
   "outputs": [
    {
     "ename": "TypeError",
     "evalue": "'int' object is not an iterator",
     "output_type": "error",
     "traceback": [
      "\u001b[0;31m---------------------------------------------------------------------------\u001b[0m",
      "\u001b[0;31mTypeError\u001b[0m                                 Traceback (most recent call last)",
      "Cell \u001b[0;32mIn[36], line 1\u001b[0m\n\u001b[0;32m----> 1\u001b[0m \u001b[38;5;28;43mnext\u001b[39;49m\u001b[43m(\u001b[49m\u001b[38;5;241;43m34\u001b[39;49m\u001b[43m)\u001b[49m\n",
      "\u001b[0;31mTypeError\u001b[0m: 'int' object is not an iterator"
     ]
    }
   ],
   "source": [
    "next(34)"
   ]
  },
  {
   "cell_type": "code",
   "execution_count": 39,
   "id": "11cdcfc1-60bc-48ae-95f5-c37de334c05f",
   "metadata": {},
   "outputs": [
    {
     "ename": "TypeError",
     "evalue": "'int' object is not iterable",
     "output_type": "error",
     "traceback": [
      "\u001b[0;31m---------------------------------------------------------------------------\u001b[0m",
      "\u001b[0;31mTypeError\u001b[0m                                 Traceback (most recent call last)",
      "Cell \u001b[0;32mIn[39], line 1\u001b[0m\n\u001b[0;32m----> 1\u001b[0m i \u001b[38;5;241m=\u001b[39m \u001b[38;5;28;43miter\u001b[39;49m\u001b[43m(\u001b[49m\u001b[38;5;241;43m34\u001b[39;49m\u001b[43m)\u001b[49m\n\u001b[1;32m      2\u001b[0m \u001b[38;5;66;03m# int is by default iterable\u001b[39;00m\n\u001b[1;32m      3\u001b[0m \u001b[38;5;66;03m# string is default iterator\u001b[39;00m\n",
      "\u001b[0;31mTypeError\u001b[0m: 'int' object is not iterable"
     ]
    }
   ],
   "source": [
    "i = iter(34)\n",
    "# int is by default iterable\n",
    "# string is default iterator"
   ]
  },
  {
   "cell_type": "code",
   "execution_count": 64,
   "id": "112b929e-d5a5-4db8-92c9-0a39e31072d2",
   "metadata": {},
   "outputs": [
    {
     "data": {
      "text/plain": [
       "str_iterator"
      ]
     },
     "execution_count": 64,
     "metadata": {},
     "output_type": "execute_result"
    }
   ],
   "source": [
    "st = \"Sarvesh\"\n",
    "st1 = iter(st)\n",
    "type(st1)"
   ]
  },
  {
   "cell_type": "code",
   "execution_count": 65,
   "id": "5ddd51b7-e6f9-4074-b032-452b57507d72",
   "metadata": {},
   "outputs": [
    {
     "name": "stdout",
     "output_type": "stream",
     "text": [
      "S\n",
      "a\n",
      "r\n",
      "v\n",
      "e\n",
      "s\n",
      "h\n"
     ]
    }
   ],
   "source": [
    "for i in st1:\n",
    "    print(i)"
   ]
  },
  {
   "cell_type": "code",
   "execution_count": 66,
   "id": "d03e2db3-fb43-4bb5-bdeb-62614c4e1014",
   "metadata": {},
   "outputs": [],
   "source": [
    "def count_next(n):\n",
    "    count = 0\n",
    "    while count < n:\n",
    "        yield count\n",
    "        count = count +1\n",
    "        "
   ]
  },
  {
   "cell_type": "code",
   "execution_count": 69,
   "id": "db442c2c-e352-4de8-b0b5-6942c1b2aa05",
   "metadata": {},
   "outputs": [
    {
     "data": {
      "text/plain": [
       "generator"
      ]
     },
     "execution_count": 69,
     "metadata": {},
     "output_type": "execute_result"
    }
   ],
   "source": [
    "c = count_next(10)\n",
    "type(c)"
   ]
  },
  {
   "cell_type": "code",
   "execution_count": 70,
   "id": "4a6e0f64-24cc-424c-a116-1597272fa172",
   "metadata": {},
   "outputs": [
    {
     "name": "stdout",
     "output_type": "stream",
     "text": [
      "0\n",
      "1\n",
      "2\n",
      "3\n",
      "4\n",
      "5\n",
      "6\n",
      "7\n",
      "8\n",
      "9\n"
     ]
    }
   ],
   "source": [
    "for i in c:\n",
    "    print(i)"
   ]
  },
  {
   "cell_type": "code",
   "execution_count": null,
   "id": "cb9d65de-f371-43ab-aff1-4017fc1332fe",
   "metadata": {},
   "outputs": [],
   "source": []
  },
  {
   "cell_type": "code",
   "execution_count": null,
   "id": "38a5b3db-7979-4984-8fff-c8f4b4f3d5fc",
   "metadata": {},
   "outputs": [],
   "source": []
  }
 ],
 "metadata": {
  "kernelspec": {
   "display_name": "Python 3 (ipykernel)",
   "language": "python",
   "name": "python3"
  },
  "language_info": {
   "codemirror_mode": {
    "name": "ipython",
    "version": 3
   },
   "file_extension": ".py",
   "mimetype": "text/x-python",
   "name": "python",
   "nbconvert_exporter": "python",
   "pygments_lexer": "ipython3",
   "version": "3.10.8"
  }
 },
 "nbformat": 4,
 "nbformat_minor": 5
}
