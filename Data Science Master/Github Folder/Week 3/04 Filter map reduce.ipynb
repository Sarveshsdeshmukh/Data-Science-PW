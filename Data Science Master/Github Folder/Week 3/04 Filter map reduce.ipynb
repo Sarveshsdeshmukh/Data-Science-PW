{
 "cells": [
  {
   "cell_type": "code",
   "execution_count": 1,
   "id": "a0ff067f-9202-4970-9c22-307ed5a7b196",
   "metadata": {},
   "outputs": [],
   "source": [
    "# Filter map reduce "
   ]
  },
  {
   "cell_type": "code",
   "execution_count": 54,
   "id": "7659a3b2-a28e-499d-ada2-88ebe9b4c52c",
   "metadata": {},
   "outputs": [
    {
     "name": "stdin",
     "output_type": "stream",
     "text": [
      "Enter the number: 3\n"
     ]
    },
    {
     "name": "stdout",
     "output_type": "stream",
     "text": [
      "3 is prime number\n"
     ]
    }
   ],
   "source": [
    "def primeChecker(no):\n",
    "    if no < 2:\n",
    "        print(no,\"is nor number not prime number\")\n",
    "    elif no >= 2:\n",
    "        for i in range(2, no+1):\n",
    "            if no == 2:\n",
    "                print(no,\"is a prime number\")\n",
    "                break\n",
    "            elif no%i==0:\n",
    "                print(no,\" is not prime number.\")\n",
    "                break\n",
    "            else:\n",
    "                print(no,\"is prime number\")\n",
    "                break\n",
    "\n",
    "num = int(input(\"Enter the number:\"))\n",
    "primeChecker(num)"
   ]
  },
  {
   "cell_type": "code",
   "execution_count": 55,
   "id": "b81fdfb8-2c1f-46a3-851d-f52c2da5812a",
   "metadata": {},
   "outputs": [],
   "source": [
    "l = [2,3,4,5,6,7]"
   ]
  },
  {
   "cell_type": "code",
   "execution_count": 56,
   "id": "cc0a7a68-01cc-400c-ac52-baabb4df8ee2",
   "metadata": {},
   "outputs": [
    {
     "data": {
      "text/plain": [
       "[2, 3, 4, 5, 6, 7]"
      ]
     },
     "execution_count": 56,
     "metadata": {},
     "output_type": "execute_result"
    }
   ],
   "source": [
    "l"
   ]
  },
  {
   "cell_type": "code",
   "execution_count": 59,
   "id": "86cdbfc9-8ac0-403d-92c8-a0329d25b41f",
   "metadata": {},
   "outputs": [],
   "source": [
    "def test1(l):\n",
    "    l1=[]\n",
    "    for i in l:\n",
    "        l1.append(i**2)\n",
    "    return l1"
   ]
  },
  {
   "cell_type": "code",
   "execution_count": null,
   "id": "cc37e461-ab9f-4b8b-8c32-210519eb5556",
   "metadata": {},
   "outputs": [],
   "source": [
    "test1(l)"
   ]
  },
  {
   "cell_type": "code",
   "execution_count": 61,
   "id": "f83baba1-d00a-4c3e-9feb-e40bdf891b14",
   "metadata": {},
   "outputs": [],
   "source": [
    "def sq(x):\n",
    "    return x**2"
   ]
  },
  {
   "cell_type": "code",
   "execution_count": 63,
   "id": "3ad17190-dd1a-42f5-9b21-50f3ad0801bb",
   "metadata": {},
   "outputs": [
    {
     "data": {
      "text/plain": [
       "[4, 9, 16, 25, 36, 49]"
      ]
     },
     "execution_count": 63,
     "metadata": {},
     "output_type": "execute_result"
    }
   ],
   "source": [
    "list(map(sq,l))"
   ]
  },
  {
   "cell_type": "code",
   "execution_count": 65,
   "id": "219c4d91-a800-479f-a0ab-49742d92b199",
   "metadata": {},
   "outputs": [
    {
     "data": {
      "text/plain": [
       "[4, 9, 16, 25, 36, 49]"
      ]
     },
     "execution_count": 65,
     "metadata": {},
     "output_type": "execute_result"
    }
   ],
   "source": [
    "list(map(lambda x:x**2,l))"
   ]
  },
  {
   "cell_type": "code",
   "execution_count": 81,
   "id": "b14bc656-3042-4d36-b326-298e230b3a07",
   "metadata": {},
   "outputs": [
    {
     "name": "stdout",
     "output_type": "stream",
     "text": [
      "[7, 9, 11, 13, 15]\n"
     ]
    }
   ],
   "source": [
    "def addList(l1, l2):\n",
    "    if len(l1) == len(l2):\n",
    "        l3 = []\n",
    "        for i in range(len(l1)):\n",
    "            l3.append(l1[i] + l2[i])\n",
    "        return l3\n",
    "    else:\n",
    "        print(\"Lists must have the same length.\")\n",
    "        return None\n",
    "\n",
    "l1 = [1, 2, 3, 4, 5]\n",
    "l2 = [6, 7, 8, 9, 10]\n",
    "result = addList(l1, l2)\n",
    "print(result)"
   ]
  },
  {
   "cell_type": "code",
   "execution_count": 1,
   "id": "5bd2f595-d059-44d0-8ae7-d0dbf5f8f655",
   "metadata": {},
   "outputs": [
    {
     "name": "stdout",
     "output_type": "stream",
     "text": [
      "Sarvesh Deshmukh\n"
     ]
    }
   ],
   "source": [
    "print(\"Sarvesh Deshmukh\")"
   ]
  },
  {
   "cell_type": "code",
   "execution_count": 6,
   "id": "fba33236-4948-4977-a283-24b60cb7f7fd",
   "metadata": {},
   "outputs": [],
   "source": [
    "l = [2,3,4,5,6]"
   ]
  },
  {
   "cell_type": "code",
   "execution_count": 7,
   "id": "4cb18564-bc70-4c91-921a-48893c3af7f6",
   "metadata": {},
   "outputs": [
    {
     "name": "stdout",
     "output_type": "stream",
     "text": [
      "2\n",
      "3\n",
      "4\n",
      "5\n",
      "6\n"
     ]
    }
   ],
   "source": [
    "for i in l:\n",
    "    print(i)"
   ]
  },
  {
   "cell_type": "code",
   "execution_count": 16,
   "id": "25d8ba6d-f633-47cb-83bc-2a7c0d903790",
   "metadata": {},
   "outputs": [],
   "source": [
    "l = [1,2,3,4]\n",
    "\n",
    "def test1(l):\n",
    "    l2 = []\n",
    "    for i in l:\n",
    "        l2.append(i**2)\n",
    "    return l2"
   ]
  },
  {
   "cell_type": "code",
   "execution_count": 17,
   "id": "5bc22bfa-faa9-4b53-b1b5-04ed0c477cdd",
   "metadata": {},
   "outputs": [
    {
     "data": {
      "text/plain": [
       "[1, 4, 9, 16]"
      ]
     },
     "execution_count": 17,
     "metadata": {},
     "output_type": "execute_result"
    }
   ],
   "source": [
    "test1(l)"
   ]
  },
  {
   "cell_type": "code",
   "execution_count": 34,
   "id": "6ddfe2b4-5583-489b-9367-b4ccfb7cba46",
   "metadata": {},
   "outputs": [],
   "source": [
    "a = [1,2,4,5]\n",
    "b = [3,4,5,3]\n",
    "\n",
    "def addIndex(a,b):\n",
    "    ab = []\n",
    "    if len(a) == len(b):\n",
    "        for i in range(len(a)):\n",
    "            ab.append(a[i]+b[i])\n",
    "    return ab"
   ]
  },
  {
   "cell_type": "code",
   "execution_count": 54,
   "id": "ed569246-a942-40d5-a71c-d11ce6548966",
   "metadata": {},
   "outputs": [
    {
     "data": {
      "text/plain": [
       "[4, 6, 9, 8]"
      ]
     },
     "execution_count": 54,
     "metadata": {},
     "output_type": "execute_result"
    }
   ],
   "source": [
    "addIndex(a,b)"
   ]
  },
  {
   "cell_type": "code",
   "execution_count": 61,
   "id": "2666efd9-45bb-4a22-86c1-a59097d7bab5",
   "metadata": {},
   "outputs": [],
   "source": [
    "res = map(addIndex,a,b)"
   ]
  },
  {
   "cell_type": "code",
   "execution_count": 62,
   "id": "85c49f48-bbb3-491c-a79a-e5da7ba668c5",
   "metadata": {},
   "outputs": [],
   "source": [
    "def sq(x):\n",
    "    return x*x"
   ]
  },
  {
   "cell_type": "code",
   "execution_count": 64,
   "id": "f6d03166-12a2-4427-94c1-babd26f603a9",
   "metadata": {},
   "outputs": [
    {
     "data": {
      "text/plain": [
       "[1, 4, 16, 25]"
      ]
     },
     "execution_count": 64,
     "metadata": {},
     "output_type": "execute_result"
    }
   ],
   "source": [
    "list(map(sq,a))"
   ]
  },
  {
   "cell_type": "code",
   "execution_count": 65,
   "id": "653d6757-5f16-4816-929a-d67db6c1da18",
   "metadata": {},
   "outputs": [],
   "source": [
    "a = [1,2,4,5]\n",
    "b = [3,4,5,3]\n",
    "\n",
    "def addIndex(a,b):\n",
    "    ab = []\n",
    "    if len(a) == len(b):\n",
    "        for i in range(len(a)):\n",
    "            ab.append(a[i]+b[i])\n",
    "    return ab"
   ]
  },
  {
   "cell_type": "code",
   "execution_count": 66,
   "id": "e7308054-9c17-4fee-9e37-9da53de92502",
   "metadata": {},
   "outputs": [
    {
     "data": {
      "text/plain": [
       "[9, 16, 25, 9]"
      ]
     },
     "execution_count": 66,
     "metadata": {},
     "output_type": "execute_result"
    }
   ],
   "source": [
    "list(map(lambda x:x**2,b))"
   ]
  },
  {
   "cell_type": "code",
   "execution_count": 67,
   "id": "ba3cf83a-7f2d-4126-b06f-b49b4642f79c",
   "metadata": {},
   "outputs": [],
   "source": [
    "a = [1,2,4,5]\n",
    "b = [3,4,5,3]\n",
    "\n",
    "def addIndex(a,b):\n",
    "    ab = []\n",
    "    if len(a) == len(b):\n",
    "        for i in range(len(a)):\n",
    "            ab.append(a[i]+b[i])\n",
    "    return ab"
   ]
  },
  {
   "cell_type": "code",
   "execution_count": 74,
   "id": "b6c03f23-a964-4185-83dd-568784bfaa4a",
   "metadata": {},
   "outputs": [
    {
     "data": {
      "text/plain": [
       "[4, 6, 9, 8]"
      ]
     },
     "execution_count": 74,
     "metadata": {},
     "output_type": "execute_result"
    }
   ],
   "source": [
    "a = [1,2,4,5]\n",
    "b = [3,4,5,3]\n",
    "\n",
    "list(map(lambda x,y:x+y,a,b))"
   ]
  },
  {
   "cell_type": "code",
   "execution_count": 75,
   "id": "4fce219c-9fbc-42b1-9a35-ab98123b5f0a",
   "metadata": {},
   "outputs": [],
   "source": [
    "def add(x,y):\n",
    "    return x+y"
   ]
  },
  {
   "cell_type": "code",
   "execution_count": 76,
   "id": "d9e329e5-b380-4df5-9cd3-e8266c385a5e",
   "metadata": {},
   "outputs": [
    {
     "data": {
      "text/plain": [
       "[4, 6, 9, 8]"
      ]
     },
     "execution_count": 76,
     "metadata": {},
     "output_type": "execute_result"
    }
   ],
   "source": [
    "list(map(add,a,b))"
   ]
  },
  {
   "cell_type": "code",
   "execution_count": 80,
   "id": "49a01a10-73b3-4664-b9ba-58a229d886e2",
   "metadata": {},
   "outputs": [
    {
     "data": {
      "text/plain": [
       "['P', 'W', ' ', 'S', 'K', 'I', 'L', 'L', 'S']"
      ]
     },
     "execution_count": 80,
     "metadata": {},
     "output_type": "execute_result"
    }
   ],
   "source": [
    "s = \"PW skills\"\n",
    "\n",
    "list(map(lambda s : s.upper(),s))"
   ]
  },
  {
   "cell_type": "code",
   "execution_count": 81,
   "id": "a572a670-41bb-4be6-8daf-171245c05719",
   "metadata": {},
   "outputs": [],
   "source": [
    "# reduce"
   ]
  },
  {
   "cell_type": "code",
   "execution_count": 82,
   "id": "cd86b504-bda9-463a-b9cd-243159e55340",
   "metadata": {},
   "outputs": [],
   "source": [
    "from functools import reduce"
   ]
  },
  {
   "cell_type": "code",
   "execution_count": 83,
   "id": "a610c84c-342f-4968-beb1-62720efa8e5a",
   "metadata": {},
   "outputs": [],
   "source": [
    "c = [1,2,3,4,5,3]"
   ]
  },
  {
   "cell_type": "code",
   "execution_count": 84,
   "id": "fa88eb9a-c547-4b6b-a5ef-e17fd17da3d7",
   "metadata": {},
   "outputs": [
    {
     "data": {
      "text/plain": [
       "18"
      ]
     },
     "execution_count": 84,
     "metadata": {},
     "output_type": "execute_result"
    }
   ],
   "source": [
    "reduce(lambda x,y:x+y,c)"
   ]
  },
  {
   "cell_type": "code",
   "execution_count": 87,
   "id": "dfe46096-b6f2-4814-ba0c-3eb73eb990c7",
   "metadata": {},
   "outputs": [
    {
     "ename": "TypeError",
     "evalue": "<lambda>() missing 1 required positional argument: 'c'",
     "output_type": "error",
     "traceback": [
      "\u001b[0;31m---------------------------------------------------------------------------\u001b[0m",
      "\u001b[0;31mTypeError\u001b[0m                                 Traceback (most recent call last)",
      "Cell \u001b[0;32mIn[87], line 1\u001b[0m\n\u001b[0;32m----> 1\u001b[0m \u001b[43mreduce\u001b[49m\u001b[43m(\u001b[49m\u001b[38;5;28;43;01mlambda\u001b[39;49;00m\u001b[43m \u001b[49m\u001b[43mx\u001b[49m\u001b[43m,\u001b[49m\u001b[43my\u001b[49m\u001b[43m,\u001b[49m\u001b[43mc\u001b[49m\u001b[43m:\u001b[49m\u001b[43mx\u001b[49m\u001b[38;5;241;43m+\u001b[39;49m\u001b[43my\u001b[49m\u001b[38;5;241;43m+\u001b[39;49m\u001b[43mz\u001b[49m\u001b[43m,\u001b[49m\u001b[43mc\u001b[49m\u001b[43m)\u001b[49m\n\u001b[1;32m      2\u001b[0m \u001b[38;5;66;03m# We have to only give two paramets in reduce\u001b[39;00m\n",
      "\u001b[0;31mTypeError\u001b[0m: <lambda>() missing 1 required positional argument: 'c'"
     ]
    }
   ],
   "source": [
    "reduce(lambda x,y,c:x+y+z,c)\n",
    "# We have to only give two paramets in reduce"
   ]
  },
  {
   "cell_type": "code",
   "execution_count": 88,
   "id": "9d1c29ff-5442-4878-b7c0-3c3fa0aa0481",
   "metadata": {},
   "outputs": [
    {
     "data": {
      "text/plain": [
       "1"
      ]
     },
     "execution_count": 88,
     "metadata": {},
     "output_type": "execute_result"
    }
   ],
   "source": [
    "reduce(lambda x,y:x+y,[1])"
   ]
  },
  {
   "cell_type": "code",
   "execution_count": 89,
   "id": "fbf72eb5-f43a-43cf-ac4a-b04406ea08e9",
   "metadata": {},
   "outputs": [],
   "source": [
    "# above is exceptinal case"
   ]
  },
  {
   "cell_type": "code",
   "execution_count": 91,
   "id": "8c6bc1c4-a6dc-4bdd-b15a-fc6add439f20",
   "metadata": {},
   "outputs": [
    {
     "data": {
      "text/plain": [
       "180"
      ]
     },
     "execution_count": 91,
     "metadata": {},
     "output_type": "execute_result"
    }
   ],
   "source": [
    "reduce(lambda x,y:x*y,b)"
   ]
  },
  {
   "cell_type": "code",
   "execution_count": 92,
   "id": "b6748039-da1d-4e40-bdc7-0bb6b182d0b2",
   "metadata": {},
   "outputs": [
    {
     "data": {
      "text/plain": [
       "5"
      ]
     },
     "execution_count": 92,
     "metadata": {},
     "output_type": "execute_result"
    }
   ],
   "source": [
    "reduce(lambda x ,y:x if x>y else y,b)"
   ]
  },
  {
   "cell_type": "code",
   "execution_count": 105,
   "id": "348f79c2-81ae-470d-85eb-ee2d3da45754",
   "metadata": {},
   "outputs": [
    {
     "data": {
      "text/plain": [
       "[3, 4, 5, 3]"
      ]
     },
     "execution_count": 105,
     "metadata": {},
     "output_type": "execute_result"
    }
   ],
   "source": [
    "b"
   ]
  },
  {
   "cell_type": "code",
   "execution_count": 110,
   "id": "f052f03d-b630-49d9-9c07-2daba7259940",
   "metadata": {},
   "outputs": [],
   "source": [
    "def maxc(l):\n",
    "    maximum = l[0]\n",
    "    for i in range(1, len(l)):\n",
    "        if l[i] > maximum:\n",
    "            maximum = l[i]\n",
    "    return maximum"
   ]
  },
  {
   "cell_type": "code",
   "execution_count": 113,
   "id": "083c17c8-73ec-448f-8bd2-ab86303aa3dc",
   "metadata": {},
   "outputs": [
    {
     "ename": "TypeError",
     "evalue": "maxc() takes 1 positional argument but 2 were given",
     "output_type": "error",
     "traceback": [
      "\u001b[0;31m---------------------------------------------------------------------------\u001b[0m",
      "\u001b[0;31mTypeError\u001b[0m                                 Traceback (most recent call last)",
      "Cell \u001b[0;32mIn[113], line 1\u001b[0m\n\u001b[0;32m----> 1\u001b[0m result \u001b[38;5;241m=\u001b[39m \u001b[43mreduce\u001b[49m\u001b[43m(\u001b[49m\u001b[43mmaxc\u001b[49m\u001b[43m,\u001b[49m\u001b[43mb\u001b[49m\u001b[43m)\u001b[49m\n\u001b[1;32m      2\u001b[0m result\n",
      "\u001b[0;31mTypeError\u001b[0m: maxc() takes 1 positional argument but 2 were given"
     ]
    }
   ],
   "source": [
    "result = reduce(maxc,b)\n",
    "result"
   ]
  },
  {
   "cell_type": "code",
   "execution_count": 115,
   "id": "4d4db205-c6da-41f1-b5fd-ac1644a9b2e0",
   "metadata": {},
   "outputs": [
    {
     "name": "stdout",
     "output_type": "stream",
     "text": [
      "4\n"
     ]
    }
   ],
   "source": [
    "from functools import reduce\n",
    "\n",
    "def maxc(maximum, next_value):\n",
    "    if next_value > maximum:\n",
    "        return next_value\n",
    "    else:\n",
    "        return maximum\n",
    "\n",
    "b = [1, 2, 3, 4, 2]  # Define your sequence b here\n",
    "\n",
    "result = reduce(maxc, b)\n",
    "print(result)\n",
    "\n"
   ]
  },
  {
   "cell_type": "code",
   "execution_count": 116,
   "id": "aecb3386-db0b-4fcc-aa95-6bf6e6412784",
   "metadata": {},
   "outputs": [],
   "source": [
    "# filter function "
   ]
  },
  {
   "cell_type": "code",
   "execution_count": 125,
   "id": "324cb4ef-8ee3-40ab-a058-37be70e6855d",
   "metadata": {},
   "outputs": [
    {
     "name": "stdout",
     "output_type": "stream",
     "text": [
      "Odd\n",
      "Odd\n"
     ]
    },
    {
     "data": {
      "text/plain": [
       "[2, 4, 2]"
      ]
     },
     "execution_count": 125,
     "metadata": {},
     "output_type": "execute_result"
    }
   ],
   "source": [
    "list(filter(lambda x:x if x%2==0 else print(\"Odd\"),b))"
   ]
  },
  {
   "cell_type": "code",
   "execution_count": 131,
   "id": "e1abce33-90af-486c-beb9-aac117fd493c",
   "metadata": {},
   "outputs": [],
   "source": [
    "def oddNum(l):\n",
    "    for i in range(0,l+1):\n",
    "        le = []\n",
    "        if i %2==0:\n",
    "            le.append(i)\n",
    "    return le"
   ]
  },
  {
   "cell_type": "code",
   "execution_count": 132,
   "id": "631c8642-06ae-48d5-95c7-521db84ca141",
   "metadata": {},
   "outputs": [
    {
     "data": {
      "text/plain": [
       "[2, 4, 2]"
      ]
     },
     "execution_count": 132,
     "metadata": {},
     "output_type": "execute_result"
    }
   ],
   "source": [
    "list(filter(oddNum,b))"
   ]
  },
  {
   "cell_type": "code",
   "execution_count": 133,
   "id": "b8c14cc0-40d3-43fc-84df-32e18054dfaa",
   "metadata": {},
   "outputs": [
    {
     "data": {
      "text/plain": [
       "[2, 4]"
      ]
     },
     "execution_count": 133,
     "metadata": {},
     "output_type": "execute_result"
    }
   ],
   "source": [
    "list(filter(lambda x :x%2 == 0,l))"
   ]
  },
  {
   "cell_type": "code",
   "execution_count": 134,
   "id": "2604ffd1-9208-4732-9b90-fe30a043ee1c",
   "metadata": {},
   "outputs": [
    {
     "data": {
      "text/plain": [
       "[1, 3]"
      ]
     },
     "execution_count": 134,
     "metadata": {},
     "output_type": "execute_result"
    }
   ],
   "source": [
    "list(filter(lambda x :x%2 != 0,l))"
   ]
  },
  {
   "cell_type": "code",
   "execution_count": 135,
   "id": "054b4389-7af1-466b-b006-f0d6326320d5",
   "metadata": {},
   "outputs": [
    {
     "data": {
      "text/plain": [
       "[-1, -2]"
      ]
     },
     "execution_count": 135,
     "metadata": {},
     "output_type": "execute_result"
    }
   ],
   "source": [
    "l = [-1,0,2,-2]\n",
    "\n",
    "list(filter(lambda a : a < 0,l))"
   ]
  },
  {
   "cell_type": "code",
   "execution_count": 140,
   "id": "fb8a46fa-0127-4ba4-930c-e04ddca584ad",
   "metadata": {},
   "outputs": [],
   "source": [
    "l2 = [\"S\",\"A\",\"R\",\"V\",\"E\",\"S\",\"H\",\"Sarvesh\"]"
   ]
  },
  {
   "cell_type": "code",
   "execution_count": 141,
   "id": "c572f5b2-6d29-4098-bb64-49418438b840",
   "metadata": {},
   "outputs": [
    {
     "data": {
      "text/plain": [
       "['Sarvesh']"
      ]
     },
     "execution_count": 141,
     "metadata": {},
     "output_type": "execute_result"
    }
   ],
   "source": [
    "list(filter(lambda a : len(a.upper()) > 1,l2))"
   ]
  },
  {
   "cell_type": "code",
   "execution_count": null,
   "id": "d300e576-2b9f-4f34-8404-ea965480412a",
   "metadata": {},
   "outputs": [],
   "source": []
  }
 ],
 "metadata": {
  "kernelspec": {
   "display_name": "Python 3 (ipykernel)",
   "language": "python",
   "name": "python3"
  },
  "language_info": {
   "codemirror_mode": {
    "name": "ipython",
    "version": 3
   },
   "file_extension": ".py",
   "mimetype": "text/x-python",
   "name": "python",
   "nbconvert_exporter": "python",
   "pygments_lexer": "ipython3",
   "version": "3.10.8"
  }
 },
 "nbformat": 4,
 "nbformat_minor": 5
}
