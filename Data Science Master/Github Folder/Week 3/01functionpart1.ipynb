{
 "cells": [
  {
   "cell_type": "code",
   "execution_count": 1,
   "id": "e9c2f1f7-6bc2-458e-9953-ec1c72fd1512",
   "metadata": {},
   "outputs": [],
   "source": [
    "#Functions"
   ]
  },
  {
   "cell_type": "code",
   "execution_count": 2,
   "id": "04462de6-efc3-4c60-85b9-ce5e9a702238",
   "metadata": {},
   "outputs": [],
   "source": [
    "# Number multiplication table print"
   ]
  },
  {
   "cell_type": "code",
   "execution_count": 4,
   "id": "61081a03-f496-480c-9b85-26018a9f3e87",
   "metadata": {},
   "outputs": [
    {
     "name": "stdin",
     "output_type": "stream",
     "text": [
      "Enter the Number  14\n"
     ]
    },
    {
     "name": "stdout",
     "output_type": "stream",
     "text": [
      "14 * 1 = 14\n",
      "14 * 2 = 28\n",
      "14 * 3 = 42\n",
      "14 * 4 = 56\n",
      "14 * 5 = 70\n",
      "14 * 6 = 84\n",
      "14 * 7 = 98\n",
      "14 * 8 = 112\n",
      "14 * 9 = 126\n",
      "14 * 10 = 140\n"
     ]
    }
   ],
   "source": [
    "number = int(input(\"Enter the Number \"))\n",
    "def multTable(num):\n",
    "    for i in range(1,11):\n",
    "        print(num,\"*\",i,\"=\",num*i)\n",
    "\n",
    "multTable(number)"
   ]
  },
  {
   "cell_type": "code",
   "execution_count": 5,
   "id": "ee211769-f381-4c50-95c0-6c1b5d0a95fc",
   "metadata": {},
   "outputs": [
    {
     "name": "stdout",
     "output_type": "stream",
     "text": [
      "A\n"
     ]
    }
   ],
   "source": [
    "print(\"A\")"
   ]
  },
  {
   "cell_type": "code",
   "execution_count": 1,
   "id": "c781d4ee-c966-451a-af7e-c5dcbe10ecb4",
   "metadata": {},
   "outputs": [],
   "source": [
    "def test():\n",
    "    pass"
   ]
  },
  {
   "cell_type": "code",
   "execution_count": 2,
   "id": "9c4e5047-d39b-4b37-9256-563e6484fb6e",
   "metadata": {},
   "outputs": [],
   "source": [
    "def test1():\n",
    "    print(7887657+3453534)\n"
   ]
  },
  {
   "cell_type": "code",
   "execution_count": 10,
   "id": "cf070a3a-c033-41ca-9cef-50a515437d9c",
   "metadata": {},
   "outputs": [
    {
     "name": "stdout",
     "output_type": "stream",
     "text": [
      "11341191\n"
     ]
    },
    {
     "ename": "TypeError",
     "evalue": "unsupported operand type(s) for +: 'NoneType' and 'str'",
     "output_type": "error",
     "traceback": [
      "\u001b[0;31m---------------------------------------------------------------------------\u001b[0m",
      "\u001b[0;31mTypeError\u001b[0m                                 Traceback (most recent call last)",
      "Cell \u001b[0;32mIn[10], line 1\u001b[0m\n\u001b[0;32m----> 1\u001b[0m \u001b[43mtest1\u001b[49m\u001b[43m(\u001b[49m\u001b[43m)\u001b[49m\u001b[38;5;241;43m+\u001b[39;49m\u001b[38;5;124;43m\"\u001b[39;49m\u001b[38;5;124;43mDeshmukh\u001b[39;49m\u001b[38;5;124;43m\"\u001b[39;49m\u001b[38;5;66;03m#function is nonetype\u001b[39;00m\n",
      "\u001b[0;31mTypeError\u001b[0m: unsupported operand type(s) for +: 'NoneType' and 'str'"
     ]
    }
   ],
   "source": [
    "test1()+\"Deshmukh\"#function is nonetype"
   ]
  },
  {
   "cell_type": "code",
   "execution_count": 4,
   "id": "33a23dd6-bb9e-4bdb-ae93-e7836fb94c47",
   "metadata": {},
   "outputs": [],
   "source": [
    "def test2():\n",
    "    return \"Sarvesh\""
   ]
  },
  {
   "cell_type": "code",
   "execution_count": 5,
   "id": "2091aa95-7db6-42de-ad8a-32071b30792e",
   "metadata": {},
   "outputs": [
    {
     "data": {
      "text/plain": [
       "'Sarvesh'"
      ]
     },
     "execution_count": 5,
     "metadata": {},
     "output_type": "execute_result"
    }
   ],
   "source": [
    "test2()"
   ]
  },
  {
   "cell_type": "code",
   "execution_count": 8,
   "id": "9536a2b6-d900-471f-bc56-f66838f68343",
   "metadata": {},
   "outputs": [
    {
     "data": {
      "text/plain": [
       "'Sarvesh Deshmukh'"
      ]
     },
     "execution_count": 8,
     "metadata": {},
     "output_type": "execute_result"
    }
   ],
   "source": [
    "test2()+\" Deshmukh\""
   ]
  },
  {
   "cell_type": "code",
   "execution_count": 11,
   "id": "e9e6818d-1b8f-4080-8d8c-e44eded5f6ec",
   "metadata": {},
   "outputs": [],
   "source": [
    "def test3():\n",
    "    return \"A\",23,[12,23,12],232.23"
   ]
  },
  {
   "cell_type": "code",
   "execution_count": 12,
   "id": "ceedfd9e-a2ca-4dbb-a107-e5818571d933",
   "metadata": {},
   "outputs": [
    {
     "data": {
      "text/plain": [
       "('A', 23, [12, 23, 12], 232.23)"
      ]
     },
     "execution_count": 12,
     "metadata": {},
     "output_type": "execute_result"
    }
   ],
   "source": [
    "test3()"
   ]
  },
  {
   "cell_type": "code",
   "execution_count": 13,
   "id": "1296306d-d18a-4585-ae4d-7ea1ea9307d2",
   "metadata": {},
   "outputs": [],
   "source": [
    "a,b,c,d = test3()"
   ]
  },
  {
   "cell_type": "code",
   "execution_count": 14,
   "id": "cf0d6f1f-ee09-4487-bca7-d9cb9b5f3810",
   "metadata": {},
   "outputs": [
    {
     "data": {
      "text/plain": [
       "'A'"
      ]
     },
     "execution_count": 14,
     "metadata": {},
     "output_type": "execute_result"
    }
   ],
   "source": [
    "a"
   ]
  },
  {
   "cell_type": "code",
   "execution_count": 15,
   "id": "eb99856a-450a-430b-9f5d-09c16fa9677d",
   "metadata": {},
   "outputs": [
    {
     "data": {
      "text/plain": [
       "[12, 23, 12]"
      ]
     },
     "execution_count": 15,
     "metadata": {},
     "output_type": "execute_result"
    }
   ],
   "source": [
    "c"
   ]
  },
  {
   "cell_type": "code",
   "execution_count": 16,
   "id": "40a1d151-66ce-43f7-9db9-c73889dc53e9",
   "metadata": {},
   "outputs": [
    {
     "data": {
      "text/plain": [
       "23"
      ]
     },
     "execution_count": 16,
     "metadata": {},
     "output_type": "execute_result"
    }
   ],
   "source": [
    "b"
   ]
  },
  {
   "cell_type": "code",
   "execution_count": 17,
   "id": "68e070b3-3312-4a0f-a146-ae2ea226f514",
   "metadata": {},
   "outputs": [
    {
     "data": {
      "text/plain": [
       "232.23"
      ]
     },
     "execution_count": 17,
     "metadata": {},
     "output_type": "execute_result"
    }
   ],
   "source": [
    "d"
   ]
  },
  {
   "cell_type": "code",
   "execution_count": 18,
   "id": "f7073c5d-3af2-41b6-afda-b0eb7789562d",
   "metadata": {},
   "outputs": [],
   "source": [
    "result = test3()"
   ]
  },
  {
   "cell_type": "code",
   "execution_count": 22,
   "id": "69bc74d2-f517-4599-b75b-c643c31425e2",
   "metadata": {},
   "outputs": [
    {
     "name": "stdout",
     "output_type": "stream",
     "text": [
      "A\n",
      "<class 'str'>\n",
      "23\n",
      "<class 'int'>\n",
      "[12, 23, 12]\n",
      "<class 'list'>\n",
      "232.23\n",
      "<class 'float'>\n"
     ]
    }
   ],
   "source": [
    "for i in result:\n",
    "    print(i)\n",
    "    ty = type(i)\n",
    "    print(ty)"
   ]
  },
  {
   "cell_type": "code",
   "execution_count": 23,
   "id": "2f087f0e-b091-4f09-a3a3-9eb927f899db",
   "metadata": {},
   "outputs": [],
   "source": [
    "def test4():\n",
    "    a = 5 + 6 / 7\n",
    "    return a"
   ]
  },
  {
   "cell_type": "code",
   "execution_count": 24,
   "id": "9b1acbbf-168b-4f1a-ae5e-368506085731",
   "metadata": {},
   "outputs": [
    {
     "data": {
      "text/plain": [
       "5.857142857142857"
      ]
     },
     "execution_count": 24,
     "metadata": {},
     "output_type": "execute_result"
    }
   ],
   "source": [
    "test4()"
   ]
  },
  {
   "cell_type": "code",
   "execution_count": 25,
   "id": "0634abee-94f2-42e6-8861-9bb1f2175116",
   "metadata": {},
   "outputs": [],
   "source": [
    "def test5(a):\n",
    "    result = a ** 2+a**3\n",
    "    return result"
   ]
  },
  {
   "cell_type": "code",
   "execution_count": 26,
   "id": "235802f0-98a3-45f6-a47a-086707be09f9",
   "metadata": {},
   "outputs": [
    {
     "data": {
      "text/plain": [
       "1010000"
      ]
     },
     "execution_count": 26,
     "metadata": {},
     "output_type": "execute_result"
    }
   ],
   "source": [
    "test5(100)"
   ]
  },
  {
   "cell_type": "code",
   "execution_count": 28,
   "id": "17b059bf-1b74-4057-a112-e275ba8b19cd",
   "metadata": {},
   "outputs": [
    {
     "name": "stdin",
     "output_type": "stream",
     "text": [
      "Enter the number 45343\n"
     ]
    },
    {
     "data": {
      "text/plain": [
       "93226703956256"
      ]
     },
     "execution_count": 28,
     "metadata": {},
     "output_type": "execute_result"
    }
   ],
   "source": [
    "a = int(input(\"Enter the number\"))\n",
    "test5(a)"
   ]
  },
  {
   "cell_type": "code",
   "execution_count": 30,
   "id": "d4bff8ad-f425-4c9d-961f-571ff4bbb6a0",
   "metadata": {},
   "outputs": [],
   "source": [
    "def strreverse(str):\n",
    "    result = str[::-1]\n",
    "    return result"
   ]
  },
  {
   "cell_type": "code",
   "execution_count": 31,
   "id": "390c2747-fa3e-4857-a245-0b3399259e68",
   "metadata": {},
   "outputs": [
    {
     "name": "stdin",
     "output_type": "stream",
     "text": [
      "Enter the string madam\n"
     ]
    },
    {
     "data": {
      "text/plain": [
       "'madam'"
      ]
     },
     "execution_count": 31,
     "metadata": {},
     "output_type": "execute_result"
    }
   ],
   "source": [
    "st = str(input(\"Enter the string\"))\n",
    "strreverse(st)"
   ]
  },
  {
   "cell_type": "code",
   "execution_count": 32,
   "id": "d5ca7a40-60ed-493e-96f0-7496baae6bf1",
   "metadata": {},
   "outputs": [],
   "source": []
  },
  {
   "cell_type": "code",
   "execution_count": 46,
   "id": "ff90a30e-fd8c-410e-9285-5c82e143a8da",
   "metadata": {},
   "outputs": [
    {
     "name": "stdout",
     "output_type": "stream",
     "text": [
      "2\n",
      "3\n",
      "4\n",
      "2\n",
      "2\n",
      "2\n",
      "23\n",
      "2\n",
      "3\n",
      "23\n"
     ]
    },
    {
     "data": {
      "text/plain": [
       "[2, 3, 4, 2, 2, 2, 23, 2, 3, 23]"
      ]
     },
     "execution_count": 46,
     "metadata": {},
     "output_type": "execute_result"
    }
   ],
   "source": [
    "l = [2,3,4,2,2,\"Sudh\",\"Sarv\",[],[2,23,2,3,23]]\n",
    "l2 = [\"A\",\"B\"]\n",
    "listEmp = []\n",
    "def listInt(li):\n",
    "    for i in li:\n",
    "        if type(i) == int:\n",
    "            print(i)\n",
    "            listEmp.append(i)\n",
    "        if type(i) == list:\n",
    "            for j in i:\n",
    "                if type(j) == int:\n",
    "                    print(j)\n",
    "                    listEmp.append(j)\n",
    "    return listEmp\n",
    "listInt(l)"
   ]
  },
  {
   "cell_type": "code",
   "execution_count": 48,
   "id": "9b99ce8a-0967-48c7-b614-84fc0e7f79e7",
   "metadata": {},
   "outputs": [
    {
     "name": "stdout",
     "output_type": "stream",
     "text": [
      "2\n",
      "3\n",
      "4\n",
      "2\n",
      "2\n",
      "2\n",
      "23\n",
      "2\n",
      "3\n",
      "23\n"
     ]
    },
    {
     "data": {
      "text/plain": [
       "[2, 3, 4, 2, 2, 2, 23, 2, 3, 23, 2, 3, 4, 2, 2, 2, 23, 2, 3, 23]"
      ]
     },
     "execution_count": 48,
     "metadata": {},
     "output_type": "execute_result"
    }
   ],
   "source": [
    "listInt(l)"
   ]
  },
  {
   "cell_type": "code",
   "execution_count": 49,
   "id": "06990947-c25a-42a0-945b-8e2b4bf5dd62",
   "metadata": {},
   "outputs": [
    {
     "name": "stdout",
     "output_type": "stream",
     "text": [
      "2\n",
      "3\n",
      "4\n",
      "2\n",
      "2\n",
      "2\n",
      "23\n",
      "2\n",
      "3\n",
      "23\n"
     ]
    },
    {
     "data": {
      "text/plain": [
       "30"
      ]
     },
     "execution_count": 49,
     "metadata": {},
     "output_type": "execute_result"
    }
   ],
   "source": [
    "len(listInt(l))"
   ]
  },
  {
   "cell_type": "code",
   "execution_count": 50,
   "id": "2bc8ed56-0b4e-4841-8bb8-d3f81e4f6a58",
   "metadata": {},
   "outputs": [
    {
     "name": "stdout",
     "output_type": "stream",
     "text": [
      "2\n",
      "3\n",
      "4\n",
      "2\n",
      "2\n",
      "2\n",
      "23\n",
      "2\n",
      "3\n",
      "23\n"
     ]
    },
    {
     "data": {
      "text/plain": [
       "[2, 3, 4, 2, 2, 2, 23, 2, 3, 23]"
      ]
     },
     "execution_count": 50,
     "metadata": {},
     "output_type": "execute_result"
    }
   ],
   "source": [
    "l = [2,3,4,2,2,\"Sudh\",\"Sarv\",[],[2,23,2,3,23]]\n",
    "l2 = [\"A\",\"B\"]\n",
    "\n",
    "'''This is my function to extract numeric data'''\n",
    "listEmp = []\n",
    "def listInt(li):\n",
    "    for i in li:\n",
    "        if type(i) == int:\n",
    "            print(i)\n",
    "            listEmp.append(i)\n",
    "        if type(i) == list:\n",
    "            for j in i:\n",
    "                if type(j) == int:\n",
    "                    print(j)\n",
    "                    listEmp.append(j)\n",
    "    return listEmp\n",
    "listInt(l)"
   ]
  },
  {
   "cell_type": "code",
   "execution_count": 51,
   "id": "ffb33206-e7da-445f-b641-bdc620de84b1",
   "metadata": {},
   "outputs": [
    {
     "name": "stdout",
     "output_type": "stream",
     "text": [
      "2\n",
      "3\n",
      "4\n",
      "2\n",
      "2\n",
      "2\n",
      "23\n",
      "2\n",
      "3\n",
      "23\n"
     ]
    },
    {
     "data": {
      "text/plain": [
       "[2, 3, 4, 2, 2, 2, 23, 2, 3, 23, 2, 3, 4, 2, 2, 2, 23, 2, 3, 23]"
      ]
     },
     "execution_count": 51,
     "metadata": {},
     "output_type": "execute_result"
    }
   ],
   "source": [
    "listInt(l)"
   ]
  },
  {
   "cell_type": "code",
   "execution_count": 52,
   "id": "f60b3adf-ee86-473b-a95b-654299cb1d0b",
   "metadata": {},
   "outputs": [],
   "source": [
    "def test8(a,b):\n",
    "    '''This function is used to add multiple numbers'''\n",
    "    return a + b"
   ]
  },
  {
   "cell_type": "code",
   "execution_count": 53,
   "id": "f40bcfe3-4a9f-4b60-8f29-2ccdf3cceac2",
   "metadata": {},
   "outputs": [],
   "source": [
    "def test8(*args):\n",
    "    '''This function is used to add multiple numbers'''\n",
    "    return args"
   ]
  },
  {
   "cell_type": "code",
   "execution_count": 54,
   "id": "dd9c0876-efc1-4b42-9f2b-710048dd5c33",
   "metadata": {},
   "outputs": [
    {
     "data": {
      "text/plain": [
       "()"
      ]
     },
     "execution_count": 54,
     "metadata": {},
     "output_type": "execute_result"
    }
   ],
   "source": [
    "test8()"
   ]
  },
  {
   "cell_type": "code",
   "execution_count": 55,
   "id": "7f203bd0-bbc8-4187-910e-878266999cfb",
   "metadata": {},
   "outputs": [
    {
     "data": {
      "text/plain": [
       "tuple"
      ]
     },
     "execution_count": 55,
     "metadata": {},
     "output_type": "execute_result"
    }
   ],
   "source": [
    "type(test8())"
   ]
  },
  {
   "cell_type": "code",
   "execution_count": 56,
   "id": "f01db6f4-8c62-4878-98f3-fce307c29dfc",
   "metadata": {},
   "outputs": [
    {
     "data": {
      "text/plain": [
       "(1, 2, 3, 4)"
      ]
     },
     "execution_count": 56,
     "metadata": {},
     "output_type": "execute_result"
    }
   ],
   "source": [
    "test8(1,2,3,4)"
   ]
  },
  {
   "cell_type": "code",
   "execution_count": 57,
   "id": "92787bbb-f38a-4a20-bcea-2dc5aaa2f76c",
   "metadata": {},
   "outputs": [
    {
     "data": {
      "text/plain": [
       "(1, 2, 3, 43, 5, 'Sarvesh')"
      ]
     },
     "execution_count": 57,
     "metadata": {},
     "output_type": "execute_result"
    }
   ],
   "source": [
    "test8(1,2,3,43,5,\"Sarvesh\")"
   ]
  },
  {
   "cell_type": "code",
   "execution_count": 59,
   "id": "489df15f-2e39-4ee4-a704-f02097080384",
   "metadata": {},
   "outputs": [],
   "source": [
    "def test8(a,b,*args):\n",
    "    '''This function is used to add multiple numbers'''\n",
    "    return a + b"
   ]
  },
  {
   "cell_type": "code",
   "execution_count": 60,
   "id": "19c15ef6-285c-43dc-8964-51a17120fb70",
   "metadata": {},
   "outputs": [
    {
     "data": {
      "text/plain": [
       "3"
      ]
     },
     "execution_count": 60,
     "metadata": {},
     "output_type": "execute_result"
    }
   ],
   "source": [
    "test8(1,2,2,3,4,3,22,1,1,2,3,4,3,2)"
   ]
  },
  {
   "cell_type": "code",
   "execution_count": 61,
   "id": "df1915a4-1c00-41e7-8641-ac398b077254",
   "metadata": {},
   "outputs": [],
   "source": [
    "def test8(*sarvesh):\n",
    "    '''This function is used to add multiple numbers'''\n",
    "    return sarvesh"
   ]
  },
  {
   "cell_type": "code",
   "execution_count": 62,
   "id": "4ae5725a-f886-4ee9-83d0-d5c108006e19",
   "metadata": {},
   "outputs": [
    {
     "data": {
      "text/plain": [
       "()"
      ]
     },
     "execution_count": 62,
     "metadata": {},
     "output_type": "execute_result"
    }
   ],
   "source": [
    "test8()"
   ]
  },
  {
   "cell_type": "code",
   "execution_count": 64,
   "id": "e00dc20a-eeeb-425a-849e-24b3ec5ba089",
   "metadata": {},
   "outputs": [],
   "source": [
    "def test9(*args):\n",
    "    return args"
   ]
  },
  {
   "cell_type": "code",
   "execution_count": 65,
   "id": "cbbef4b1-0638-4919-8e1a-197f97649cd9",
   "metadata": {},
   "outputs": [
    {
     "data": {
      "text/plain": [
       "(23, 23231)"
      ]
     },
     "execution_count": 65,
     "metadata": {},
     "output_type": "execute_result"
    }
   ],
   "source": [
    "test9(23,23231)"
   ]
  },
  {
   "cell_type": "code",
   "execution_count": 68,
   "id": "592ff18a-b007-4c79-948e-cfcd452b3210",
   "metadata": {},
   "outputs": [],
   "source": [
    "def test10(*args,a):\n",
    "    return args , a"
   ]
  },
  {
   "cell_type": "code",
   "execution_count": 69,
   "id": "874c058b-1d8c-4406-9497-5e19d2a9cf1d",
   "metadata": {},
   "outputs": [
    {
     "data": {
      "text/plain": [
       "((12, 12), 12)"
      ]
     },
     "execution_count": 69,
     "metadata": {},
     "output_type": "execute_result"
    }
   ],
   "source": [
    "test10(12,12,a=12)"
   ]
  },
  {
   "cell_type": "code",
   "execution_count": 71,
   "id": "2c1342e0-76d7-451d-aba6-c957fe7067a8",
   "metadata": {},
   "outputs": [],
   "source": [
    "def test11(c,d,a=12,b=23):\n",
    "    return a,b,c,d"
   ]
  },
  {
   "cell_type": "code",
   "execution_count": 72,
   "id": "5e7cdb81-fb29-4e47-8ba0-221988e67303",
   "metadata": {},
   "outputs": [
    {
     "data": {
      "text/plain": [
       "(12, 23, 12, 23)"
      ]
     },
     "execution_count": 72,
     "metadata": {},
     "output_type": "execute_result"
    }
   ],
   "source": [
    "test11(12,23)"
   ]
  },
  {
   "cell_type": "code",
   "execution_count": 73,
   "id": "e6fddf4e-6269-4909-8c61-7c392194c7a6",
   "metadata": {},
   "outputs": [
    {
     "data": {
      "text/plain": [
       "(3, 4, 1, 2)"
      ]
     },
     "execution_count": 73,
     "metadata": {},
     "output_type": "execute_result"
    }
   ],
   "source": [
    "test11(1,2,3,4)"
   ]
  },
  {
   "cell_type": "code",
   "execution_count": 74,
   "id": "292271cd-171a-429c-855a-a625e8b2fb56",
   "metadata": {},
   "outputs": [],
   "source": [
    "def test12(**args):\n",
    "    '''For key value pair we use **args'''\n",
    "    return args"
   ]
  },
  {
   "cell_type": "code",
   "execution_count": 76,
   "id": "44ba528a-daba-4d1a-9660-915a46c9a398",
   "metadata": {},
   "outputs": [
    {
     "data": {
      "text/plain": [
       "dict"
      ]
     },
     "execution_count": 76,
     "metadata": {},
     "output_type": "execute_result"
    }
   ],
   "source": [
    "type(test12())"
   ]
  },
  {
   "cell_type": "code",
   "execution_count": 80,
   "id": "4089502a-9241-49a8-9859-a4708fb2cdd7",
   "metadata": {},
   "outputs": [
    {
     "data": {
      "text/plain": [
       "{'a': [1], 'b': ['A']}"
      ]
     },
     "execution_count": 80,
     "metadata": {},
     "output_type": "execute_result"
    }
   ],
   "source": [
    "test12(a=[1],b=[\"A\"])"
   ]
  },
  {
   "cell_type": "code",
   "execution_count": null,
   "id": "5c872238-5e88-48a0-8118-7d9e5a31320b",
   "metadata": {},
   "outputs": [],
   "source": []
  }
 ],
 "metadata": {
  "kernelspec": {
   "display_name": "Python 3 (ipykernel)",
   "language": "python",
   "name": "python3"
  },
  "language_info": {
   "codemirror_mode": {
    "name": "ipython",
    "version": 3
   },
   "file_extension": ".py",
   "mimetype": "text/x-python",
   "name": "python",
   "nbconvert_exporter": "python",
   "pygments_lexer": "ipython3",
   "version": "3.10.8"
  }
 },
 "nbformat": 4,
 "nbformat_minor": 5
}
