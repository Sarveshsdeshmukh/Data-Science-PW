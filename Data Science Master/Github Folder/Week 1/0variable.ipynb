{
 "cells": [
  {
   "cell_type": "code",
   "execution_count": 7,
   "id": "e1731c05-7338-4234-96b7-970d0dea23b0",
   "metadata": {},
   "outputs": [
    {
     "name": "stdout",
     "output_type": "stream",
     "text": [
      "Sarvesh Deshmukh\n"
     ]
    }
   ],
   "source": [
    "# Python variable \n",
    "\n",
    "name = \"Sarvesh\"\n",
    "surname = \" Deshmukh\"\n",
    "\n",
    "result = name + surname\n",
    "print(result)"
   ]
  },
  {
   "cell_type": "code",
   "execution_count": 16,
   "id": "0f18ee60-73b0-4f9b-a58b-3a00c6620269",
   "metadata": {},
   "outputs": [
    {
     "data": {
      "text/plain": [
       "str"
      ]
     },
     "execution_count": 16,
     "metadata": {},
     "output_type": "execute_result"
    }
   ],
   "source": [
    "type(result)"
   ]
  },
  {
   "cell_type": "code",
   "execution_count": 19,
   "id": "17968e09-91ff-439e-8c42-f22a06912b5c",
   "metadata": {},
   "outputs": [
    {
     "name": "stdout",
     "output_type": "stream",
     "text": [
      "<class 'bool'>\n"
     ]
    }
   ],
   "source": [
    "a = True\n",
    "print(type(a))"
   ]
  },
  {
   "cell_type": "code",
   "execution_count": 20,
   "id": "3660d204-83e0-4033-a877-10950fbcb1ee",
   "metadata": {},
   "outputs": [
    {
     "data": {
      "text/plain": [
       "bool"
      ]
     },
     "execution_count": 20,
     "metadata": {},
     "output_type": "execute_result"
    }
   ],
   "source": [
    "type(a)"
   ]
  },
  {
   "cell_type": "code",
   "execution_count": 21,
   "id": "dc658e04-bffb-42d5-808b-97aba05e75d9",
   "metadata": {},
   "outputs": [
    {
     "data": {
      "text/plain": [
       "1"
      ]
     },
     "execution_count": 21,
     "metadata": {},
     "output_type": "execute_result"
    }
   ],
   "source": [
    "True + False"
   ]
  },
  {
   "cell_type": "code",
   "execution_count": 22,
   "id": "fd4f9a21-888d-4ee0-8957-a01d267063c8",
   "metadata": {},
   "outputs": [
    {
     "data": {
      "text/plain": [
       "False"
      ]
     },
     "execution_count": 22,
     "metadata": {},
     "output_type": "execute_result"
    }
   ],
   "source": [
    "True == False"
   ]
  },
  {
   "cell_type": "code",
   "execution_count": 24,
   "id": "11d8080c-0d4a-4ef7-a86e-15a197309288",
   "metadata": {},
   "outputs": [
    {
     "name": "stdout",
     "output_type": "stream",
     "text": [
      "Hello\n"
     ]
    }
   ],
   "source": [
    "if(True == 1):\n",
    "    print('Hello')\n",
    "else:\n",
    "    print(\"World\")\n"
   ]
  },
  {
   "cell_type": "code",
   "execution_count": 25,
   "id": "e80b4bd7-0db0-41ae-be56-452bc90a2e41",
   "metadata": {},
   "outputs": [
    {
     "ename": "ZeroDivisionError",
     "evalue": "division by zero",
     "output_type": "error",
     "traceback": [
      "\u001b[0;31m---------------------------------------------------------------------------\u001b[0m",
      "\u001b[0;31mZeroDivisionError\u001b[0m                         Traceback (most recent call last)",
      "Cell \u001b[0;32mIn[25], line 1\u001b[0m\n\u001b[0;32m----> 1\u001b[0m \u001b[38;5;28;43;01mFalse\u001b[39;49;00m\u001b[38;5;241;43m/\u001b[39;49m\u001b[38;5;28;43;01mFalse\u001b[39;49;00m\n",
      "\u001b[0;31mZeroDivisionError\u001b[0m: division by zero"
     ]
    }
   ],
   "source": [
    "False/False"
   ]
  },
  {
   "cell_type": "code",
   "execution_count": 26,
   "id": "3e01e1e0-1121-407b-b96b-831e047ac47a",
   "metadata": {},
   "outputs": [
    {
     "data": {
      "text/plain": [
       "0.0"
      ]
     },
     "execution_count": 26,
     "metadata": {},
     "output_type": "execute_result"
    }
   ],
   "source": [
    "False / True"
   ]
  },
  {
   "cell_type": "code",
   "execution_count": 29,
   "id": "e77c5b02-40ab-4fb2-80dd-3fa48c8f759b",
   "metadata": {},
   "outputs": [],
   "source": [
    "#j is mandatory in the python for complex number\n",
    "ComplexNumber = 3 + 4j"
   ]
  },
  {
   "cell_type": "code",
   "execution_count": 28,
   "id": "1eac0ddc-d394-4774-91b0-2f831328cf00",
   "metadata": {},
   "outputs": [
    {
     "name": "stdout",
     "output_type": "stream",
     "text": [
      "(3+4j)\n"
     ]
    }
   ],
   "source": [
    "print(ComplexNumber)"
   ]
  },
  {
   "cell_type": "code",
   "execution_count": 30,
   "id": "28c10ee9-e4ef-4b80-a1d4-03a9226d4379",
   "metadata": {},
   "outputs": [
    {
     "ename": "NameError",
     "evalue": "name 'r' is not defined",
     "output_type": "error",
     "traceback": [
      "\u001b[0;31m---------------------------------------------------------------------------\u001b[0m",
      "\u001b[0;31mNameError\u001b[0m                                 Traceback (most recent call last)",
      "Cell \u001b[0;32mIn[30], line 1\u001b[0m\n\u001b[0;32m----> 1\u001b[0m cno \u001b[38;5;241m=\u001b[39m \u001b[38;5;241m3\u001b[39m \u001b[38;5;241m+\u001b[39m \u001b[43mr\u001b[49m\n\u001b[1;32m      2\u001b[0m \u001b[38;5;66;03m#other character is not allowed\u001b[39;00m\n",
      "\u001b[0;31mNameError\u001b[0m: name 'r' is not defined"
     ]
    }
   ],
   "source": [
    "cno = 3 + r\n",
    "#other character is not allowed\n"
   ]
  },
  {
   "cell_type": "code",
   "execution_count": 31,
   "id": "9651f129-116f-424f-92e0-fecf3291f87f",
   "metadata": {},
   "outputs": [
    {
     "name": "stdout",
     "output_type": "stream",
     "text": [
      "True\n"
     ]
    }
   ],
   "source": [
    "a = 45 == 45\n",
    "print(a)"
   ]
  },
  {
   "cell_type": "code",
   "execution_count": 33,
   "id": "e1e717d5-3091-453c-9c74-6822a9ad33ee",
   "metadata": {},
   "outputs": [],
   "source": [
    "_a = 'r'"
   ]
  },
  {
   "cell_type": "code",
   "execution_count": 34,
   "id": "a17456af-297a-49f6-bd74-8ba981e418ae",
   "metadata": {},
   "outputs": [],
   "source": [
    "#_is used in the declaration"
   ]
  },
  {
   "cell_type": "code",
   "execution_count": 35,
   "id": "e6565bc5-ef81-4feb-a9e7-c3cb65e7b4e6",
   "metadata": {},
   "outputs": [
    {
     "data": {
      "text/plain": [
       "3.0"
      ]
     },
     "execution_count": 35,
     "metadata": {},
     "output_type": "execute_result"
    }
   ],
   "source": [
    "ComplexNumber.real"
   ]
  },
  {
   "cell_type": "code",
   "execution_count": 36,
   "id": "6d629b65-5bb9-478a-8095-e434558cb357",
   "metadata": {},
   "outputs": [
    {
     "data": {
      "text/plain": [
       "4.0"
      ]
     },
     "execution_count": 36,
     "metadata": {},
     "output_type": "execute_result"
    }
   ],
   "source": [
    "ComplexNumber.imag"
   ]
  },
  {
   "cell_type": "code",
   "execution_count": null,
   "id": "0e79440a-8fcf-44fb-a549-91d7a077d299",
   "metadata": {},
   "outputs": [],
   "source": []
  }
 ],
 "metadata": {
  "kernelspec": {
   "display_name": "Python 3 (ipykernel)",
   "language": "python",
   "name": "python3"
  },
  "language_info": {
   "codemirror_mode": {
    "name": "ipython",
    "version": 3
   },
   "file_extension": ".py",
   "mimetype": "text/x-python",
   "name": "python",
   "nbconvert_exporter": "python",
   "pygments_lexer": "ipython3",
   "version": "3.10.8"
  }
 },
 "nbformat": 4,
 "nbformat_minor": 5
}
