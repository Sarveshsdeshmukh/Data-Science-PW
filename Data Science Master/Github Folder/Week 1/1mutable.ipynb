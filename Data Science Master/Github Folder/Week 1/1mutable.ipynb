{
 "cells": [
  {
   "cell_type": "code",
   "execution_count": 1,
   "id": "1f4113a2-8b5b-4a18-88f6-555ac950fb59",
   "metadata": {},
   "outputs": [
    {
     "data": {
      "text/plain": [
       "list"
      ]
     },
     "execution_count": 1,
     "metadata": {},
     "output_type": "execute_result"
    }
   ],
   "source": [
    "#mutable\n",
    "\n",
    "listExample = [1,2,3,4,'AS']\n",
    "type(listExample)"
   ]
  },
  {
   "cell_type": "code",
   "execution_count": 2,
   "id": "81fb129b-3ebe-4e2c-9f59-95d028352a85",
   "metadata": {},
   "outputs": [],
   "source": [
    "listExample += [[1,2,3,4,\"kjaf\"]]"
   ]
  },
  {
   "cell_type": "code",
   "execution_count": 3,
   "id": "0c99ce7c-4420-46ef-a6ee-27bca9e166b4",
   "metadata": {},
   "outputs": [
    {
     "name": "stdout",
     "output_type": "stream",
     "text": [
      "[1, 2, 3, 4, 'AS', [1, 2, 3, 4, 'kjaf']]\n"
     ]
    }
   ],
   "source": [
    "print(listExample)"
   ]
  },
  {
   "cell_type": "code",
   "execution_count": 5,
   "id": "0f8663cf-4979-417a-8e85-324894aea92f",
   "metadata": {},
   "outputs": [],
   "source": [
    "listExample += [True]"
   ]
  },
  {
   "cell_type": "code",
   "execution_count": 6,
   "id": "88ecffaf-a2c2-42d9-8c97-2e98dc25f914",
   "metadata": {},
   "outputs": [],
   "source": [
    "Str = \"Sarvesh\""
   ]
  },
  {
   "cell_type": "code",
   "execution_count": 7,
   "id": "0b8f8ece-8ab6-46cf-9b21-040c12303a37",
   "metadata": {},
   "outputs": [
    {
     "data": {
      "text/plain": [
       "'S'"
      ]
     },
     "execution_count": 7,
     "metadata": {},
     "output_type": "execute_result"
    }
   ],
   "source": [
    "Str[0]"
   ]
  },
  {
   "cell_type": "code",
   "execution_count": 8,
   "id": "900ee5d8-c94d-4e96-a3a8-9f10f3dcfa67",
   "metadata": {},
   "outputs": [
    {
     "name": "stdout",
     "output_type": "stream",
     "text": [
      "hsevraS\n"
     ]
    }
   ],
   "source": [
    "print(Str[::-1])"
   ]
  },
  {
   "cell_type": "code",
   "execution_count": 9,
   "id": "6fcd8c9a-9c3e-4fa6-9c9a-dfdf99de6117",
   "metadata": {},
   "outputs": [
    {
     "data": {
      "text/plain": [
       "[True, [1, 2, 3, 4, 'kjaf'], 'AS', 4, 3, 2, 1]"
      ]
     },
     "execution_count": 9,
     "metadata": {},
     "output_type": "execute_result"
    }
   ],
   "source": [
    "listExample[::-1]"
   ]
  },
  {
   "cell_type": "code",
   "execution_count": 10,
   "id": "b806d0a8-a65b-4d2b-82a9-3925712c68e4",
   "metadata": {},
   "outputs": [
    {
     "data": {
      "text/plain": [
       "[1, 2, 3, 4, 'AS', [1, 2, 3, 4, 'kjaf'], True]"
      ]
     },
     "execution_count": 10,
     "metadata": {},
     "output_type": "execute_result"
    }
   ],
   "source": [
    "listExample[::1]"
   ]
  },
  {
   "cell_type": "code",
   "execution_count": 12,
   "id": "6a4be310-c8ba-4bc7-a094-d85068cbb8a9",
   "metadata": {},
   "outputs": [
    {
     "data": {
      "text/plain": [
       "'AS'"
      ]
     },
     "execution_count": 12,
     "metadata": {},
     "output_type": "execute_result"
    }
   ],
   "source": [
    "listExample[4]"
   ]
  },
  {
   "cell_type": "code",
   "execution_count": 14,
   "id": "75661980-cfc0-4b87-95e7-a2f4adcc67cd",
   "metadata": {},
   "outputs": [
    {
     "ename": "TypeError",
     "evalue": "'type' object does not support item assignment",
     "output_type": "error",
     "traceback": [
      "\u001b[0;31m---------------------------------------------------------------------------\u001b[0m",
      "\u001b[0;31mTypeError\u001b[0m                                 Traceback (most recent call last)",
      "Cell \u001b[0;32mIn[14], line 1\u001b[0m\n\u001b[0;32m----> 1\u001b[0m \u001b[38;5;28;43mstr\u001b[39;49m\u001b[43m[\u001b[49m\u001b[38;5;241;43m0\u001b[39;49m\u001b[43m]\u001b[49m \u001b[38;5;241m=\u001b[39m \u001b[38;5;124m'\u001b[39m\u001b[38;5;124ms\u001b[39m\u001b[38;5;124m'\u001b[39m\n",
      "\u001b[0;31mTypeError\u001b[0m: 'type' object does not support item assignment"
     ]
    }
   ],
   "source": [
    "str[0] = 's'"
   ]
  },
  {
   "cell_type": "code",
   "execution_count": 15,
   "id": "faf486ea-36f5-4a9a-b034-eabf846b8d5f",
   "metadata": {},
   "outputs": [],
   "source": [
    "listExample[5] = \"afknoaf\""
   ]
  },
  {
   "cell_type": "code",
   "execution_count": 16,
   "id": "b041b96f-87c2-4b65-bf44-7bef3bf45ae7",
   "metadata": {},
   "outputs": [
    {
     "data": {
      "text/plain": [
       "[1, 2, 3, 4, 'AS', 'afknoaf', True]"
      ]
     },
     "execution_count": 16,
     "metadata": {},
     "output_type": "execute_result"
    }
   ],
   "source": [
    "listExample"
   ]
  },
  {
   "cell_type": "code",
   "execution_count": null,
   "id": "14e1a3b6-f15d-478c-969e-a25410847adb",
   "metadata": {},
   "outputs": [],
   "source": []
  }
 ],
 "metadata": {
  "kernelspec": {
   "display_name": "Python 3 (ipykernel)",
   "language": "python",
   "name": "python3"
  },
  "language_info": {
   "codemirror_mode": {
    "name": "ipython",
    "version": 3
   },
   "file_extension": ".py",
   "mimetype": "text/x-python",
   "name": "python",
   "nbconvert_exporter": "python",
   "pygments_lexer": "ipython3",
   "version": "3.10.8"
  }
 },
 "nbformat": 4,
 "nbformat_minor": 5
}
