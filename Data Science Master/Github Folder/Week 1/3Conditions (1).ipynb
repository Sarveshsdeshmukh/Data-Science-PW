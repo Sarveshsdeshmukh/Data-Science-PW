{
 "cells": [
  {
   "cell_type": "code",
   "execution_count": 1,
   "id": "63138b73-248b-4a88-b851-81289f3faf80",
   "metadata": {},
   "outputs": [],
   "source": [
    "# IF else whlie for conditional statements"
   ]
  },
  {
   "cell_type": "code",
   "execution_count": 3,
   "id": "281d1fd8-0d99-44e4-a669-8af5fbd544ff",
   "metadata": {},
   "outputs": [
    {
     "name": "stdin",
     "output_type": "stream",
     "text": [
      "Enter the number 12\n"
     ]
    },
    {
     "name": "stdout",
     "output_type": "stream",
     "text": [
      "A is greater than 10 \n"
     ]
    }
   ],
   "source": [
    "a = int(input(\"Enter the number\"));\n",
    "\n",
    "if a < 10:\n",
    "    print('A is samller than 10')\n",
    "else:\n",
    "    print('A is greater than 10 ')"
   ]
  },
  {
   "cell_type": "code",
   "execution_count": null,
   "id": "8eec04fc-ed0a-4d7b-9ae7-8b7a4f6ff42a",
   "metadata": {},
   "outputs": [],
   "source": [
    "#to print the multiplication table\n",
    "\n",
    "num = int(input(\"Enter the number to print table\"))\n",
    "def mul(n):\n",
    "    resultAdd = 0\n",
    "    for i in range(1,11):\n",
    "        res = n * i\n",
    "        print(res)\n",
    "        resultAdd += res\n",
    "    print('Total number of table element addition :',resultAdd)    \n",
    "    \n",
    "mul(num)"
   ]
  },
  {
   "cell_type": "code",
   "execution_count": 1,
   "id": "d9f70828-a47a-4edc-b2c7-ab98fe5cafde",
   "metadata": {},
   "outputs": [
    {
     "name": "stdin",
     "output_type": "stream",
     "text": [
      "Enter the number to print table 1222\n"
     ]
    },
    {
     "name": "stdout",
     "output_type": "stream",
     "text": [
      "1222\n",
      "2444\n",
      "3666\n",
      "4888\n",
      "6110\n",
      "7332\n",
      "8554\n",
      "9776\n",
      "10998\n",
      "12220\n",
      "Total number of table element addition : 67210\n"
     ]
    }
   ],
   "source": [
    "#to print the multiplication table\n",
    "\n",
    "num = int(input(\"Enter the number to print table\"))\n",
    "def mul(n):\n",
    "    resultAdd = 0\n",
    "    for i in range(1,11):\n",
    "        res = n * i\n",
    "        print(res)\n",
    "        resultAdd += res\n",
    "    print('Total number of table element addition :',resultAdd)    \n",
    "    \n",
    "mul(num)"
   ]
  },
  {
   "cell_type": "code",
   "execution_count": 3,
   "id": "8471090e-fb4e-4d1c-89fd-99d2727bf70a",
   "metadata": {},
   "outputs": [
    {
     "name": "stdout",
     "output_type": "stream",
     "text": [
      "1\n",
      "2\n",
      "3\n",
      "4\n",
      "5\n",
      "6\n",
      "7\n",
      "8\n",
      "9\n",
      "10\n"
     ]
    }
   ],
   "source": [
    "i = 1\n",
    "n = 11\n",
    "\n",
    "while i < n:\n",
    "    print(i)\n",
    "    i += 1"
   ]
  },
  {
   "cell_type": "code",
   "execution_count": 4,
   "id": "70c2fd6b-7e71-4e7c-b660-363ae2f49a4a",
   "metadata": {},
   "outputs": [
    {
     "name": "stdout",
     "output_type": "stream",
     "text": [
      "1\n",
      "2\n",
      "3\n",
      "4\n",
      "5\n",
      "6\n",
      "7\n",
      "8\n",
      "9\n",
      "10\n",
      "This is else block\n"
     ]
    }
   ],
   "source": [
    "i = 1\n",
    "n = 11\n",
    "\n",
    "while i < n:\n",
    "    print(i)\n",
    "    i += 1\n",
    "else:\n",
    "    print('This is else block')"
   ]
  },
  {
   "cell_type": "code",
   "execution_count": 6,
   "id": "3e5aca28-74d8-4916-b1c5-d5194fbcad4d",
   "metadata": {},
   "outputs": [
    {
     "name": "stdout",
     "output_type": "stream",
     "text": [
      "1\n",
      "2\n",
      "3\n",
      "4\n",
      "5\n",
      "6\n",
      "7\n",
      "8\n",
      "9\n",
      "10\n"
     ]
    }
   ],
   "source": [
    "i = 1\n",
    "n = 11\n",
    "\n",
    "while i < n:\n",
    "    print(i)\n",
    "    i += 1\n",
    "    if i == 11:\n",
    "        break\n",
    "else:\n",
    "    print('This is else block')"
   ]
  },
  {
   "cell_type": "code",
   "execution_count": 7,
   "id": "491477e4-3255-4ea9-899f-55d5fecae5db",
   "metadata": {},
   "outputs": [
    {
     "name": "stdout",
     "output_type": "stream",
     "text": [
      "s\n",
      "a\n",
      "r\n",
      "v\n",
      "e\n",
      "s\n",
      "h\n"
     ]
    }
   ],
   "source": [
    "s = 'sarvesh'\n",
    "for i in s:\n",
    "    print(i)"
   ]
  },
  {
   "cell_type": "code",
   "execution_count": 9,
   "id": "39b205c8-d0a2-4b02-897a-78cd23d9b94f",
   "metadata": {},
   "outputs": [
    {
     "name": "stdout",
     "output_type": "stream",
     "text": [
      "shsevras\n",
      "ahsevras\n",
      "rhsevras\n",
      "vhsevras\n",
      "ehsevras\n",
      "shsevras\n",
      "hhsevras\n"
     ]
    }
   ],
   "source": [
    "for i in s:\n",
    "    print(i+ s[::-1])"
   ]
  },
  {
   "cell_type": "code",
   "execution_count": 13,
   "id": "b6ae8752-6404-440f-8df8-885de17ca99e",
   "metadata": {},
   "outputs": [
    {
     "name": "stdout",
     "output_type": "stream",
     "text": [
      "12\n",
      "12 <class 'int'>\n",
      "23\n",
      "23 <class 'int'>\n",
      "45\n",
      "45 <class 'int'>\n",
      "56\n",
      "56 <class 'int'>\n",
      "23\n",
      "23 <class 'int'>\n",
      "6\n",
      "6 <class 'int'>\n",
      "sgsg\n",
      "sgsg <class 'str'>\n",
      "sfssdfgg\n",
      "sfssdfgg <class 'str'>\n"
     ]
    }
   ],
   "source": [
    "l = [12,23,45,56,23,6,'sgsg','sfssdfgg']\n",
    "for i in l:\n",
    "    print(i)\n",
    "    print(i,type(i))"
   ]
  },
  {
   "cell_type": "code",
   "execution_count": 17,
   "id": "9b082a95-c598-4240-9081-6b560d80a008",
   "metadata": {},
   "outputs": [
    {
     "data": {
      "text/plain": [
       "[0, 1, 2, 3, 4, 5, 6, 7, 8, 9]"
      ]
     },
     "execution_count": 17,
     "metadata": {},
     "output_type": "execute_result"
    }
   ],
   "source": [
    "list(range(10))"
   ]
  },
  {
   "cell_type": "code",
   "execution_count": null,
   "id": "9997bf75-43d3-4f26-a84d-78f3cbffc1bf",
   "metadata": {},
   "outputs": [],
   "source": []
  }
 ],
 "metadata": {
  "kernelspec": {
   "display_name": "Python 3 (ipykernel)",
   "language": "python",
   "name": "python3"
  },
  "language_info": {
   "codemirror_mode": {
    "name": "ipython",
    "version": 3
   },
   "file_extension": ".py",
   "mimetype": "text/x-python",
   "name": "python",
   "nbconvert_exporter": "python",
   "pygments_lexer": "ipython3",
   "version": "3.10.8"
  }
 },
 "nbformat": 4,
 "nbformat_minor": 5
}
