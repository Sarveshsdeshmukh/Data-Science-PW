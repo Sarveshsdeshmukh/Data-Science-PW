{
 "cells": [
  {
   "cell_type": "code",
   "execution_count": 49,
   "id": "3d0e92e5-d5e9-47ad-b6dc-57b58d0dabc1",
   "metadata": {},
   "outputs": [
    {
     "name": "stdout",
     "output_type": "stream",
     "text": [
      "Arithmatic Operator\n",
      "Logical Operator\n",
      "Bitwise Operator\n",
      "Comprasion Operator\n",
      "Assignment Operator\n"
     ]
    }
   ],
   "source": [
    "#Operator\n",
    "print(\"Arithmatic Operator\")\n",
    "print(\"Logical Operator\")\n",
    "print(\"Bitwise Operator\")\n",
    "print(\"Comprasion Operator\")\n",
    "print(\"Assignment Operator\")"
   ]
  },
  {
   "cell_type": "code",
   "execution_count": 50,
   "id": "8f4f1057-6544-486e-99f0-06de79122d37",
   "metadata": {},
   "outputs": [
    {
     "name": "stdout",
     "output_type": "stream",
     "text": [
      "Arthmatic operator\n"
     ]
    },
    {
     "data": {
      "text/plain": [
       "1.0"
      ]
     },
     "execution_count": 50,
     "metadata": {},
     "output_type": "execute_result"
    }
   ],
   "source": [
    "print(\"Arthmatic operator\")\n",
    "1+2\n",
    "1-3\n",
    "1*4\n",
    "1/1\n"
   ]
  },
  {
   "cell_type": "code",
   "execution_count": 51,
   "id": "6bc11d03-efd8-472b-af59-4e90480256f6",
   "metadata": {},
   "outputs": [
    {
     "data": {
      "text/plain": [
       "1"
      ]
     },
     "execution_count": 51,
     "metadata": {},
     "output_type": "execute_result"
    }
   ],
   "source": [
    "1 **2"
   ]
  },
  {
   "cell_type": "code",
   "execution_count": 52,
   "id": "7b41222c-fee9-4ce5-9b7d-99040a214bd7",
   "metadata": {},
   "outputs": [
    {
     "data": {
      "text/plain": [
       "64"
      ]
     },
     "execution_count": 52,
     "metadata": {},
     "output_type": "execute_result"
    }
   ],
   "source": [
    "4**3"
   ]
  },
  {
   "cell_type": "code",
   "execution_count": 53,
   "id": "4129c01d-4dd3-42fc-a50b-c2f5cf65f35a",
   "metadata": {},
   "outputs": [
    {
     "name": "stdout",
     "output_type": "stream",
     "text": [
      "Comparison Operator\n"
     ]
    }
   ],
   "source": [
    "print(\"Comparison Operator\")"
   ]
  },
  {
   "cell_type": "code",
   "execution_count": 54,
   "id": "e8640bd9-4b11-42fe-8ff2-4b8f98cc199f",
   "metadata": {},
   "outputs": [
    {
     "data": {
      "text/plain": [
       "False"
      ]
     },
     "execution_count": 54,
     "metadata": {},
     "output_type": "execute_result"
    }
   ],
   "source": [
    "1 == 4"
   ]
  },
  {
   "cell_type": "code",
   "execution_count": 55,
   "id": "592bd86e-9e87-413e-ad24-3e41e9672ca1",
   "metadata": {},
   "outputs": [
    {
     "data": {
      "text/plain": [
       "True"
      ]
     },
     "execution_count": 55,
     "metadata": {},
     "output_type": "execute_result"
    }
   ],
   "source": [
    "1 == 1"
   ]
  },
  {
   "cell_type": "code",
   "execution_count": 56,
   "id": "f0095a66-54b1-40ba-91a0-466391cfa792",
   "metadata": {},
   "outputs": [
    {
     "data": {
      "text/plain": [
       "False"
      ]
     },
     "execution_count": 56,
     "metadata": {},
     "output_type": "execute_result"
    }
   ],
   "source": [
    "1 < 1"
   ]
  },
  {
   "cell_type": "code",
   "execution_count": 57,
   "id": "f8b4cc65-db54-4f27-ba1b-f9f0b39ff67c",
   "metadata": {},
   "outputs": [
    {
     "data": {
      "text/plain": [
       "True"
      ]
     },
     "execution_count": 57,
     "metadata": {},
     "output_type": "execute_result"
    }
   ],
   "source": [
    "1> 0"
   ]
  },
  {
   "cell_type": "code",
   "execution_count": 58,
   "id": "46a1818a-d427-429d-bd27-15f508fb9332",
   "metadata": {},
   "outputs": [
    {
     "data": {
      "text/plain": [
       "True"
      ]
     },
     "execution_count": 58,
     "metadata": {},
     "output_type": "execute_result"
    }
   ],
   "source": [
    "1 >= 0"
   ]
  },
  {
   "cell_type": "code",
   "execution_count": 59,
   "id": "5a76b74e-30f8-43de-b77b-676335593162",
   "metadata": {},
   "outputs": [
    {
     "data": {
      "text/plain": [
       "True"
      ]
     },
     "execution_count": 59,
     "metadata": {},
     "output_type": "execute_result"
    }
   ],
   "source": [
    "1 <= 90"
   ]
  },
  {
   "cell_type": "code",
   "execution_count": 60,
   "id": "eebb079a-5773-4a40-a60a-503fa71c2234",
   "metadata": {},
   "outputs": [
    {
     "name": "stdout",
     "output_type": "stream",
     "text": [
      "Logical Operator\n"
     ]
    }
   ],
   "source": [
    "print(\"Logical Operator\")"
   ]
  },
  {
   "cell_type": "code",
   "execution_count": 61,
   "id": "5c1bc86b-2daa-48ac-bc5e-7f9862446abe",
   "metadata": {},
   "outputs": [],
   "source": [
    "result = 1 and 1"
   ]
  },
  {
   "cell_type": "code",
   "execution_count": 62,
   "id": "527024d9-e6db-4023-a468-ad00f84b3ba1",
   "metadata": {},
   "outputs": [
    {
     "name": "stdout",
     "output_type": "stream",
     "text": [
      "1\n"
     ]
    }
   ],
   "source": [
    "print(result)"
   ]
  },
  {
   "cell_type": "code",
   "execution_count": 63,
   "id": "67fa4aab-d6ac-452e-b638-3115de928c48",
   "metadata": {},
   "outputs": [
    {
     "data": {
      "text/plain": [
       "False"
      ]
     },
     "execution_count": 63,
     "metadata": {},
     "output_type": "execute_result"
    }
   ],
   "source": [
    "True and False"
   ]
  },
  {
   "cell_type": "code",
   "execution_count": 64,
   "id": "a8c6bc87-89ee-4811-abf3-c01c9f8bd084",
   "metadata": {},
   "outputs": [
    {
     "data": {
      "text/plain": [
       "True"
      ]
     },
     "execution_count": 64,
     "metadata": {},
     "output_type": "execute_result"
    }
   ],
   "source": [
    "False or True"
   ]
  },
  {
   "cell_type": "code",
   "execution_count": 65,
   "id": "86f8154e-f707-4874-ac55-b6bd432718cc",
   "metadata": {},
   "outputs": [
    {
     "data": {
      "text/plain": [
       "False"
      ]
     },
     "execution_count": 65,
     "metadata": {},
     "output_type": "execute_result"
    }
   ],
   "source": [
    "False or False"
   ]
  },
  {
   "cell_type": "code",
   "execution_count": 66,
   "id": "c67cfa5d-6e54-4c6c-b406-29772628843c",
   "metadata": {},
   "outputs": [
    {
     "data": {
      "text/plain": [
       "False"
      ]
     },
     "execution_count": 66,
     "metadata": {},
     "output_type": "execute_result"
    }
   ],
   "source": [
    "not True"
   ]
  },
  {
   "cell_type": "code",
   "execution_count": 67,
   "id": "353ad3b2-1fbd-4926-a02e-2972529a9cf5",
   "metadata": {},
   "outputs": [
    {
     "data": {
      "text/plain": [
       "True"
      ]
     },
     "execution_count": 67,
     "metadata": {},
     "output_type": "execute_result"
    }
   ],
   "source": [
    "not False"
   ]
  },
  {
   "cell_type": "code",
   "execution_count": 68,
   "id": "d74d1da7-c3cf-42e5-8f06-6a5ebb85e825",
   "metadata": {},
   "outputs": [
    {
     "data": {
      "text/plain": [
       "1"
      ]
     },
     "execution_count": 68,
     "metadata": {},
     "output_type": "execute_result"
    }
   ],
   "source": [
    "1 or 0"
   ]
  },
  {
   "cell_type": "code",
   "execution_count": 69,
   "id": "3a4cc3e8-4c93-417f-800f-e44a24049f05",
   "metadata": {},
   "outputs": [
    {
     "data": {
      "text/plain": [
       "1"
      ]
     },
     "execution_count": 69,
     "metadata": {},
     "output_type": "execute_result"
    }
   ],
   "source": [
    "1 or -1"
   ]
  },
  {
   "cell_type": "code",
   "execution_count": 70,
   "id": "328fb7a4-9550-4acf-973c-d34bf92ed491",
   "metadata": {},
   "outputs": [
    {
     "data": {
      "text/plain": [
       "-1"
      ]
     },
     "execution_count": 70,
     "metadata": {},
     "output_type": "execute_result"
    }
   ],
   "source": [
    "1 and -1"
   ]
  },
  {
   "cell_type": "code",
   "execution_count": 71,
   "id": "ad72a0ac-a3ac-4f14-9898-1adda6139761",
   "metadata": {},
   "outputs": [
    {
     "data": {
      "text/plain": [
       "int"
      ]
     },
     "execution_count": 71,
     "metadata": {},
     "output_type": "execute_result"
    }
   ],
   "source": [
    "type(-1)"
   ]
  },
  {
   "cell_type": "code",
   "execution_count": 72,
   "id": "2fb1d4cf-6a05-4c9b-ac63-21bf1122558c",
   "metadata": {},
   "outputs": [
    {
     "name": "stdout",
     "output_type": "stream",
     "text": [
      "Bitwise operator\n"
     ]
    }
   ],
   "source": [
    "print(\"Bitwise operator\")"
   ]
  },
  {
   "cell_type": "code",
   "execution_count": 73,
   "id": "66c50d43-acac-4937-96a9-a415327d3a9d",
   "metadata": {},
   "outputs": [
    {
     "data": {
      "text/plain": [
       "0"
      ]
     },
     "execution_count": 73,
     "metadata": {},
     "output_type": "execute_result"
    }
   ],
   "source": [
    "10& 4"
   ]
  },
  {
   "cell_type": "code",
   "execution_count": 74,
   "id": "e3e960ff-6531-4890-a140-1f0cb00dbc37",
   "metadata": {},
   "outputs": [
    {
     "data": {
      "text/plain": [
       "'0b1010'"
      ]
     },
     "execution_count": 74,
     "metadata": {},
     "output_type": "execute_result"
    }
   ],
   "source": [
    "bin(10)"
   ]
  },
  {
   "cell_type": "code",
   "execution_count": 75,
   "id": "e8c1bc4c-1e4d-4d47-a20f-08b245162632",
   "metadata": {},
   "outputs": [
    {
     "data": {
      "text/plain": [
       "'0b100'"
      ]
     },
     "execution_count": 75,
     "metadata": {},
     "output_type": "execute_result"
    }
   ],
   "source": [
    "bin(4)"
   ]
  },
  {
   "cell_type": "code",
   "execution_count": 76,
   "id": "728a406b-9f41-43e3-b098-046571f3acf9",
   "metadata": {},
   "outputs": [
    {
     "data": {
      "text/plain": [
       "15"
      ]
     },
     "execution_count": 76,
     "metadata": {},
     "output_type": "execute_result"
    }
   ],
   "source": [
    "11 | 5"
   ]
  },
  {
   "cell_type": "markdown",
   "id": "ceefd327-eaf3-48a4-9c8d-ad6c99572165",
   "metadata": {
    "tags": []
   },
   "source": [
    "# "
   ]
  },
  {
   "cell_type": "code",
   "execution_count": 77,
   "id": "4fa235ee-bf90-41cc-94d8-de09b21af01e",
   "metadata": {},
   "outputs": [
    {
     "data": {
      "text/plain": [
       "-13"
      ]
     },
     "execution_count": 77,
     "metadata": {},
     "output_type": "execute_result"
    }
   ],
   "source": [
    "~12"
   ]
  },
  {
   "cell_type": "code",
   "execution_count": 78,
   "id": "e9f2f676-408b-4654-afc0-a1eb74d0b3ad",
   "metadata": {},
   "outputs": [
    {
     "data": {
      "text/plain": [
       "'0b1100'"
      ]
     },
     "execution_count": 78,
     "metadata": {},
     "output_type": "execute_result"
    }
   ],
   "source": [
    "bin(12)\n",
    "\n",
    "\n",
    "\n",
    "\n"
   ]
  },
  {
   "cell_type": "code",
   "execution_count": 79,
   "id": "45fb308d-facb-4db9-b69f-5f2be2d46ffa",
   "metadata": {},
   "outputs": [
    {
     "data": {
      "text/plain": [
       "'-0b1101'"
      ]
     },
     "execution_count": 79,
     "metadata": {},
     "output_type": "execute_result"
    }
   ],
   "source": [
    "bin(-13)"
   ]
  },
  {
   "cell_type": "code",
   "execution_count": 80,
   "id": "bc38c76a-f88d-49b1-ad84-d6e90055e06f",
   "metadata": {},
   "outputs": [
    {
     "data": {
      "text/plain": [
       "48"
      ]
     },
     "execution_count": 80,
     "metadata": {},
     "output_type": "execute_result"
    }
   ],
   "source": [
    "12 << 2"
   ]
  },
  {
   "cell_type": "code",
   "execution_count": 81,
   "id": "1c99f902-4ef5-41fe-913a-6f7cd72e4f0a",
   "metadata": {},
   "outputs": [
    {
     "data": {
      "text/plain": [
       "'0b10110'"
      ]
     },
     "execution_count": 81,
     "metadata": {},
     "output_type": "execute_result"
    }
   ],
   "source": [
    "bin(22)"
   ]
  },
  {
   "cell_type": "code",
   "execution_count": 82,
   "id": "400842a3-8604-47a5-bff2-2ae7d6385c23",
   "metadata": {},
   "outputs": [
    {
     "data": {
      "text/plain": [
       "'0b10'"
      ]
     },
     "execution_count": 82,
     "metadata": {},
     "output_type": "execute_result"
    }
   ],
   "source": [
    "bin(2)"
   ]
  },
  {
   "cell_type": "code",
   "execution_count": 83,
   "id": "5353a9c1-bf2b-40a7-bbb4-1cdb137c72cb",
   "metadata": {},
   "outputs": [
    {
     "data": {
      "text/plain": [
       "'0b110000'"
      ]
     },
     "execution_count": 83,
     "metadata": {},
     "output_type": "execute_result"
    }
   ],
   "source": [
    "bin(48)"
   ]
  },
  {
   "cell_type": "code",
   "execution_count": 84,
   "id": "ed1d42d0-5a9e-4c77-ae07-8ad1bb5f3584",
   "metadata": {},
   "outputs": [
    {
     "data": {
      "text/plain": [
       "12"
      ]
     },
     "execution_count": 84,
     "metadata": {},
     "output_type": "execute_result"
    }
   ],
   "source": [
    "3 << 2"
   ]
  },
  {
   "cell_type": "code",
   "execution_count": 85,
   "id": "7b42e283-b661-43f8-890f-3bf900ea04d1",
   "metadata": {},
   "outputs": [
    {
     "data": {
      "text/plain": [
       "48"
      ]
     },
     "execution_count": 85,
     "metadata": {},
     "output_type": "execute_result"
    }
   ],
   "source": [
    "3 << 4"
   ]
  },
  {
   "cell_type": "code",
   "execution_count": 86,
   "id": "21ed1657-8b01-458d-8631-05e6de458d3f",
   "metadata": {},
   "outputs": [
    {
     "data": {
      "text/plain": [
       "0"
      ]
     },
     "execution_count": 86,
     "metadata": {},
     "output_type": "execute_result"
    }
   ],
   "source": [
    "89838 >> 19821"
   ]
  },
  {
   "cell_type": "code",
   "execution_count": 87,
   "id": "afee0ac4-bf3c-4d82-9120-5d45b79c9cdf",
   "metadata": {},
   "outputs": [
    {
     "data": {
      "text/plain": [
       "19653375445950366814579236070987378123905057072153250534950179013205187406792266699979415536869717536078194360092499964401499164154559601208811003958482926771083878195931327811137983630734102841816882102629026237805026877096537017700850975023913734083366544645819269921456477396689141570934681313186002062841990230575982411602747891985809510749011683221851269939042165466210169110178115499376162088982323333831440910460598530642484210423339473546322459958103231339559243521182731203358773259035207447850057485804117166733469848066475304781489381033192365083988688381612058330272128451779388915794453442078658846461336056377044479746108825204376154707688504487129169409327199410828707408895412027005232335525278355156876544721594560557359412586653334683078680287231057133859023008529883399136327841070974536482532974819153708820227427447776154655081198143303849648320628416835965302539874512058583466639360"
      ]
     },
     "execution_count": 87,
     "metadata": {},
     "output_type": "execute_result"
    }
   ],
   "source": [
    "2093920<< 2983"
   ]
  },
  {
   "cell_type": "code",
   "execution_count": 88,
   "id": "61f13e38-9654-4d6b-a8c0-5051ac492ead",
   "metadata": {},
   "outputs": [
    {
     "data": {
      "text/plain": [
       "'0b1'"
      ]
     },
     "execution_count": 88,
     "metadata": {},
     "output_type": "execute_result"
    }
   ],
   "source": [
    "bin(1)"
   ]
  },
  {
   "cell_type": "code",
   "execution_count": 89,
   "id": "e0fa1a40-33e6-418e-8a7b-e84ad421ba91",
   "metadata": {},
   "outputs": [
    {
     "data": {
      "text/plain": [
       "'0x8'"
      ]
     },
     "execution_count": 89,
     "metadata": {},
     "output_type": "execute_result"
    }
   ],
   "source": [
    "hex(8)"
   ]
  },
  {
   "cell_type": "code",
   "execution_count": 90,
   "id": "78cb2b7e-dadd-475f-8783-9d037a197d31",
   "metadata": {},
   "outputs": [
    {
     "name": "stdout",
     "output_type": "stream",
     "text": [
      "Assignment Operator\n"
     ]
    }
   ],
   "source": [
    "print(\"Assignment Operator\")"
   ]
  },
  {
   "cell_type": "code",
   "execution_count": 91,
   "id": "232e82ed-a8c9-446b-abfe-4bd3c5ce0619",
   "metadata": {},
   "outputs": [],
   "source": [
    "a = 8"
   ]
  },
  {
   "cell_type": "code",
   "execution_count": 92,
   "id": "8e97f0ff-6dac-41dd-8518-db91bc354333",
   "metadata": {},
   "outputs": [
    {
     "data": {
      "text/plain": [
       "8"
      ]
     },
     "execution_count": 92,
     "metadata": {},
     "output_type": "execute_result"
    }
   ],
   "source": [
    "a"
   ]
  },
  {
   "cell_type": "code",
   "execution_count": null,
   "id": "b5978136-db65-4c90-9e7f-aa514e22d543",
   "metadata": {},
   "outputs": [],
   "source": []
  }
 ],
 "metadata": {
  "kernelspec": {
   "display_name": "Python 3 (ipykernel)",
   "language": "python",
   "name": "python3"
  },
  "language_info": {
   "codemirror_mode": {
    "name": "ipython",
    "version": 3
   },
   "file_extension": ".py",
   "mimetype": "text/x-python",
   "name": "python",
   "nbconvert_exporter": "python",
   "pygments_lexer": "ipython3",
   "version": "3.10.8"
  }
 },
 "nbformat": 4,
 "nbformat_minor": 5
}
