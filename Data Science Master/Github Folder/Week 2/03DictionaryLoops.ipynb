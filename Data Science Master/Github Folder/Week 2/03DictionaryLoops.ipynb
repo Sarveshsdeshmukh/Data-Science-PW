{
 "cells": [
  {
   "cell_type": "code",
   "execution_count": 1,
   "id": "c12f04d3-58db-4194-96c6-0aed4c2b954e",
   "metadata": {},
   "outputs": [],
   "source": [
    "# Dictionary and Loops \n",
    "# and If-else extracting the data from the these data strucutre\n",
    "\n",
    "\n",
    "d = {}\n"
   ]
  },
  {
   "cell_type": "code",
   "execution_count": 2,
   "id": "df0157ef-bddc-4daf-8498-9a6cc852e168",
   "metadata": {},
   "outputs": [],
   "source": [
    "d = {'Name':'Sarvesh somnath Deshmukh',\n",
    "    'Roll No':34,\n",
    "    'Age':21}"
   ]
  },
  {
   "cell_type": "code",
   "execution_count": 3,
   "id": "16f98d05-d7b4-4d5f-ae24-aac7bde0c678",
   "metadata": {},
   "outputs": [
    {
     "data": {
      "text/plain": [
       "dict"
      ]
     },
     "execution_count": 3,
     "metadata": {},
     "output_type": "execute_result"
    }
   ],
   "source": [
    "type(d)"
   ]
  },
  {
   "cell_type": "code",
   "execution_count": 4,
   "id": "52d22096-9c64-4281-9ed1-69a9bbf4d26d",
   "metadata": {},
   "outputs": [
    {
     "data": {
      "text/plain": [
       "3"
      ]
     },
     "execution_count": 4,
     "metadata": {},
     "output_type": "execute_result"
    }
   ],
   "source": [
    "len(d)"
   ]
  },
  {
   "cell_type": "code",
   "execution_count": 5,
   "id": "32c1e920-e816-4d7f-8466-9cb1c90cd5ba",
   "metadata": {},
   "outputs": [
    {
     "data": {
      "text/plain": [
       "'Sarvesh somnath Deshmukh'"
      ]
     },
     "execution_count": 5,
     "metadata": {},
     "output_type": "execute_result"
    }
   ],
   "source": [
    "d['Name']"
   ]
  },
  {
   "cell_type": "code",
   "execution_count": 7,
   "id": "b9cb495f-2bc9-4f55-aa29-039c0fb0dc0a",
   "metadata": {},
   "outputs": [],
   "source": [
    "d['Age'] = 20"
   ]
  },
  {
   "cell_type": "code",
   "execution_count": 8,
   "id": "f5f4abd2-302d-490a-82e4-44568a42660a",
   "metadata": {},
   "outputs": [
    {
     "data": {
      "text/plain": [
       "{'Name': 'Sarvesh somnath Deshmukh', 'Roll No': 34, 'Age': 20}"
      ]
     },
     "execution_count": 8,
     "metadata": {},
     "output_type": "execute_result"
    }
   ],
   "source": [
    "d"
   ]
  },
  {
   "cell_type": "code",
   "execution_count": 9,
   "id": "5f91cc35-b23b-4ad7-95a9-e39113fdbe14",
   "metadata": {},
   "outputs": [],
   "source": [
    "# Hence dictionary is mutable"
   ]
  },
  {
   "cell_type": "code",
   "execution_count": 10,
   "id": "07105412-3e61-41ab-a705-5fc8df81b827",
   "metadata": {},
   "outputs": [
    {
     "data": {
      "text/plain": [
       "dict_values(['Sarvesh somnath Deshmukh', 34, 20])"
      ]
     },
     "execution_count": 10,
     "metadata": {},
     "output_type": "execute_result"
    }
   ],
   "source": [
    "d.values()"
   ]
  },
  {
   "cell_type": "code",
   "execution_count": 12,
   "id": "a3164c30-ebf3-41ff-ab0a-9ea841c30cf9",
   "metadata": {},
   "outputs": [
    {
     "ename": "ValueError",
     "evalue": "dictionary update sequence element #0 has length 1; 2 is required",
     "output_type": "error",
     "traceback": [
      "\u001b[0;31m---------------------------------------------------------------------------\u001b[0m",
      "\u001b[0;31mValueError\u001b[0m                                Traceback (most recent call last)",
      "Cell \u001b[0;32mIn[12], line 1\u001b[0m\n\u001b[0;32m----> 1\u001b[0m \u001b[43md\u001b[49m\u001b[38;5;241;43m.\u001b[39;49m\u001b[43mupdate\u001b[49m\u001b[43m(\u001b[49m\u001b[38;5;124;43m'\u001b[39;49m\u001b[38;5;124;43mSD\u001b[39;49m\u001b[38;5;124;43m'\u001b[39;49m\u001b[43m)\u001b[49m\n",
      "\u001b[0;31mValueError\u001b[0m: dictionary update sequence element #0 has length 1; 2 is required"
     ]
    }
   ],
   "source": [
    "d.update('SD')"
   ]
  },
  {
   "cell_type": "code",
   "execution_count": 13,
   "id": "4c7048f3-1c63-42cf-9acf-6840ef884b5b",
   "metadata": {},
   "outputs": [],
   "source": [
    "#key shold be unique"
   ]
  },
  {
   "cell_type": "code",
   "execution_count": 14,
   "id": "8e206796-1052-422e-a337-c74562924cee",
   "metadata": {},
   "outputs": [],
   "source": [
    "d1 = {'Company':'PW skills',\n",
    "     'Courses':[\"A\",'B','C']}"
   ]
  },
  {
   "cell_type": "code",
   "execution_count": 15,
   "id": "916bfabc-0516-4926-a7fa-3aa8afb730a0",
   "metadata": {},
   "outputs": [
    {
     "data": {
      "text/plain": [
       "{'Company': 'PW skills', 'Courses': ['A', 'B', 'C']}"
      ]
     },
     "execution_count": 15,
     "metadata": {},
     "output_type": "execute_result"
    }
   ],
   "source": [
    "d1"
   ]
  },
  {
   "cell_type": "code",
   "execution_count": 18,
   "id": "9c1c8bce-56da-4126-b5dc-e3e0b09f30b1",
   "metadata": {},
   "outputs": [
    {
     "ename": "AttributeError",
     "evalue": "'dict' object has no attribute 'append'",
     "output_type": "error",
     "traceback": [
      "\u001b[0;31m---------------------------------------------------------------------------\u001b[0m",
      "\u001b[0;31mAttributeError\u001b[0m                            Traceback (most recent call last)",
      "Cell \u001b[0;32mIn[18], line 1\u001b[0m\n\u001b[0;32m----> 1\u001b[0m \u001b[43md1\u001b[49m\u001b[38;5;241;43m.\u001b[39;49m\u001b[43mappend\u001b[49m(\u001b[38;5;124m'\u001b[39m\u001b[38;5;124mD\u001b[39m\u001b[38;5;124m'\u001b[39m)\n",
      "\u001b[0;31mAttributeError\u001b[0m: 'dict' object has no attribute 'append'"
     ]
    }
   ],
   "source": [
    "d1.append('D')"
   ]
  },
  {
   "cell_type": "code",
   "execution_count": 22,
   "id": "c6cd83cc-a909-41c1-9b9c-b3081b79a3fb",
   "metadata": {},
   "outputs": [
    {
     "data": {
      "text/plain": [
       "{'Company': 'PW skills', 'Courses': ['A', 'B', 'C']}"
      ]
     },
     "execution_count": 22,
     "metadata": {},
     "output_type": "execute_result"
    }
   ],
   "source": [
    "d1"
   ]
  },
  {
   "cell_type": "code",
   "execution_count": 23,
   "id": "62ac42a2-136e-435a-858c-dd4f831d6c00",
   "metadata": {},
   "outputs": [
    {
     "data": {
      "text/plain": [
       "'B'"
      ]
     },
     "execution_count": 23,
     "metadata": {},
     "output_type": "execute_result"
    }
   ],
   "source": [
    "d1['Courses'][1]"
   ]
  },
  {
   "cell_type": "code",
   "execution_count": 24,
   "id": "dc64e3fe-35c6-4422-8ef2-2cadbdb139d6",
   "metadata": {},
   "outputs": [],
   "source": [
    "d1['Mentor'] = ['AB','ABC','ABD','ABE']"
   ]
  },
  {
   "cell_type": "code",
   "execution_count": 25,
   "id": "4828557b-3140-4159-a85a-bb6b6b4c8cf2",
   "metadata": {},
   "outputs": [
    {
     "data": {
      "text/plain": [
       "{'Company': 'PW skills',\n",
       " 'Courses': ['A', 'B', 'C'],\n",
       " 'Mentor': ['AB', 'ABC', 'ABD', 'ABE']}"
      ]
     },
     "execution_count": 25,
     "metadata": {},
     "output_type": "execute_result"
    }
   ],
   "source": [
    "d1"
   ]
  },
  {
   "cell_type": "code",
   "execution_count": 26,
   "id": "94c70540-d573-4924-847e-2a7198b5bb0c",
   "metadata": {},
   "outputs": [],
   "source": [
    "del d1['Courses'][1]"
   ]
  },
  {
   "cell_type": "code",
   "execution_count": 27,
   "id": "915c85c4-d463-4dac-b33b-573c4688b907",
   "metadata": {},
   "outputs": [
    {
     "data": {
      "text/plain": [
       "{'Company': 'PW skills',\n",
       " 'Courses': ['A', 'C'],\n",
       " 'Mentor': ['AB', 'ABC', 'ABD', 'ABE']}"
      ]
     },
     "execution_count": 27,
     "metadata": {},
     "output_type": "execute_result"
    }
   ],
   "source": [
    "d1"
   ]
  },
  {
   "cell_type": "code",
   "execution_count": 28,
   "id": "dd19ffc8-72a2-45ea-a881-9a11646506b3",
   "metadata": {},
   "outputs": [
    {
     "data": {
      "text/plain": [
       "dict_keys(['Company', 'Courses', 'Mentor'])"
      ]
     },
     "execution_count": 28,
     "metadata": {},
     "output_type": "execute_result"
    }
   ],
   "source": [
    "d1.keys()"
   ]
  },
  {
   "cell_type": "code",
   "execution_count": 29,
   "id": "caff0717-3503-4406-8d58-9386f1693a1b",
   "metadata": {},
   "outputs": [
    {
     "data": {
      "text/plain": [
       "['Company', 'Courses', 'Mentor']"
      ]
     },
     "execution_count": 29,
     "metadata": {},
     "output_type": "execute_result"
    }
   ],
   "source": [
    "list(d1.keys())"
   ]
  },
  {
   "cell_type": "code",
   "execution_count": 31,
   "id": "90161224-cfce-4a40-896a-ff25341c4da0",
   "metadata": {},
   "outputs": [
    {
     "data": {
      "text/plain": [
       "['PW skills', ['A', 'C'], ['AB', 'ABC', 'ABD', 'ABE']]"
      ]
     },
     "execution_count": 31,
     "metadata": {},
     "output_type": "execute_result"
    }
   ],
   "source": [
    "list(d1.values())"
   ]
  },
  {
   "cell_type": "code",
   "execution_count": 32,
   "id": "194c41dc-4fe4-46c6-bdd5-797d12811422",
   "metadata": {},
   "outputs": [
    {
     "data": {
      "text/plain": [
       "dict_items([('Company', 'PW skills'), ('Courses', ['A', 'C']), ('Mentor', ['AB', 'ABC', 'ABD', 'ABE'])])"
      ]
     },
     "execution_count": 32,
     "metadata": {},
     "output_type": "execute_result"
    }
   ],
   "source": [
    "d1.items()"
   ]
  },
  {
   "cell_type": "code",
   "execution_count": 33,
   "id": "e7950fe5-c136-41cf-b038-f2693c383ec8",
   "metadata": {},
   "outputs": [
    {
     "data": {
      "text/plain": [
       "'PW skills'"
      ]
     },
     "execution_count": 33,
     "metadata": {},
     "output_type": "execute_result"
    }
   ],
   "source": [
    "d1.get('Company')"
   ]
  },
  {
   "cell_type": "code",
   "execution_count": 35,
   "id": "111ad04f-7d4d-459a-b038-ea3e63687d0f",
   "metadata": {},
   "outputs": [
    {
     "data": {
      "text/plain": [
       "'PW skills'"
      ]
     },
     "execution_count": 35,
     "metadata": {},
     "output_type": "execute_result"
    }
   ],
   "source": [
    "d1.pop('Company')"
   ]
  },
  {
   "cell_type": "code",
   "execution_count": 36,
   "id": "9913b828-4260-4b00-a695-6ce9b989aa08",
   "metadata": {},
   "outputs": [
    {
     "data": {
      "text/plain": [
       "{'Courses': ['A', 'C'], 'Mentor': ['AB', 'ABC', 'ABD', 'ABE']}"
      ]
     },
     "execution_count": 36,
     "metadata": {},
     "output_type": "execute_result"
    }
   ],
   "source": [
    "d1"
   ]
  },
  {
   "cell_type": "code",
   "execution_count": 38,
   "id": "7d9c0aab-3366-4fd9-8d94-e3304378cc4a",
   "metadata": {},
   "outputs": [
    {
     "data": {
      "text/plain": [
       "{'Courses': ['A', 'C'], 'Mentor': ['AB', 'ABC', 'ABD', 'ABE']}"
      ]
     },
     "execution_count": 38,
     "metadata": {},
     "output_type": "execute_result"
    }
   ],
   "source": [
    "d1.copy()"
   ]
  },
  {
   "cell_type": "code",
   "execution_count": 39,
   "id": "2584870d-9800-4efc-a0bc-498bd616bea7",
   "metadata": {},
   "outputs": [
    {
     "data": {
      "text/plain": [
       "{'C': None, 'o': None, 'u': None, 'r': None, 's': None, 'e': None}"
      ]
     },
     "execution_count": 39,
     "metadata": {},
     "output_type": "execute_result"
    }
   ],
   "source": [
    "d1.fromkeys('Courses')"
   ]
  },
  {
   "cell_type": "code",
   "execution_count": 41,
   "id": "b14453ec-cfa4-42b1-b5a6-8b87186f0e02",
   "metadata": {},
   "outputs": [
    {
     "data": {
      "text/plain": [
       "{'A': None, 'g': None, 'e': None}"
      ]
     },
     "execution_count": 41,
     "metadata": {},
     "output_type": "execute_result"
    }
   ],
   "source": [
    "d1.fromkeys('Age')"
   ]
  },
  {
   "cell_type": "code",
   "execution_count": 42,
   "id": "0f894a55-5a9c-492a-93a1-f7c83fd5de3f",
   "metadata": {},
   "outputs": [
    {
     "data": {
      "text/plain": [
       "{'Courses': ['A', 'C'], 'Mentor': ['AB', 'ABC', 'ABD', 'ABE']}"
      ]
     },
     "execution_count": 42,
     "metadata": {},
     "output_type": "execute_result"
    }
   ],
   "source": [
    "d1"
   ]
  },
  {
   "cell_type": "code",
   "execution_count": 43,
   "id": "41a0607e-fa28-4917-91c5-b765efe737c2",
   "metadata": {},
   "outputs": [
    {
     "data": {
      "text/plain": [
       "{'A': None}"
      ]
     },
     "execution_count": 43,
     "metadata": {},
     "output_type": "execute_result"
    }
   ],
   "source": [
    "d1.fromkeys('A')"
   ]
  },
  {
   "cell_type": "code",
   "execution_count": 47,
   "id": "15ccd3f7-61ea-48a8-a297-d91e4fb76b7c",
   "metadata": {},
   "outputs": [
    {
     "name": "stdin",
     "output_type": "stream",
     "text": [
      "Enter A 12\n"
     ]
    },
    {
     "name": "stdout",
     "output_type": "stream",
     "text": [
      "A is Greater than 10\n"
     ]
    }
   ],
   "source": [
    "A = int(input(\"Enter A\"))\n",
    "\n",
    "if A < 10:\n",
    "    print(\"A is smaller than\",10)\n",
    "else:\n",
    "    print(\"A is Greater than\",10)"
   ]
  },
  {
   "cell_type": "code",
   "execution_count": 51,
   "id": "e0343e27-f781-419e-9a35-ac8aa96f9503",
   "metadata": {},
   "outputs": [
    {
     "name": "stdin",
     "output_type": "stream",
     "text": [
      "Enter the marks 9\n"
     ]
    },
    {
     "name": "stdout",
     "output_type": "stream",
     "text": [
      "B+\n"
     ]
    }
   ],
   "source": [
    "marks = int(input(\"Enter the marks\"))\n",
    "if marks >= 80:\n",
    "    if marks >= 85:\n",
    "        print(\"A+\")\n",
    "    else:\n",
    "        print(\"A\")\n",
    "else:\n",
    "    print(\"B+\")"
   ]
  },
  {
   "cell_type": "code",
   "execution_count": 52,
   "id": "70df036e-3081-4905-abd8-1481bbddeb8f",
   "metadata": {},
   "outputs": [
    {
     "name": "stdin",
     "output_type": "stream",
     "text": [
      "Enter the marks 23\n"
     ]
    }
   ],
   "source": [
    "mark = int(input(\"Enter the marks\"))"
   ]
  },
  {
   "cell_type": "code",
   "execution_count": 56,
   "id": "be1c3474-0aaa-4f09-b11c-37cdaf2fab5b",
   "metadata": {},
   "outputs": [
    {
     "name": "stdin",
     "output_type": "stream",
     "text": [
      "Enter the marks 80\n"
     ]
    },
    {
     "name": "stdout",
     "output_type": "stream",
     "text": [
      "A\n"
     ]
    }
   ],
   "source": [
    "marks = int(input(\"Enter the marks\"))\n",
    "\n",
    "if marks >= 70 and marks <=90:\n",
    "    print(\"A\")\n",
    "elif marks >= 50 and marks <=70:\n",
    "    print('B')\n",
    "elif marks >= 40 and marks <=50:\n",
    "    print('C')\n",
    "else:\n",
    "    print(\"A+\")"
   ]
  },
  {
   "cell_type": "code",
   "execution_count": 57,
   "id": "111438a4-23b4-4327-b58c-316715335ce1",
   "metadata": {},
   "outputs": [],
   "source": [
    "# loop"
   ]
  },
  {
   "cell_type": "code",
   "execution_count": 58,
   "id": "a9b99609-c357-46bd-b4fb-9f2a4456f7de",
   "metadata": {},
   "outputs": [],
   "source": [
    "l = [1,2,3,4,5,6,7,8]"
   ]
  },
  {
   "cell_type": "code",
   "execution_count": 59,
   "id": "ce389a0e-4cb7-4272-954c-5631f07a27eb",
   "metadata": {},
   "outputs": [
    {
     "data": {
      "text/plain": [
       "[1, 2, 3, 4, 5, 6, 7, 8]"
      ]
     },
     "execution_count": 59,
     "metadata": {},
     "output_type": "execute_result"
    }
   ],
   "source": [
    "l"
   ]
  },
  {
   "cell_type": "code",
   "execution_count": 60,
   "id": "e4beb9f1-4f6e-424e-bcbe-db3ae3f3c63d",
   "metadata": {},
   "outputs": [
    {
     "name": "stdout",
     "output_type": "stream",
     "text": [
      "1\n",
      "2\n",
      "3\n",
      "4\n",
      "5\n",
      "6\n",
      "7\n",
      "8\n"
     ]
    }
   ],
   "source": [
    "for i in l:\n",
    "    print(i)"
   ]
  },
  {
   "cell_type": "code",
   "execution_count": null,
   "id": "77b7a9d7-3334-454d-a2aa-cfcce4a7804c",
   "metadata": {},
   "outputs": [],
   "source": [
    "l = [1,2,3,4,5,6,7,8]\n",
    "for i in l:\n",
    "    i = i +1\n",
    "    l.append(i)"
   ]
  },
  {
   "cell_type": "code",
   "execution_count": null,
   "id": "f1c549cf-b898-414c-ade5-722fdb0011b5",
   "metadata": {},
   "outputs": [],
   "source": [
    "l = [1,2,3,4,5,6,7,8]\n",
    "for i in l:\n",
    "    i = i +1\n",
    "    l.append(i)"
   ]
  },
  {
   "cell_type": "code",
   "execution_count": 3,
   "id": "56d66ea6-26a7-4446-ab31-ac240c6cf63f",
   "metadata": {},
   "outputs": [
    {
     "data": {
      "text/plain": [
       "[2, 3, 4, 5, 6, 7, 8, 9]"
      ]
     },
     "execution_count": 3,
     "metadata": {},
     "output_type": "execute_result"
    }
   ],
   "source": [
    "l = [1,2,3,4,5,6,7,8]\n",
    "l1 = []\n",
    "for i in l:\n",
    "    i = i +1\n",
    "    l1.append(i)\n",
    "    \n",
    "l1"
   ]
  },
  {
   "cell_type": "code",
   "execution_count": 1,
   "id": "51fa22e3-9dfb-443a-a346-85de177b0498",
   "metadata": {},
   "outputs": [
    {
     "name": "stdout",
     "output_type": "stream",
     "text": [
      "Hello World!\n"
     ]
    }
   ],
   "source": [
    "print('Hello World!')"
   ]
  },
  {
   "cell_type": "code",
   "execution_count": 5,
   "id": "f45afffc-ca2e-4af4-8883-14dc439b8182",
   "metadata": {},
   "outputs": [
    {
     "name": "stdout",
     "output_type": "stream",
     "text": [
      "a\n",
      "b\n"
     ]
    }
   ],
   "source": [
    "l2 = ['a','b']\n",
    "l3 = []\n",
    "for i in l2:\n",
    "    print(i)\n",
    "    i= i.upper()\n",
    "    l3.append(i)"
   ]
  },
  {
   "cell_type": "code",
   "execution_count": 6,
   "id": "bf624744-e939-4912-aa3d-1b698ec52b3f",
   "metadata": {},
   "outputs": [
    {
     "data": {
      "text/plain": [
       "['A', 'B']"
      ]
     },
     "execution_count": 6,
     "metadata": {},
     "output_type": "execute_result"
    }
   ],
   "source": [
    "l3"
   ]
  },
  {
   "cell_type": "code",
   "execution_count": 7,
   "id": "3b38df4a-e00e-4f3b-81a0-5ad658b44d21",
   "metadata": {},
   "outputs": [],
   "source": [
    "l4 = ['A',1,'B',2]"
   ]
  },
  {
   "cell_type": "code",
   "execution_count": 8,
   "id": "c76e4b26-ea7b-454c-826f-bdf250a6d1e2",
   "metadata": {},
   "outputs": [],
   "source": [
    "l5 = []\n",
    "l6 = []"
   ]
  },
  {
   "cell_type": "code",
   "execution_count": 18,
   "id": "52ed68e8-af3f-4fdc-a836-8b921c13336f",
   "metadata": {},
   "outputs": [
    {
     "name": "stdout",
     "output_type": "stream",
     "text": [
      "A\n",
      "1\n",
      "B\n",
      "2\n"
     ]
    }
   ],
   "source": [
    "l5=[]\n",
    "l6=[]\n",
    "for i in l4:\n",
    "    print(i)\n",
    "    if type(i)==int or type(i)==float:\n",
    "        l5.append(i)\n",
    "    elif type(i) == str:\n",
    "        l6.append(i)"
   ]
  },
  {
   "cell_type": "code",
   "execution_count": 19,
   "id": "8ad5e8fb-3ef8-44c5-b764-51bea7e8c020",
   "metadata": {},
   "outputs": [
    {
     "data": {
      "text/plain": [
       "[1, 2]"
      ]
     },
     "execution_count": 19,
     "metadata": {},
     "output_type": "execute_result"
    }
   ],
   "source": [
    "l5"
   ]
  },
  {
   "cell_type": "code",
   "execution_count": 20,
   "id": "d46b5a4b-c4b8-4873-b709-4cd613e9cc1c",
   "metadata": {},
   "outputs": [
    {
     "data": {
      "text/plain": [
       "['A', 'B']"
      ]
     },
     "execution_count": 20,
     "metadata": {},
     "output_type": "execute_result"
    }
   ],
   "source": [
    "l6"
   ]
  },
  {
   "cell_type": "code",
   "execution_count": null,
   "id": "89e6da72-a2ac-4d72-9e12-673d5aa3d58e",
   "metadata": {},
   "outputs": [],
   "source": []
  }
 ],
 "metadata": {
  "kernelspec": {
   "display_name": "Python 3 (ipykernel)",
   "language": "python",
   "name": "python3"
  },
  "language_info": {
   "codemirror_mode": {
    "name": "ipython",
    "version": 3
   },
   "file_extension": ".py",
   "mimetype": "text/x-python",
   "name": "python",
   "nbconvert_exporter": "python",
   "pygments_lexer": "ipython3",
   "version": "3.10.8"
  }
 },
 "nbformat": 4,
 "nbformat_minor": 5
}
