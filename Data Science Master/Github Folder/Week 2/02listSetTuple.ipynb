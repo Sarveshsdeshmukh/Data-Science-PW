{
 "cells": [
  {
   "cell_type": "code",
   "execution_count": 1,
   "id": "a067db80-1cd5-4cd3-af9f-af6cec77d33d",
   "metadata": {},
   "outputs": [
    {
     "data": {
      "text/plain": [
       "[1, 2, 3, 4, 'PW', (3+4j)]"
      ]
     },
     "execution_count": 1,
     "metadata": {},
     "output_type": "execute_result"
    }
   ],
   "source": [
    "# List Tuple Set\n",
    "\n",
    "lists = [1,2,3,4,\"PW\",3+4j]\n",
    "lists"
   ]
  },
  {
   "cell_type": "code",
   "execution_count": 2,
   "id": "7c2bb79a-bd9f-4be0-9f5d-c50a0e8816fc",
   "metadata": {},
   "outputs": [
    {
     "data": {
      "text/plain": [
       "[1, 2, 3, 4, 'PW', (3+4j), [1, 2, 3, 'Skills']]"
      ]
     },
     "execution_count": 2,
     "metadata": {},
     "output_type": "execute_result"
    }
   ],
   "source": [
    "lists.append([1,2,3,\"Skills\"])\n",
    "lists"
   ]
  },
  {
   "cell_type": "code",
   "execution_count": 6,
   "id": "94a5d885-4da0-44c6-aa98-ed64ec4c0b5d",
   "metadata": {},
   "outputs": [
    {
     "data": {
      "text/plain": [
       "list"
      ]
     },
     "execution_count": 6,
     "metadata": {},
     "output_type": "execute_result"
    }
   ],
   "source": [
    "type(lists)"
   ]
  },
  {
   "cell_type": "code",
   "execution_count": 7,
   "id": "ad5a90c1-d4bf-48e3-8233-c40730a7b53c",
   "metadata": {},
   "outputs": [
    {
     "data": {
      "text/plain": [
       "[[1, 2, 3, 'Skills'], (3+4j), 'PW', 4, 3, 2, 1]"
      ]
     },
     "execution_count": 7,
     "metadata": {},
     "output_type": "execute_result"
    }
   ],
   "source": [
    "lists[::-1]"
   ]
  },
  {
   "cell_type": "code",
   "execution_count": 9,
   "id": "1ba08760-0fcf-46c2-9d9a-8be8d5b998c6",
   "metadata": {},
   "outputs": [
    {
     "data": {
      "text/plain": [
       "[1, 3, 'PW']"
      ]
     },
     "execution_count": 9,
     "metadata": {},
     "output_type": "execute_result"
    }
   ],
   "source": [
    "lists[0:-1:2]"
   ]
  },
  {
   "cell_type": "code",
   "execution_count": 11,
   "id": "fd63beff-394f-4a6f-b0b2-59f1fe5f56c8",
   "metadata": {},
   "outputs": [],
   "source": [
    "lists.append(True)"
   ]
  },
  {
   "cell_type": "code",
   "execution_count": 12,
   "id": "bc977f4d-8c53-435c-9acf-c7919396917f",
   "metadata": {},
   "outputs": [
    {
     "data": {
      "text/plain": [
       "[1, 2, 3, 4, 'PW', (3+4j), [1, 2, 3, 'Skills'], True]"
      ]
     },
     "execution_count": 12,
     "metadata": {},
     "output_type": "execute_result"
    }
   ],
   "source": [
    "lists"
   ]
  },
  {
   "cell_type": "code",
   "execution_count": 13,
   "id": "906f38c7-e3e4-49b5-94ce-cc0ad2b6a9fc",
   "metadata": {},
   "outputs": [
    {
     "ename": "IndexError",
     "evalue": "list index out of range",
     "output_type": "error",
     "traceback": [
      "\u001b[0;31m---------------------------------------------------------------------------\u001b[0m",
      "\u001b[0;31mIndexError\u001b[0m                                Traceback (most recent call last)",
      "Cell \u001b[0;32mIn[13], line 1\u001b[0m\n\u001b[0;32m----> 1\u001b[0m \u001b[43mlists\u001b[49m\u001b[43m[\u001b[49m\u001b[38;5;241;43m9\u001b[39;49m\u001b[43m]\u001b[49m\n",
      "\u001b[0;31mIndexError\u001b[0m: list index out of range"
     ]
    }
   ],
   "source": [
    "lists[9]"
   ]
  },
  {
   "cell_type": "code",
   "execution_count": 14,
   "id": "954364f1-b467-42b1-8823-2d910dea38e1",
   "metadata": {},
   "outputs": [
    {
     "data": {
      "text/plain": [
       "[1, 2, 3, 4, 'PW', (3+4j), [1, 2, 3, 'Skills'], True]"
      ]
     },
     "execution_count": 14,
     "metadata": {},
     "output_type": "execute_result"
    }
   ],
   "source": [
    "lists[:]"
   ]
  },
  {
   "cell_type": "code",
   "execution_count": 15,
   "id": "2edd06fc-6a2c-4458-9a05-fe73342efc1b",
   "metadata": {},
   "outputs": [
    {
     "data": {
      "text/plain": [
       "[1, 4, [1, 2, 3, 'Skills']]"
      ]
     },
     "execution_count": 15,
     "metadata": {},
     "output_type": "execute_result"
    }
   ],
   "source": [
    "lists[0::3]"
   ]
  },
  {
   "cell_type": "code",
   "execution_count": 18,
   "id": "767acb0e-5bcf-4aa3-bc47-38abfb48b311",
   "metadata": {},
   "outputs": [
    {
     "data": {
      "text/plain": [
       "[1, 2, 3]"
      ]
     },
     "execution_count": 18,
     "metadata": {},
     "output_type": "execute_result"
    }
   ],
   "source": [
    "lists[0:3:1]"
   ]
  },
  {
   "cell_type": "code",
   "execution_count": 19,
   "id": "4268d252-48bb-4cff-a7cb-c0d1e4c64791",
   "metadata": {},
   "outputs": [
    {
     "data": {
      "text/plain": [
       "[True, [1, 2, 3, 'Skills'], (3+4j), 'PW', 4, 3, 2, 1]"
      ]
     },
     "execution_count": 19,
     "metadata": {},
     "output_type": "execute_result"
    }
   ],
   "source": [
    "lists[::-1]"
   ]
  },
  {
   "cell_type": "code",
   "execution_count": 22,
   "id": "1abd9b38-3b27-4c15-a4f8-9218ddfa253d",
   "metadata": {},
   "outputs": [
    {
     "data": {
      "text/plain": [
       "[True, 4]"
      ]
     },
     "execution_count": 22,
     "metadata": {},
     "output_type": "execute_result"
    }
   ],
   "source": [
    "# list is mutable data type\n",
    "\n",
    "lists[-1:0:-4]"
   ]
  },
  {
   "cell_type": "code",
   "execution_count": 25,
   "id": "8cd15c0c-8f2e-4b79-8b0f-761e751b1652",
   "metadata": {},
   "outputs": [
    {
     "data": {
      "text/plain": [
       "[1, 3, 'PW', [1, 2, 3, 'Skills']]"
      ]
     },
     "execution_count": 25,
     "metadata": {},
     "output_type": "execute_result"
    }
   ],
   "source": [
    "lists[0::2]"
   ]
  },
  {
   "cell_type": "code",
   "execution_count": 26,
   "id": "7d0d545b-e50b-4ba7-844d-e40a80d9ed37",
   "metadata": {},
   "outputs": [],
   "source": [
    "s = \"PW sKills\""
   ]
  },
  {
   "cell_type": "code",
   "execution_count": 28,
   "id": "0a4a5c9b-fcd9-4922-b3de-2b2d3407d87b",
   "metadata": {},
   "outputs": [],
   "source": [
    "lists.append(s)"
   ]
  },
  {
   "cell_type": "code",
   "execution_count": 29,
   "id": "1ec6b6b8-454d-4ac4-97e0-140bfabedd6b",
   "metadata": {},
   "outputs": [
    {
     "data": {
      "text/plain": [
       "[1, 2, 3, 4, 'PW', (3+4j), [1, 2, 3, 'Skills'], True, 'PW sKills']"
      ]
     },
     "execution_count": 29,
     "metadata": {},
     "output_type": "execute_result"
    }
   ],
   "source": [
    "lists"
   ]
  },
  {
   "cell_type": "code",
   "execution_count": 30,
   "id": "8b1a9ac9-31e5-43ea-bd5b-c0a6328f118c",
   "metadata": {},
   "outputs": [
    {
     "data": {
      "text/plain": [
       "'PW'"
      ]
     },
     "execution_count": 30,
     "metadata": {},
     "output_type": "execute_result"
    }
   ],
   "source": [
    "st = lists[-1]\n",
    "st[0:2]"
   ]
  },
  {
   "cell_type": "code",
   "execution_count": 31,
   "id": "6e98e751-a8d4-46c3-a099-06e817e5492c",
   "metadata": {},
   "outputs": [],
   "source": [
    "s = lists[-2]"
   ]
  },
  {
   "cell_type": "code",
   "execution_count": 32,
   "id": "566a8d45-34bb-4da9-a608-7ece2bbabdab",
   "metadata": {},
   "outputs": [
    {
     "data": {
      "text/plain": [
       "True"
      ]
     },
     "execution_count": 32,
     "metadata": {},
     "output_type": "execute_result"
    }
   ],
   "source": [
    "s"
   ]
  },
  {
   "cell_type": "code",
   "execution_count": 37,
   "id": "638b9fb5-fef8-4e55-be89-819610063882",
   "metadata": {},
   "outputs": [],
   "source": [
    "st = str(s)"
   ]
  },
  {
   "cell_type": "code",
   "execution_count": 38,
   "id": "15482443-277f-4ca4-a4dc-ae383cfe35a9",
   "metadata": {},
   "outputs": [
    {
     "data": {
      "text/plain": [
       "'Tr'"
      ]
     },
     "execution_count": 38,
     "metadata": {},
     "output_type": "execute_result"
    }
   ],
   "source": [
    "st[0:2]"
   ]
  },
  {
   "cell_type": "code",
   "execution_count": 39,
   "id": "02679c9f-6379-4511-88bb-acefe91e5f75",
   "metadata": {},
   "outputs": [
    {
     "data": {
      "text/plain": [
       "[1, 2, 3, 4, 'PW', (3+4j), [1, 2, 3, 'Skills'], True, 'PW sKills', 3, 4, 5]"
      ]
     },
     "execution_count": 39,
     "metadata": {},
     "output_type": "execute_result"
    }
   ],
   "source": [
    "l1 = [3,4,5]\n",
    "lists + l1"
   ]
  },
  {
   "cell_type": "code",
   "execution_count": 40,
   "id": "70290acd-49f7-48ea-aef7-5ce1ece78285",
   "metadata": {},
   "outputs": [
    {
     "data": {
      "text/plain": [
       "[3, 4, 5, 3, 4, 5, 3, 4, 5]"
      ]
     },
     "execution_count": 40,
     "metadata": {},
     "output_type": "execute_result"
    }
   ],
   "source": [
    "l1 * 3"
   ]
  },
  {
   "cell_type": "code",
   "execution_count": 41,
   "id": "6f2611e5-1190-4ce2-bfdc-e77e8888649e",
   "metadata": {},
   "outputs": [],
   "source": [
    "lists = lists*3"
   ]
  },
  {
   "cell_type": "code",
   "execution_count": 42,
   "id": "ceeb2e27-5d84-4659-ad11-4f71efae124a",
   "metadata": {},
   "outputs": [
    {
     "data": {
      "text/plain": [
       "[1,\n",
       " 2,\n",
       " 3,\n",
       " 4,\n",
       " 'PW',\n",
       " (3+4j),\n",
       " [1, 2, 3, 'Skills'],\n",
       " True,\n",
       " 'PW sKills',\n",
       " 1,\n",
       " 2,\n",
       " 3,\n",
       " 4,\n",
       " 'PW',\n",
       " (3+4j),\n",
       " [1, 2, 3, 'Skills'],\n",
       " True,\n",
       " 'PW sKills',\n",
       " 1,\n",
       " 2,\n",
       " 3,\n",
       " 4,\n",
       " 'PW',\n",
       " (3+4j),\n",
       " [1, 2, 3, 'Skills'],\n",
       " True,\n",
       " 'PW sKills']"
      ]
     },
     "execution_count": 42,
     "metadata": {},
     "output_type": "execute_result"
    }
   ],
   "source": [
    "lists"
   ]
  },
  {
   "cell_type": "code",
   "execution_count": 43,
   "id": "e468ea3f-71dd-4ebd-b301-fbc086b266e6",
   "metadata": {},
   "outputs": [
    {
     "data": {
      "text/plain": [
       "27"
      ]
     },
     "execution_count": 43,
     "metadata": {},
     "output_type": "execute_result"
    }
   ],
   "source": [
    "len(lists)"
   ]
  },
  {
   "cell_type": "code",
   "execution_count": 44,
   "id": "4dc793d7-f0b8-4b16-b77b-e20868982061",
   "metadata": {},
   "outputs": [],
   "source": [
    "lists.append(False)"
   ]
  },
  {
   "cell_type": "code",
   "execution_count": 45,
   "id": "19370ded-8d3c-4970-9264-4c26d580c61c",
   "metadata": {},
   "outputs": [
    {
     "data": {
      "text/plain": [
       "[1,\n",
       " 2,\n",
       " 3,\n",
       " 4,\n",
       " 'PW',\n",
       " (3+4j),\n",
       " [1, 2, 3, 'Skills'],\n",
       " True,\n",
       " 'PW sKills',\n",
       " 1,\n",
       " 2,\n",
       " 3,\n",
       " 4,\n",
       " 'PW',\n",
       " (3+4j),\n",
       " [1, 2, 3, 'Skills'],\n",
       " True,\n",
       " 'PW sKills',\n",
       " 1,\n",
       " 2,\n",
       " 3,\n",
       " 4,\n",
       " 'PW',\n",
       " (3+4j),\n",
       " [1, 2, 3, 'Skills'],\n",
       " True,\n",
       " 'PW sKills',\n",
       " False]"
      ]
     },
     "execution_count": 45,
     "metadata": {},
     "output_type": "execute_result"
    }
   ],
   "source": [
    "lists"
   ]
  },
  {
   "cell_type": "code",
   "execution_count": 46,
   "id": "1c4190ed-cc45-4a1f-8df4-20dfab801d33",
   "metadata": {},
   "outputs": [],
   "source": [
    "lists.clear()"
   ]
  },
  {
   "cell_type": "code",
   "execution_count": 47,
   "id": "16b3eed2-e301-4321-8a1d-e9789d79dc63",
   "metadata": {},
   "outputs": [
    {
     "data": {
      "text/plain": [
       "[]"
      ]
     },
     "execution_count": 47,
     "metadata": {},
     "output_type": "execute_result"
    }
   ],
   "source": [
    "lists"
   ]
  },
  {
   "cell_type": "code",
   "execution_count": 49,
   "id": "3808e080-235b-4cb1-b0cb-68315546fc51",
   "metadata": {},
   "outputs": [],
   "source": [
    "lists.append(True)"
   ]
  },
  {
   "cell_type": "code",
   "execution_count": 50,
   "id": "28d40e48-4c53-4718-ab25-78691ce922d2",
   "metadata": {},
   "outputs": [],
   "source": [
    "l2 = [1,2,3]\n",
    "lists.append(l2)"
   ]
  },
  {
   "cell_type": "code",
   "execution_count": 51,
   "id": "1473666f-a689-4500-ae47-dbeace64b6e0",
   "metadata": {},
   "outputs": [
    {
     "data": {
      "text/plain": [
       "[True, [1, 2, 3]]"
      ]
     },
     "execution_count": 51,
     "metadata": {},
     "output_type": "execute_result"
    }
   ],
   "source": [
    "lists"
   ]
  },
  {
   "cell_type": "code",
   "execution_count": 53,
   "id": "c7d2888e-f420-410e-962f-964f157f775f",
   "metadata": {},
   "outputs": [
    {
     "data": {
      "text/plain": [
       "2"
      ]
     },
     "execution_count": 53,
     "metadata": {},
     "output_type": "execute_result"
    }
   ],
   "source": [
    "lists[-1][-2]"
   ]
  },
  {
   "cell_type": "code",
   "execution_count": 54,
   "id": "6ef8135e-ceca-4a85-8d61-81c27c55db64",
   "metadata": {},
   "outputs": [
    {
     "data": {
      "text/plain": [
       "[True, [1, 2, 3]]"
      ]
     },
     "execution_count": 54,
     "metadata": {},
     "output_type": "execute_result"
    }
   ],
   "source": [
    "lists"
   ]
  },
  {
   "cell_type": "code",
   "execution_count": 55,
   "id": "b370e0d2-db25-4c2e-8509-3531cff1961a",
   "metadata": {},
   "outputs": [],
   "source": [
    "lists.extend(\"Sarvesh\")"
   ]
  },
  {
   "cell_type": "code",
   "execution_count": 56,
   "id": "6cb11fca-7d24-4acc-b970-7fdc8bd1b0bd",
   "metadata": {},
   "outputs": [
    {
     "data": {
      "text/plain": [
       "[True, [1, 2, 3], 'S', 'a', 'r', 'v', 'e', 's', 'h']"
      ]
     },
     "execution_count": 56,
     "metadata": {},
     "output_type": "execute_result"
    }
   ],
   "source": [
    "lists"
   ]
  },
  {
   "cell_type": "code",
   "execution_count": 57,
   "id": "0d5021e3-9b74-4ab3-a658-0b6299b93227",
   "metadata": {},
   "outputs": [
    {
     "ename": "TypeError",
     "evalue": "'int' object is not iterable",
     "output_type": "error",
     "traceback": [
      "\u001b[0;31m---------------------------------------------------------------------------\u001b[0m",
      "\u001b[0;31mTypeError\u001b[0m                                 Traceback (most recent call last)",
      "Cell \u001b[0;32mIn[57], line 1\u001b[0m\n\u001b[0;32m----> 1\u001b[0m \u001b[43mlists\u001b[49m\u001b[38;5;241;43m.\u001b[39;49m\u001b[43mextend\u001b[49m\u001b[43m(\u001b[49m\u001b[38;5;241;43m3\u001b[39;49m\u001b[43m)\u001b[49m\n",
      "\u001b[0;31mTypeError\u001b[0m: 'int' object is not iterable"
     ]
    }
   ],
   "source": [
    "lists.extend(3)"
   ]
  },
  {
   "cell_type": "code",
   "execution_count": 58,
   "id": "d75c29a7-8a7d-420c-b788-53b144221ff8",
   "metadata": {},
   "outputs": [],
   "source": [
    "lists.extend([4,5,6,7])"
   ]
  },
  {
   "cell_type": "code",
   "execution_count": 59,
   "id": "bc4398f1-0cea-4be8-b4d6-50627a8ca222",
   "metadata": {},
   "outputs": [
    {
     "data": {
      "text/plain": [
       "[True, [1, 2, 3], 'S', 'a', 'r', 'v', 'e', 's', 'h', 4, 5, 6, 7]"
      ]
     },
     "execution_count": 59,
     "metadata": {},
     "output_type": "execute_result"
    }
   ],
   "source": [
    "lists"
   ]
  },
  {
   "cell_type": "code",
   "execution_count": 60,
   "id": "41fb7102-78a6-4ed4-9310-7a8226e6a967",
   "metadata": {},
   "outputs": [],
   "source": [
    "lists.append([45,56,67,78])"
   ]
  },
  {
   "cell_type": "code",
   "execution_count": 61,
   "id": "616af514-9c60-46dd-a9ae-f361d6427fce",
   "metadata": {},
   "outputs": [
    {
     "data": {
      "text/plain": [
       "[True,\n",
       " [1, 2, 3],\n",
       " 'S',\n",
       " 'a',\n",
       " 'r',\n",
       " 'v',\n",
       " 'e',\n",
       " 's',\n",
       " 'h',\n",
       " 4,\n",
       " 5,\n",
       " 6,\n",
       " 7,\n",
       " [45, 56, 67, 78]]"
      ]
     },
     "execution_count": 61,
     "metadata": {},
     "output_type": "execute_result"
    }
   ],
   "source": [
    "lists"
   ]
  },
  {
   "cell_type": "code",
   "execution_count": 62,
   "id": "1d0308a5-26dc-4232-80b1-7331ed18174d",
   "metadata": {},
   "outputs": [
    {
     "data": {
      "text/plain": [
       "[1, 2, 3]"
      ]
     },
     "execution_count": 62,
     "metadata": {},
     "output_type": "execute_result"
    }
   ],
   "source": [
    "l2"
   ]
  },
  {
   "cell_type": "code",
   "execution_count": 63,
   "id": "a8a73cba-7910-4d1d-a869-d0061c214e8d",
   "metadata": {},
   "outputs": [],
   "source": [
    "l2.append([4,5,6])"
   ]
  },
  {
   "cell_type": "code",
   "execution_count": 64,
   "id": "638d2ab4-35a4-4e31-89c8-08556d30183b",
   "metadata": {},
   "outputs": [
    {
     "data": {
      "text/plain": [
       "[1, 2, 3, [4, 5, 6]]"
      ]
     },
     "execution_count": 64,
     "metadata": {},
     "output_type": "execute_result"
    }
   ],
   "source": [
    "l2"
   ]
  },
  {
   "cell_type": "code",
   "execution_count": 66,
   "id": "15d5a9ca-f696-4741-9041-2e555f63523e",
   "metadata": {},
   "outputs": [],
   "source": [
    "l2.insert(0,\"Sarvesh\")"
   ]
  },
  {
   "cell_type": "code",
   "execution_count": 67,
   "id": "871c5072-8823-4f9c-b749-6816abecbd57",
   "metadata": {},
   "outputs": [
    {
     "data": {
      "text/plain": [
       "['Sarvesh', 1, 2, 3, [4, 5, 6]]"
      ]
     },
     "execution_count": 67,
     "metadata": {},
     "output_type": "execute_result"
    }
   ],
   "source": [
    "l2"
   ]
  },
  {
   "cell_type": "code",
   "execution_count": 68,
   "id": "3e0ba72e-98f0-410f-8e76-2afa729a8ee2",
   "metadata": {},
   "outputs": [],
   "source": [
    "l2.insert(1,\"Deshmukh\")"
   ]
  },
  {
   "cell_type": "code",
   "execution_count": 69,
   "id": "3b5bdab8-507c-4b91-89eb-97f7aefa0b16",
   "metadata": {},
   "outputs": [
    {
     "data": {
      "text/plain": [
       "['Sarvesh', 'Deshmukh', 1, 2, 3, [4, 5, 6]]"
      ]
     },
     "execution_count": 69,
     "metadata": {},
     "output_type": "execute_result"
    }
   ],
   "source": [
    "l2"
   ]
  },
  {
   "cell_type": "code",
   "execution_count": 70,
   "id": "c875f7d0-87b9-40ca-ba5d-9e62a1646d45",
   "metadata": {},
   "outputs": [],
   "source": [
    "l2.insert(1,\"Somnath\")"
   ]
  },
  {
   "cell_type": "code",
   "execution_count": 71,
   "id": "202667df-4cb1-4961-893c-48d655fa90f1",
   "metadata": {},
   "outputs": [
    {
     "data": {
      "text/plain": [
       "['Sarvesh', 'Somnath', 'Deshmukh', 1, 2, 3, [4, 5, 6]]"
      ]
     },
     "execution_count": 71,
     "metadata": {},
     "output_type": "execute_result"
    }
   ],
   "source": [
    "l2"
   ]
  },
  {
   "cell_type": "code",
   "execution_count": 72,
   "id": "9e3f8ced-85fb-4161-812b-2f1f98bb8ad1",
   "metadata": {},
   "outputs": [],
   "source": [
    "lists.reverse()"
   ]
  },
  {
   "cell_type": "code",
   "execution_count": 73,
   "id": "89c40d3d-fb2a-48cf-953f-d78862440d6b",
   "metadata": {},
   "outputs": [
    {
     "data": {
      "text/plain": [
       "[[45, 56, 67, 78],\n",
       " 7,\n",
       " 6,\n",
       " 5,\n",
       " 4,\n",
       " 'h',\n",
       " 's',\n",
       " 'e',\n",
       " 'v',\n",
       " 'r',\n",
       " 'a',\n",
       " 'S',\n",
       " ['Sarvesh', 'Somnath', 'Deshmukh', 1, 2, 3, [4, 5, 6]],\n",
       " True]"
      ]
     },
     "execution_count": 73,
     "metadata": {},
     "output_type": "execute_result"
    }
   ],
   "source": [
    "lists"
   ]
  },
  {
   "cell_type": "code",
   "execution_count": 74,
   "id": "eb4916d6-331a-4926-bd7e-956df280bb02",
   "metadata": {},
   "outputs": [],
   "source": [
    "lists.insert(-1,34)"
   ]
  },
  {
   "cell_type": "code",
   "execution_count": 75,
   "id": "12107266-9c34-480b-a8af-6ab03c0d111f",
   "metadata": {},
   "outputs": [
    {
     "data": {
      "text/plain": [
       "[[45, 56, 67, 78],\n",
       " 7,\n",
       " 6,\n",
       " 5,\n",
       " 4,\n",
       " 'h',\n",
       " 's',\n",
       " 'e',\n",
       " 'v',\n",
       " 'r',\n",
       " 'a',\n",
       " 'S',\n",
       " ['Sarvesh', 'Somnath', 'Deshmukh', 1, 2, 3, [4, 5, 6]],\n",
       " 34,\n",
       " True]"
      ]
     },
     "execution_count": 75,
     "metadata": {},
     "output_type": "execute_result"
    }
   ],
   "source": [
    "lists"
   ]
  },
  {
   "cell_type": "code",
   "execution_count": 76,
   "id": "94e4c9f5-3194-408e-8618-92e24e1d1b1e",
   "metadata": {},
   "outputs": [],
   "source": [
    "# but 34 is not come into last position"
   ]
  },
  {
   "cell_type": "code",
   "execution_count": 77,
   "id": "49da699d-1bfa-4daf-a9b7-f95b08c4fa57",
   "metadata": {},
   "outputs": [],
   "source": [
    "# kam sahi kar raha hain but last element ko push kiya"
   ]
  },
  {
   "cell_type": "code",
   "execution_count": 78,
   "id": "13edbfcc-f91d-4c57-a1c5-2a4758ad63bd",
   "metadata": {},
   "outputs": [],
   "source": [
    "# Thats why second last ko aya hain"
   ]
  },
  {
   "cell_type": "code",
   "execution_count": 80,
   "id": "2ffcdcf5-0035-41e7-a289-8b1dc85a6efe",
   "metadata": {},
   "outputs": [],
   "source": [
    "lists.remove(34)"
   ]
  },
  {
   "cell_type": "code",
   "execution_count": 81,
   "id": "9fb5d092-be6d-4705-966d-c7e36aa403f5",
   "metadata": {},
   "outputs": [
    {
     "data": {
      "text/plain": [
       "[[45, 56, 67, 78],\n",
       " 7,\n",
       " 6,\n",
       " 5,\n",
       " 4,\n",
       " 'h',\n",
       " 's',\n",
       " 'e',\n",
       " 'v',\n",
       " 'r',\n",
       " 'a',\n",
       " 'S',\n",
       " ['Sarvesh', 'Somnath', 'Deshmukh', 1, 2, 3, [4, 5, 6]],\n",
       " True]"
      ]
     },
     "execution_count": 81,
     "metadata": {},
     "output_type": "execute_result"
    }
   ],
   "source": [
    "lists"
   ]
  },
  {
   "cell_type": "code",
   "execution_count": 83,
   "id": "979e9fc0-adcb-4e9f-9327-fb5f06207ae6",
   "metadata": {},
   "outputs": [
    {
     "data": {
      "text/plain": [
       "True"
      ]
     },
     "execution_count": 83,
     "metadata": {},
     "output_type": "execute_result"
    }
   ],
   "source": [
    "lists.pop()"
   ]
  },
  {
   "cell_type": "code",
   "execution_count": 84,
   "id": "0c01006d-44d9-4067-85ae-5bb96de9743b",
   "metadata": {},
   "outputs": [
    {
     "data": {
      "text/plain": [
       "['Sarvesh', 'Somnath', 'Deshmukh', 1, 2, 3, [4, 5, 6]]"
      ]
     },
     "execution_count": 84,
     "metadata": {},
     "output_type": "execute_result"
    }
   ],
   "source": [
    "lists.pop()"
   ]
  },
  {
   "cell_type": "code",
   "execution_count": 85,
   "id": "a688dbb2-f381-48a0-8ed0-fa51ff464c35",
   "metadata": {},
   "outputs": [
    {
     "data": {
      "text/plain": [
       "6"
      ]
     },
     "execution_count": 85,
     "metadata": {},
     "output_type": "execute_result"
    }
   ],
   "source": [
    "lists.pop(2)"
   ]
  },
  {
   "cell_type": "code",
   "execution_count": 89,
   "id": "1ab14bfd-80bb-4e2d-a5bd-ed26d82487b4",
   "metadata": {},
   "outputs": [
    {
     "data": {
      "text/plain": [
       "1"
      ]
     },
     "execution_count": 89,
     "metadata": {},
     "output_type": "execute_result"
    }
   ],
   "source": [
    "lists.count(4)"
   ]
  },
  {
   "cell_type": "code",
   "execution_count": 88,
   "id": "646958da-a2f4-4484-8124-16675248dd81",
   "metadata": {},
   "outputs": [
    {
     "data": {
      "text/plain": [
       "[[45, 56, 67, 78], 7, 5, 4, 'h', 's', 'e', 'v', 'r', 'a', 'S']"
      ]
     },
     "execution_count": 88,
     "metadata": {},
     "output_type": "execute_result"
    }
   ],
   "source": [
    "lists"
   ]
  },
  {
   "cell_type": "code",
   "execution_count": 90,
   "id": "47d2f8e5-cb4b-4a8b-b36f-e52dff0aa425",
   "metadata": {},
   "outputs": [
    {
     "data": {
      "text/plain": [
       "[[45, 56, 67, 78], 7, 5, 4, 'h', 's', 'e', 'v', 'r', 'a', 'S']"
      ]
     },
     "execution_count": 90,
     "metadata": {},
     "output_type": "execute_result"
    }
   ],
   "source": [
    "lists.copy()"
   ]
  },
  {
   "cell_type": "code",
   "execution_count": 95,
   "id": "c92b03b9-b90b-47bd-a6e3-9c020c5ac813",
   "metadata": {},
   "outputs": [],
   "source": [
    "lists.remove(\"a\")"
   ]
  },
  {
   "cell_type": "code",
   "execution_count": 96,
   "id": "50685ba5-734f-4ca1-b564-037005d25779",
   "metadata": {},
   "outputs": [
    {
     "data": {
      "text/plain": [
       "[[45, 56, 67, 78], 7, 5, 4, 'h', 's', 'e', 'v', 'r', 'S']"
      ]
     },
     "execution_count": 96,
     "metadata": {},
     "output_type": "execute_result"
    }
   ],
   "source": [
    "lists"
   ]
  },
  {
   "cell_type": "code",
   "execution_count": 101,
   "id": "4eb1c89a-d21c-48d4-be34-8a95eb77ddcc",
   "metadata": {},
   "outputs": [],
   "source": [
    "listpart = lists[0].remove(78)"
   ]
  },
  {
   "cell_type": "code",
   "execution_count": 102,
   "id": "e85579f4-806c-463b-8f35-1e53b2da3611",
   "metadata": {},
   "outputs": [],
   "source": [
    "listpart"
   ]
  },
  {
   "cell_type": "code",
   "execution_count": null,
   "id": "f33a5eb7-ba5f-4b3c-9cca-5e402e9890c3",
   "metadata": {},
   "outputs": [],
   "source": []
  },
  {
   "cell_type": "code",
   "execution_count": 104,
   "id": "c16eba8a-e4bf-4c40-8f6e-80fb18f74915",
   "metadata": {},
   "outputs": [],
   "source": [
    "listpart"
   ]
  },
  {
   "cell_type": "code",
   "execution_count": 105,
   "id": "2260236c-60f1-40a7-84f2-22668400e42d",
   "metadata": {},
   "outputs": [
    {
     "data": {
      "text/plain": [
       "[[45, 67], 7, 5, 4, 'h', 's', 'e', 'v', 'r', 'S']"
      ]
     },
     "execution_count": 105,
     "metadata": {},
     "output_type": "execute_result"
    }
   ],
   "source": [
    "lists"
   ]
  },
  {
   "cell_type": "code",
   "execution_count": 108,
   "id": "9c46ba1f-2145-4798-bdf6-225eada9e42f",
   "metadata": {},
   "outputs": [],
   "source": [
    "lists.remove(\"s\")"
   ]
  },
  {
   "cell_type": "code",
   "execution_count": 109,
   "id": "819f673a-5a54-4865-af5f-e432e0682cd6",
   "metadata": {},
   "outputs": [],
   "source": [
    "lists.reverse()"
   ]
  },
  {
   "cell_type": "code",
   "execution_count": 110,
   "id": "1df890f0-3e42-4be7-bd61-e54d56ea46a5",
   "metadata": {},
   "outputs": [
    {
     "data": {
      "text/plain": [
       "[3, 4, 5]"
      ]
     },
     "execution_count": 110,
     "metadata": {},
     "output_type": "execute_result"
    }
   ],
   "source": [
    "l1"
   ]
  },
  {
   "cell_type": "code",
   "execution_count": 111,
   "id": "89cc3944-1723-4c6d-a628-ae85246fd3e5",
   "metadata": {},
   "outputs": [],
   "source": [
    "lists.reverse()"
   ]
  },
  {
   "cell_type": "code",
   "execution_count": 112,
   "id": "f7688d5e-6f82-4757-9ee4-2fe278aa3b0a",
   "metadata": {},
   "outputs": [
    {
     "data": {
      "text/plain": [
       "[[45, 67], 7, 5, 4, 'h', 'e', 'v', 'r', 'S']"
      ]
     },
     "execution_count": 112,
     "metadata": {},
     "output_type": "execute_result"
    }
   ],
   "source": [
    "lists"
   ]
  },
  {
   "cell_type": "code",
   "execution_count": 113,
   "id": "45bcd050-0e48-4d7e-853c-40ca31022e40",
   "metadata": {},
   "outputs": [],
   "source": [
    "lists.reverse()"
   ]
  },
  {
   "cell_type": "code",
   "execution_count": 114,
   "id": "17345729-66fa-42dd-831f-51bbe330cd58",
   "metadata": {},
   "outputs": [
    {
     "data": {
      "text/plain": [
       "['S', 'r', 'v', 'e', 'h', 4, 5, 7, [45, 67]]"
      ]
     },
     "execution_count": 114,
     "metadata": {},
     "output_type": "execute_result"
    }
   ],
   "source": [
    "lists"
   ]
  },
  {
   "cell_type": "code",
   "execution_count": 115,
   "id": "17fb2f57-9ba3-4161-bce1-21a943a21a60",
   "metadata": {},
   "outputs": [
    {
     "data": {
      "text/plain": [
       "[[45, 67], 7, 5, 4, 'h', 'e', 'v', 'r', 'S']"
      ]
     },
     "execution_count": 115,
     "metadata": {},
     "output_type": "execute_result"
    }
   ],
   "source": [
    "lists[::-1]"
   ]
  },
  {
   "cell_type": "code",
   "execution_count": 116,
   "id": "ec8f4f33-02de-48d1-98a3-c35797efea25",
   "metadata": {},
   "outputs": [
    {
     "ename": "SyntaxError",
     "evalue": "invalid syntax (920790288.py, line 1)",
     "output_type": "error",
     "traceback": [
      "\u001b[0;36m  Cell \u001b[0;32mIn[116], line 1\u001b[0;36m\u001b[0m\n\u001b[0;31m    lists.sort(1:-2)\u001b[0m\n\u001b[0m                ^\u001b[0m\n\u001b[0;31mSyntaxError\u001b[0m\u001b[0;31m:\u001b[0m invalid syntax\n"
     ]
    }
   ],
   "source": [
    "lists.sort()"
   ]
  },
  {
   "cell_type": "code",
   "execution_count": 117,
   "id": "d721c7eb-5fb3-4d9b-9ad7-e4a298825fda",
   "metadata": {},
   "outputs": [],
   "source": [
    "l1.sort()"
   ]
  },
  {
   "cell_type": "code",
   "execution_count": 2,
   "id": "c3fb1b3d-b8ba-482e-83ea-6e72a8a8c2cb",
   "metadata": {},
   "outputs": [
    {
     "ename": "NameError",
     "evalue": "name 'l1' is not defined",
     "output_type": "error",
     "traceback": [
      "\u001b[0;31m---------------------------------------------------------------------------\u001b[0m",
      "\u001b[0;31mNameError\u001b[0m                                 Traceback (most recent call last)",
      "Cell \u001b[0;32mIn[2], line 1\u001b[0m\n\u001b[0;32m----> 1\u001b[0m \u001b[43ml1\u001b[49m\n",
      "\u001b[0;31mNameError\u001b[0m: name 'l1' is not defined"
     ]
    }
   ],
   "source": [
    "l1"
   ]
  },
  {
   "cell_type": "code",
   "execution_count": 1,
   "id": "0a00433c-3f90-46a7-8078-a6bab2d9f693",
   "metadata": {},
   "outputs": [
    {
     "ename": "NameError",
     "evalue": "name 'l1' is not defined",
     "output_type": "error",
     "traceback": [
      "\u001b[0;31m---------------------------------------------------------------------------\u001b[0m",
      "\u001b[0;31mNameError\u001b[0m                                 Traceback (most recent call last)",
      "Cell \u001b[0;32mIn[1], line 1\u001b[0m\n\u001b[0;32m----> 1\u001b[0m \u001b[43ml1\u001b[49m\u001b[38;5;241m.\u001b[39msort()\n",
      "\u001b[0;31mNameError\u001b[0m: name 'l1' is not defined"
     ]
    }
   ],
   "source": [
    "l.sort()"
   ]
  },
  {
   "cell_type": "code",
   "execution_count": 3,
   "id": "f9847363-d36a-4859-bbce-2aecc8857459",
   "metadata": {},
   "outputs": [],
   "source": [
    "l2 = [\"A\",\"B\",'C']"
   ]
  },
  {
   "cell_type": "code",
   "execution_count": 4,
   "id": "8a92295b-034d-491f-8ddd-f3df7fc5a8cf",
   "metadata": {},
   "outputs": [],
   "source": [
    "l2.sort()"
   ]
  },
  {
   "cell_type": "code",
   "execution_count": 5,
   "id": "60101980-4c9f-4aec-9285-62f8398c2751",
   "metadata": {},
   "outputs": [
    {
     "data": {
      "text/plain": [
       "['A', 'B', 'C']"
      ]
     },
     "execution_count": 5,
     "metadata": {},
     "output_type": "execute_result"
    }
   ],
   "source": [
    "l2"
   ]
  },
  {
   "cell_type": "code",
   "execution_count": 8,
   "id": "415504e8-bcdb-452a-911d-81c07f546d9e",
   "metadata": {},
   "outputs": [],
   "source": [
    "l2.sort(reverse=True)"
   ]
  },
  {
   "cell_type": "code",
   "execution_count": 9,
   "id": "3213942b-2d97-45c7-a8a5-bf19cd2d67ca",
   "metadata": {},
   "outputs": [
    {
     "data": {
      "text/plain": [
       "['C', 'B', 'A']"
      ]
     },
     "execution_count": 9,
     "metadata": {},
     "output_type": "execute_result"
    }
   ],
   "source": [
    "l2"
   ]
  },
  {
   "cell_type": "code",
   "execution_count": 11,
   "id": "51be5ebd-dc6f-4f50-916a-7d7300820e7d",
   "metadata": {},
   "outputs": [
    {
     "data": {
      "text/plain": [
       "1"
      ]
     },
     "execution_count": 11,
     "metadata": {},
     "output_type": "execute_result"
    }
   ],
   "source": [
    "l2.count('A')"
   ]
  },
  {
   "cell_type": "code",
   "execution_count": 13,
   "id": "7a4c7d61-1f8c-4697-9530-40aa219ae659",
   "metadata": {},
   "outputs": [
    {
     "data": {
      "text/plain": [
       "0"
      ]
     },
     "execution_count": 13,
     "metadata": {},
     "output_type": "execute_result"
    }
   ],
   "source": [
    "l2.count('')"
   ]
  },
  {
   "cell_type": "code",
   "execution_count": 14,
   "id": "6427da46-df2c-4808-80fb-0f78120f1a93",
   "metadata": {},
   "outputs": [],
   "source": [
    "s =\"Sarvesh\""
   ]
  },
  {
   "cell_type": "code",
   "execution_count": 16,
   "id": "15955196-10e8-4973-929c-50c8455fa671",
   "metadata": {},
   "outputs": [],
   "source": [
    "l5 = [3,2,4,2]"
   ]
  },
  {
   "cell_type": "code",
   "execution_count": 17,
   "id": "6bd50932-bb6d-4e36-99c8-4026534e7eef",
   "metadata": {},
   "outputs": [
    {
     "ename": "TypeError",
     "evalue": "'str' object does not support item assignment",
     "output_type": "error",
     "traceback": [
      "\u001b[0;31m---------------------------------------------------------------------------\u001b[0m",
      "\u001b[0;31mTypeError\u001b[0m                                 Traceback (most recent call last)",
      "Cell \u001b[0;32mIn[17], line 1\u001b[0m\n\u001b[0;32m----> 1\u001b[0m \u001b[43ms\u001b[49m\u001b[43m[\u001b[49m\u001b[38;5;241;43m0\u001b[39;49m\u001b[43m]\u001b[49m \u001b[38;5;241m=\u001b[39m \u001b[38;5;124m\"\u001b[39m\u001b[38;5;124mV\u001b[39m\u001b[38;5;124m\"\u001b[39m\n",
      "\u001b[0;31mTypeError\u001b[0m: 'str' object does not support item assignment"
     ]
    }
   ],
   "source": [
    "s[0] = \"V\""
   ]
  },
  {
   "cell_type": "code",
   "execution_count": 18,
   "id": "2492cb72-2729-4a15-b59b-f44e596b8610",
   "metadata": {},
   "outputs": [],
   "source": [
    "l5[-1] = 4"
   ]
  },
  {
   "cell_type": "code",
   "execution_count": 19,
   "id": "348df790-e956-46ca-a610-d9d25283063a",
   "metadata": {},
   "outputs": [
    {
     "data": {
      "text/plain": [
       "[3, 2, 4, 4]"
      ]
     },
     "execution_count": 19,
     "metadata": {},
     "output_type": "execute_result"
    }
   ],
   "source": [
    "l5"
   ]
  },
  {
   "cell_type": "code",
   "execution_count": 21,
   "id": "a97a6d34-dd2c-4029-b7bb-68eb659b2455",
   "metadata": {},
   "outputs": [
    {
     "data": {
      "text/plain": [
       "'SarveSh'"
      ]
     },
     "execution_count": 21,
     "metadata": {},
     "output_type": "execute_result"
    }
   ],
   "source": [
    "s.replace(\"s\",\"S\")"
   ]
  },
  {
   "cell_type": "code",
   "execution_count": 23,
   "id": "1160a2c3-c63a-4154-8451-5f379ee1c315",
   "metadata": {},
   "outputs": [
    {
     "data": {
      "text/plain": [
       "'sarvesh'"
      ]
     },
     "execution_count": 23,
     "metadata": {},
     "output_type": "execute_result"
    }
   ],
   "source": [
    "s.replace('S','s')"
   ]
  },
  {
   "cell_type": "code",
   "execution_count": 24,
   "id": "af4daadc-94d1-427d-a754-3499afc6aff3",
   "metadata": {},
   "outputs": [
    {
     "data": {
      "text/plain": [
       "'Sarvesh'"
      ]
     },
     "execution_count": 24,
     "metadata": {},
     "output_type": "execute_result"
    }
   ],
   "source": [
    "s"
   ]
  },
  {
   "cell_type": "code",
   "execution_count": 25,
   "id": "3995b933-cf48-47fe-819d-59bcc1cdb730",
   "metadata": {},
   "outputs": [],
   "source": [
    "# Tuples"
   ]
  },
  {
   "cell_type": "code",
   "execution_count": 26,
   "id": "bac1363b-61b5-49ee-b3db-148a1ecec19d",
   "metadata": {},
   "outputs": [],
   "source": [
    "t = (1,2,3,4)"
   ]
  },
  {
   "cell_type": "code",
   "execution_count": 27,
   "id": "d4416928-6f47-4ea0-be30-44f06d54de56",
   "metadata": {},
   "outputs": [
    {
     "data": {
      "text/plain": [
       "(1, 2, 3, 4)"
      ]
     },
     "execution_count": 27,
     "metadata": {},
     "output_type": "execute_result"
    }
   ],
   "source": [
    "t"
   ]
  },
  {
   "cell_type": "code",
   "execution_count": 28,
   "id": "1c698884-6a89-4402-b112-b5ac803b8472",
   "metadata": {},
   "outputs": [],
   "source": [
    "t = (False)"
   ]
  },
  {
   "cell_type": "code",
   "execution_count": 29,
   "id": "2bdab928-6304-40c0-899b-e4450916fa45",
   "metadata": {},
   "outputs": [
    {
     "data": {
      "text/plain": [
       "False"
      ]
     },
     "execution_count": 29,
     "metadata": {},
     "output_type": "execute_result"
    }
   ],
   "source": [
    "t"
   ]
  },
  {
   "cell_type": "code",
   "execution_count": 33,
   "id": "0f090c60-e65c-40b2-8051-1461b8077b08",
   "metadata": {},
   "outputs": [],
   "source": [
    "t = (1,2,3,[7,8,9],\"ADa\",True,False,1)"
   ]
  },
  {
   "cell_type": "code",
   "execution_count": 34,
   "id": "531d6324-f2b7-4e84-b9d8-20978c79a9f1",
   "metadata": {},
   "outputs": [
    {
     "data": {
      "text/plain": [
       "(1, 2, 3, [7, 8, 9], 'ADa', True, False, 1)"
      ]
     },
     "execution_count": 34,
     "metadata": {},
     "output_type": "execute_result"
    }
   ],
   "source": [
    "t"
   ]
  },
  {
   "cell_type": "code",
   "execution_count": 35,
   "id": "a5ee1ffc-6f9f-457d-8d7d-df9369fda678",
   "metadata": {},
   "outputs": [
    {
     "data": {
      "text/plain": [
       "tuple"
      ]
     },
     "execution_count": 35,
     "metadata": {},
     "output_type": "execute_result"
    }
   ],
   "source": [
    "type(t)"
   ]
  },
  {
   "cell_type": "code",
   "execution_count": 36,
   "id": "38d4dc38-55cc-439b-a2a8-1bf148666f21",
   "metadata": {},
   "outputs": [
    {
     "data": {
      "text/plain": [
       "8"
      ]
     },
     "execution_count": 36,
     "metadata": {},
     "output_type": "execute_result"
    }
   ],
   "source": [
    "len(t)"
   ]
  },
  {
   "cell_type": "code",
   "execution_count": 37,
   "id": "eb56254e-9c3b-4365-adc5-7165ebf40138",
   "metadata": {},
   "outputs": [
    {
     "data": {
      "text/plain": [
       "(1, False, True, 'ADa', [7, 8, 9], 3, 2, 1)"
      ]
     },
     "execution_count": 37,
     "metadata": {},
     "output_type": "execute_result"
    }
   ],
   "source": [
    "t[::-1]"
   ]
  },
  {
   "cell_type": "code",
   "execution_count": 38,
   "id": "7f40c49b-6951-4838-ac0a-5bb35c63c113",
   "metadata": {},
   "outputs": [
    {
     "data": {
      "text/plain": [
       "3"
      ]
     },
     "execution_count": 38,
     "metadata": {},
     "output_type": "execute_result"
    }
   ],
   "source": [
    "t.count(1)"
   ]
  },
  {
   "cell_type": "code",
   "execution_count": 40,
   "id": "77876b1d-dd97-47a1-88f9-913dc787b8fc",
   "metadata": {},
   "outputs": [
    {
     "data": {
      "text/plain": [
       "2"
      ]
     },
     "execution_count": 40,
     "metadata": {},
     "output_type": "execute_result"
    }
   ],
   "source": [
    "t.index(3)"
   ]
  },
  {
   "cell_type": "code",
   "execution_count": 42,
   "id": "0885ec4b-064f-4f93-9642-69e48f8bb6bc",
   "metadata": {},
   "outputs": [],
   "source": [
    "# tuple is immutable"
   ]
  },
  {
   "cell_type": "code",
   "execution_count": 44,
   "id": "b4d9b0a5-12c1-4b42-853a-01e69a53a221",
   "metadata": {},
   "outputs": [],
   "source": [
    "# Tuple is used where data is not changed that should be permanant"
   ]
  },
  {
   "cell_type": "code",
   "execution_count": 45,
   "id": "188c3f3a-1a29-4671-b7d3-f6739553445f",
   "metadata": {},
   "outputs": [
    {
     "data": {
      "text/plain": [
       "(1, 'ADa')"
      ]
     },
     "execution_count": 45,
     "metadata": {},
     "output_type": "execute_result"
    }
   ],
   "source": [
    "t[0::4]"
   ]
  },
  {
   "cell_type": "code",
   "execution_count": 46,
   "id": "8bf92569-3cbd-4450-b63c-d4270479444f",
   "metadata": {},
   "outputs": [
    {
     "data": {
      "text/plain": [
       "(1, 2, 3, [7, 8, 9], 'ADa', True, False, 1)"
      ]
     },
     "execution_count": 46,
     "metadata": {},
     "output_type": "execute_result"
    }
   ],
   "source": [
    "t"
   ]
  },
  {
   "cell_type": "code",
   "execution_count": 47,
   "id": "23fed4c1-c374-4468-9654-d368a2012493",
   "metadata": {},
   "outputs": [
    {
     "data": {
      "text/plain": [
       "1"
      ]
     },
     "execution_count": 47,
     "metadata": {},
     "output_type": "execute_result"
    }
   ],
   "source": [
    "t.count(2)"
   ]
  },
  {
   "cell_type": "code",
   "execution_count": 48,
   "id": "4650a2d7-f221-48d6-ad5b-044e2a658fc9",
   "metadata": {},
   "outputs": [
    {
     "data": {
      "text/plain": [
       "6"
      ]
     },
     "execution_count": 48,
     "metadata": {},
     "output_type": "execute_result"
    }
   ],
   "source": [
    "t.index(False)"
   ]
  },
  {
   "cell_type": "code",
   "execution_count": 1,
   "id": "d18b762b-9a5b-45a8-8155-9748da88babb",
   "metadata": {},
   "outputs": [],
   "source": [
    "# Set"
   ]
  },
  {
   "cell_type": "code",
   "execution_count": 2,
   "id": "64048eba-7ebe-4af1-bd8a-26e5f51abf0c",
   "metadata": {},
   "outputs": [],
   "source": [
    "s1 = {}"
   ]
  },
  {
   "cell_type": "code",
   "execution_count": 3,
   "id": "1ecb7664-c711-40ad-b290-7d87c07a8f74",
   "metadata": {},
   "outputs": [
    {
     "data": {
      "text/plain": [
       "dict"
      ]
     },
     "execution_count": 3,
     "metadata": {},
     "output_type": "execute_result"
    }
   ],
   "source": [
    "type(s1)"
   ]
  },
  {
   "cell_type": "code",
   "execution_count": 4,
   "id": "71881427-de5a-47c3-b52b-ac9ed08e90de",
   "metadata": {},
   "outputs": [],
   "source": [
    "s1 = {2,3,4,5}"
   ]
  },
  {
   "cell_type": "code",
   "execution_count": 5,
   "id": "0c822819-27d3-4f20-9634-867e0b59db73",
   "metadata": {},
   "outputs": [
    {
     "data": {
      "text/plain": [
       "set"
      ]
     },
     "execution_count": 5,
     "metadata": {},
     "output_type": "execute_result"
    }
   ],
   "source": [
    "type(s1)"
   ]
  },
  {
   "cell_type": "code",
   "execution_count": 6,
   "id": "e4d730f2-a2d3-4f6c-9b07-eaca05548924",
   "metadata": {},
   "outputs": [],
   "source": [
    "s1.add(34)"
   ]
  },
  {
   "cell_type": "code",
   "execution_count": 7,
   "id": "cb6141c8-ef6d-491c-8db3-d00639494d80",
   "metadata": {},
   "outputs": [
    {
     "data": {
      "text/plain": [
       "{2, 3, 4, 5, 34}"
      ]
     },
     "execution_count": 7,
     "metadata": {},
     "output_type": "execute_result"
    }
   ],
   "source": [
    "s1"
   ]
  },
  {
   "cell_type": "code",
   "execution_count": 19,
   "id": "18e45082-ec1a-4a56-8507-09e0dfcfaf7c",
   "metadata": {},
   "outputs": [],
   "source": [
    "s1.add(3+5j)\n",
    "s1.remove(3+5j)"
   ]
  },
  {
   "cell_type": "code",
   "execution_count": 9,
   "id": "d402a283-8b11-4fdc-a91a-d534dc44c6fb",
   "metadata": {},
   "outputs": [],
   "source": [
    "# We can store only store the primitive elemen in set"
   ]
  },
  {
   "cell_type": "code",
   "execution_count": 10,
   "id": "f1251fee-b935-43da-838d-5392880b1cdf",
   "metadata": {},
   "outputs": [],
   "source": [
    "# Set is immutalble"
   ]
  },
  {
   "cell_type": "code",
   "execution_count": 11,
   "id": "a284473d-190a-4854-8882-705ceb8ece74",
   "metadata": {},
   "outputs": [],
   "source": [
    "s2 = {1,2,3,5,5,6,67,6,6,7,56,4,53,4,34,46,67,78,768768,56,9}"
   ]
  },
  {
   "cell_type": "code",
   "execution_count": 12,
   "id": "b4b95f78-5df1-4f94-b526-9c677a0472cd",
   "metadata": {},
   "outputs": [
    {
     "data": {
      "text/plain": [
       "15"
      ]
     },
     "execution_count": 12,
     "metadata": {},
     "output_type": "execute_result"
    }
   ],
   "source": [
    "len(s2)"
   ]
  },
  {
   "cell_type": "code",
   "execution_count": 13,
   "id": "67ca5243-affc-416a-8ab2-5fa66e7b5259",
   "metadata": {},
   "outputs": [
    {
     "data": {
      "text/plain": [
       "{1, 2, 3, 4, 5, 6, 7, 9, 34, 46, 53, 56, 67, 78, 768768}"
      ]
     },
     "execution_count": 13,
     "metadata": {},
     "output_type": "execute_result"
    }
   ],
   "source": [
    "s2"
   ]
  },
  {
   "cell_type": "code",
   "execution_count": 26,
   "id": "ba7653b6-ac15-4682-9547-2f6d6a4e2fd0",
   "metadata": {},
   "outputs": [],
   "source": [
    "# Set store the unique element and it is unordered collection"
   ]
  },
  {
   "cell_type": "code",
   "execution_count": 27,
   "id": "3ca402c9-dd2b-4d49-a9b3-661ee25cf651",
   "metadata": {},
   "outputs": [],
   "source": [
    "s2.add(1)"
   ]
  },
  {
   "cell_type": "code",
   "execution_count": 28,
   "id": "79b94eab-ee49-4747-91ee-a04c5bb25b39",
   "metadata": {},
   "outputs": [
    {
     "data": {
      "text/plain": [
       "{1, 2, 3, 4, 5, 6, 7, 9, 34, 46, 53, 56, 67, 78, 768768}"
      ]
     },
     "execution_count": 28,
     "metadata": {},
     "output_type": "execute_result"
    }
   ],
   "source": [
    "s2"
   ]
  },
  {
   "cell_type": "code",
   "execution_count": 35,
   "id": "c2471f80-c3c0-47c8-bbcd-7fc70b21de2f",
   "metadata": {},
   "outputs": [],
   "source": [
    "s3 = {12,2,20,23,34,45,44,23,45,\"gfdsg\",4534,56,34}"
   ]
  },
  {
   "cell_type": "code",
   "execution_count": 36,
   "id": "93fb559e-6e00-4b19-a857-b27ecdda9e56",
   "metadata": {},
   "outputs": [
    {
     "data": {
      "text/plain": [
       "{12, 2, 20, 23, 34, 44, 45, 4534, 56, 'gfdsg'}"
      ]
     },
     "execution_count": 36,
     "metadata": {},
     "output_type": "execute_result"
    }
   ],
   "source": [
    "s3"
   ]
  },
  {
   "cell_type": "code",
   "execution_count": 37,
   "id": "85e0eb36-6c71-415a-a1e4-402b18aa8b70",
   "metadata": {},
   "outputs": [],
   "source": [
    "# slicing operation and indexing work is worked"
   ]
  },
  {
   "cell_type": "code",
   "execution_count": 38,
   "id": "5db249c7-e9cd-48d1-a49b-d2e330b27cdf",
   "metadata": {},
   "outputs": [
    {
     "data": {
      "text/plain": [
       "{1, 3, 4, 5, 6, 7, 9, 46, 53, 67, 78, 768768}"
      ]
     },
     "execution_count": 38,
     "metadata": {},
     "output_type": "execute_result"
    }
   ],
   "source": [
    "s2.difference(s3)"
   ]
  },
  {
   "cell_type": "code",
   "execution_count": 39,
   "id": "92ee5666-e6c2-40c6-8547-d0695f732bcd",
   "metadata": {},
   "outputs": [
    {
     "data": {
      "text/plain": [
       "{1, 2, 3, 4, 5, 6, 7, 9, 34, 46, 53, 56, 67, 78, 768768}"
      ]
     },
     "execution_count": 39,
     "metadata": {},
     "output_type": "execute_result"
    }
   ],
   "source": [
    "s2.intersection(s2)"
   ]
  },
  {
   "cell_type": "code",
   "execution_count": 40,
   "id": "6a5abb67-6850-4ed3-aeb2-1c052ea621e6",
   "metadata": {},
   "outputs": [
    {
     "data": {
      "text/plain": [
       "True"
      ]
     },
     "execution_count": 40,
     "metadata": {},
     "output_type": "execute_result"
    }
   ],
   "source": [
    "s2.issuperset(s2)"
   ]
  },
  {
   "cell_type": "code",
   "execution_count": 41,
   "id": "6c318513-c1de-4c76-a9e9-2024c514f563",
   "metadata": {},
   "outputs": [],
   "source": [
    "s2.clear()"
   ]
  },
  {
   "cell_type": "code",
   "execution_count": 42,
   "id": "46aa94b3-2432-4527-bfc3-fc7a30ca84c2",
   "metadata": {},
   "outputs": [
    {
     "data": {
      "text/plain": [
       "set()"
      ]
     },
     "execution_count": 42,
     "metadata": {},
     "output_type": "execute_result"
    }
   ],
   "source": [
    "s2"
   ]
  },
  {
   "cell_type": "code",
   "execution_count": 43,
   "id": "2cda3088-6447-441b-9dfa-5d7fdf38b7c0",
   "metadata": {},
   "outputs": [
    {
     "data": {
      "text/plain": [
       "set"
      ]
     },
     "execution_count": 43,
     "metadata": {},
     "output_type": "execute_result"
    }
   ],
   "source": [
    "type(s2)"
   ]
  },
  {
   "cell_type": "code",
   "execution_count": null,
   "id": "e6586ef9-a0cc-4528-8bb5-491c66cac9de",
   "metadata": {},
   "outputs": [],
   "source": []
  }
 ],
 "metadata": {
  "kernelspec": {
   "display_name": "Python 3 (ipykernel)",
   "language": "python",
   "name": "python3"
  },
  "language_info": {
   "codemirror_mode": {
    "name": "ipython",
    "version": 3
   },
   "file_extension": ".py",
   "mimetype": "text/x-python",
   "name": "python",
   "nbconvert_exporter": "python",
   "pygments_lexer": "ipython3",
   "version": "3.10.8"
  }
 },
 "nbformat": 4,
 "nbformat_minor": 5
}
